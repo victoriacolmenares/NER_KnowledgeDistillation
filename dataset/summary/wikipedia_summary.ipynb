{
  "cells": [
    {
      "cell_type": "code",
      "execution_count": 1,
      "metadata": {
        "colab": {
          "base_uri": "https://localhost:8080/"
        },
        "id": "TSMrYsy7AvIv",
        "outputId": "8c64cf40-8222-44da-d1f1-cce8d70b454b"
      },
      "outputs": [
        {
          "name": "stdout",
          "output_type": "stream",
          "text": [
            "Drive already mounted at /content/drive; to attempt to forcibly remount, call drive.mount(\"/content/drive\", force_remount=True).\n"
          ]
        }
      ],
      "source": [
        "from google.colab import drive\n",
        "drive.mount('/content/drive')"
      ]
    },
    {
      "cell_type": "code",
      "execution_count": 2,
      "metadata": {
        "colab": {
          "base_uri": "https://localhost:8080/"
        },
        "collapsed": true,
        "id": "jSA5u2a2zLVQ",
        "outputId": "3e3c521b-4c77-4dff-bfba-1b29e9c37e60"
      },
      "outputs": [
        {
          "name": "stdout",
          "output_type": "stream",
          "text": [
            "Requirement already satisfied: datasets in /usr/local/lib/python3.10/dist-packages (2.20.0)\n",
            "Requirement already satisfied: vllm in /usr/local/lib/python3.10/dist-packages (0.5.2)\n",
            "Requirement already satisfied: filelock in /usr/local/lib/python3.10/dist-packages (from datasets) (3.15.4)\n",
            "Requirement already satisfied: numpy>=1.17 in /usr/local/lib/python3.10/dist-packages (from datasets) (1.25.2)\n",
            "Requirement already satisfied: pyarrow>=15.0.0 in /usr/local/lib/python3.10/dist-packages (from datasets) (17.0.0)\n",
            "Requirement already satisfied: pyarrow-hotfix in /usr/local/lib/python3.10/dist-packages (from datasets) (0.6)\n",
            "Requirement already satisfied: dill<0.3.9,>=0.3.0 in /usr/local/lib/python3.10/dist-packages (from datasets) (0.3.8)\n",
            "Requirement already satisfied: pandas in /usr/local/lib/python3.10/dist-packages (from datasets) (2.0.3)\n",
            "Requirement already satisfied: requests>=2.32.2 in /usr/local/lib/python3.10/dist-packages (from datasets) (2.32.3)\n",
            "Requirement already satisfied: tqdm>=4.66.3 in /usr/local/lib/python3.10/dist-packages (from datasets) (4.66.4)\n",
            "Requirement already satisfied: xxhash in /usr/local/lib/python3.10/dist-packages (from datasets) (3.4.1)\n",
            "Requirement already satisfied: multiprocess in /usr/local/lib/python3.10/dist-packages (from datasets) (0.70.16)\n",
            "Requirement already satisfied: fsspec[http]<=2024.5.0,>=2023.1.0 in /usr/local/lib/python3.10/dist-packages (from datasets) (2023.6.0)\n",
            "Requirement already satisfied: aiohttp in /usr/local/lib/python3.10/dist-packages (from datasets) (3.9.5)\n",
            "Requirement already satisfied: huggingface-hub>=0.21.2 in /usr/local/lib/python3.10/dist-packages (from datasets) (0.23.5)\n",
            "Requirement already satisfied: packaging in /usr/local/lib/python3.10/dist-packages (from datasets) (24.1)\n",
            "Requirement already satisfied: pyyaml>=5.1 in /usr/local/lib/python3.10/dist-packages (from datasets) (6.0.1)\n",
            "Requirement already satisfied: cmake>=3.21 in /usr/local/lib/python3.10/dist-packages (from vllm) (3.27.9)\n",
            "Requirement already satisfied: fastapi in /usr/local/lib/python3.10/dist-packages (from vllm) (0.111.1)\n",
            "Requirement already satisfied: lm-format-enforcer==0.10.3 in /usr/local/lib/python3.10/dist-packages (from vllm) (0.10.3)\n",
            "Requirement already satisfied: ninja in /usr/local/lib/python3.10/dist-packages (from vllm) (1.11.1.1)\n",
            "Requirement already satisfied: nvidia-ml-py in /usr/local/lib/python3.10/dist-packages (from vllm) (12.555.43)\n",
            "Requirement already satisfied: openai in /usr/local/lib/python3.10/dist-packages (from vllm) (1.36.0)\n",
            "Requirement already satisfied: outlines<0.1,>=0.0.43 in /usr/local/lib/python3.10/dist-packages (from vllm) (0.0.46)\n",
            "Requirement already satisfied: pillow in /usr/local/lib/python3.10/dist-packages (from vllm) (9.4.0)\n",
            "Requirement already satisfied: prometheus-fastapi-instrumentator>=7.0.0 in /usr/local/lib/python3.10/dist-packages (from vllm) (7.0.0)\n",
            "Requirement already satisfied: prometheus-client>=0.18.0 in /usr/local/lib/python3.10/dist-packages (from vllm) (0.20.0)\n",
            "Requirement already satisfied: psutil in /usr/local/lib/python3.10/dist-packages (from vllm) (5.9.5)\n",
            "Requirement already satisfied: py-cpuinfo in /usr/local/lib/python3.10/dist-packages (from vllm) (9.0.0)\n",
            "Requirement already satisfied: pydantic>=2.0 in /usr/local/lib/python3.10/dist-packages (from vllm) (2.8.2)\n",
            "Requirement already satisfied: pyzmq in /usr/local/lib/python3.10/dist-packages (from vllm) (24.0.1)\n",
            "Requirement already satisfied: ray>=2.9 in /usr/local/lib/python3.10/dist-packages (from vllm) (2.32.0)\n",
            "Requirement already satisfied: sentencepiece in /usr/local/lib/python3.10/dist-packages (from vllm) (0.1.99)\n",
            "Requirement already satisfied: tiktoken>=0.6.0 in /usr/local/lib/python3.10/dist-packages (from vllm) (0.7.0)\n",
            "Requirement already satisfied: tokenizers>=0.19.1 in /usr/local/lib/python3.10/dist-packages (from vllm) (0.19.1)\n",
            "Requirement already satisfied: torch==2.3.1 in /usr/local/lib/python3.10/dist-packages (from vllm) (2.3.1+cu121)\n",
            "Requirement already satisfied: torchvision==0.18.1 in /usr/local/lib/python3.10/dist-packages (from vllm) (0.18.1+cu121)\n",
            "Requirement already satisfied: transformers>=4.42.4 in /usr/local/lib/python3.10/dist-packages (from vllm) (4.42.4)\n",
            "Requirement already satisfied: typing-extensions in /usr/local/lib/python3.10/dist-packages (from vllm) (4.12.2)\n",
            "Requirement already satisfied: uvicorn[standard] in /usr/local/lib/python3.10/dist-packages (from vllm) (0.30.3)\n",
            "Requirement already satisfied: vllm-flash-attn==2.5.9.post1 in /usr/local/lib/python3.10/dist-packages (from vllm) (2.5.9.post1)\n",
            "Requirement already satisfied: xformers==0.0.27 in /usr/local/lib/python3.10/dist-packages (from vllm) (0.0.27)\n",
            "Requirement already satisfied: interegular>=0.3.2 in /usr/local/lib/python3.10/dist-packages (from lm-format-enforcer==0.10.3->vllm) (0.3.3)\n",
            "Requirement already satisfied: sympy in /usr/local/lib/python3.10/dist-packages (from torch==2.3.1->vllm) (1.13.0)\n",
            "Requirement already satisfied: networkx in /usr/local/lib/python3.10/dist-packages (from torch==2.3.1->vllm) (3.3)\n",
            "Requirement already satisfied: jinja2 in /usr/local/lib/python3.10/dist-packages (from torch==2.3.1->vllm) (3.1.4)\n",
            "Requirement already satisfied: nvidia-cuda-nvrtc-cu12==12.1.105 in /usr/local/lib/python3.10/dist-packages (from torch==2.3.1->vllm) (12.1.105)\n",
            "Requirement already satisfied: nvidia-cuda-runtime-cu12==12.1.105 in /usr/local/lib/python3.10/dist-packages (from torch==2.3.1->vllm) (12.1.105)\n",
            "Requirement already satisfied: nvidia-cuda-cupti-cu12==12.1.105 in /usr/local/lib/python3.10/dist-packages (from torch==2.3.1->vllm) (12.1.105)\n",
            "Requirement already satisfied: nvidia-cudnn-cu12==8.9.2.26 in /usr/local/lib/python3.10/dist-packages (from torch==2.3.1->vllm) (8.9.2.26)\n",
            "Requirement already satisfied: nvidia-cublas-cu12==12.1.3.1 in /usr/local/lib/python3.10/dist-packages (from torch==2.3.1->vllm) (12.1.3.1)\n",
            "Requirement already satisfied: nvidia-cufft-cu12==11.0.2.54 in /usr/local/lib/python3.10/dist-packages (from torch==2.3.1->vllm) (11.0.2.54)\n",
            "Requirement already satisfied: nvidia-curand-cu12==10.3.2.106 in /usr/local/lib/python3.10/dist-packages (from torch==2.3.1->vllm) (10.3.2.106)\n",
            "Requirement already satisfied: nvidia-cusolver-cu12==11.4.5.107 in /usr/local/lib/python3.10/dist-packages (from torch==2.3.1->vllm) (11.4.5.107)\n",
            "Requirement already satisfied: nvidia-cusparse-cu12==12.1.0.106 in /usr/local/lib/python3.10/dist-packages (from torch==2.3.1->vllm) (12.1.0.106)\n",
            "Requirement already satisfied: nvidia-nccl-cu12==2.20.5 in /usr/local/lib/python3.10/dist-packages (from torch==2.3.1->vllm) (2.20.5)\n",
            "Requirement already satisfied: nvidia-nvtx-cu12==12.1.105 in /usr/local/lib/python3.10/dist-packages (from torch==2.3.1->vllm) (12.1.105)\n",
            "Requirement already satisfied: triton==2.3.1 in /usr/local/lib/python3.10/dist-packages (from torch==2.3.1->vllm) (2.3.1)\n",
            "Requirement already satisfied: nvidia-nvjitlink-cu12 in /usr/local/lib/python3.10/dist-packages (from nvidia-cusolver-cu12==11.4.5.107->torch==2.3.1->vllm) (12.5.82)\n",
            "Requirement already satisfied: aiosignal>=1.1.2 in /usr/local/lib/python3.10/dist-packages (from aiohttp->datasets) (1.3.1)\n",
            "Requirement already satisfied: attrs>=17.3.0 in /usr/local/lib/python3.10/dist-packages (from aiohttp->datasets) (23.2.0)\n",
            "Requirement already satisfied: frozenlist>=1.1.1 in /usr/local/lib/python3.10/dist-packages (from aiohttp->datasets) (1.4.1)\n",
            "Requirement already satisfied: multidict<7.0,>=4.5 in /usr/local/lib/python3.10/dist-packages (from aiohttp->datasets) (6.0.5)\n",
            "Requirement already satisfied: yarl<2.0,>=1.0 in /usr/local/lib/python3.10/dist-packages (from aiohttp->datasets) (1.9.4)\n",
            "Requirement already satisfied: async-timeout<5.0,>=4.0 in /usr/local/lib/python3.10/dist-packages (from aiohttp->datasets) (4.0.3)\n",
            "Requirement already satisfied: lark in /usr/local/lib/python3.10/dist-packages (from outlines<0.1,>=0.0.43->vllm) (1.1.9)\n",
            "Requirement already satisfied: nest-asyncio in /usr/local/lib/python3.10/dist-packages (from outlines<0.1,>=0.0.43->vllm) (1.6.0)\n",
            "Requirement already satisfied: cloudpickle in /usr/local/lib/python3.10/dist-packages (from outlines<0.1,>=0.0.43->vllm) (2.2.1)\n",
            "Requirement already satisfied: diskcache in /usr/local/lib/python3.10/dist-packages (from outlines<0.1,>=0.0.43->vllm) (5.6.3)\n",
            "Requirement already satisfied: numba in /usr/local/lib/python3.10/dist-packages (from outlines<0.1,>=0.0.43->vllm) (0.58.1)\n",
            "Requirement already satisfied: referencing in /usr/local/lib/python3.10/dist-packages (from outlines<0.1,>=0.0.43->vllm) (0.35.1)\n",
            "Requirement already satisfied: jsonschema in /usr/local/lib/python3.10/dist-packages (from outlines<0.1,>=0.0.43->vllm) (4.19.2)\n",
            "Requirement already satisfied: pycountry in /usr/local/lib/python3.10/dist-packages (from outlines<0.1,>=0.0.43->vllm) (24.6.1)\n",
            "Requirement already satisfied: pyairports in /usr/local/lib/python3.10/dist-packages (from outlines<0.1,>=0.0.43->vllm) (2.1.1)\n",
            "Requirement already satisfied: starlette<1.0.0,>=0.30.0 in /usr/local/lib/python3.10/dist-packages (from prometheus-fastapi-instrumentator>=7.0.0->vllm) (0.37.2)\n",
            "Requirement already satisfied: annotated-types>=0.4.0 in /usr/local/lib/python3.10/dist-packages (from pydantic>=2.0->vllm) (0.7.0)\n",
            "Requirement already satisfied: pydantic-core==2.20.1 in /usr/local/lib/python3.10/dist-packages (from pydantic>=2.0->vllm) (2.20.1)\n",
            "Requirement already satisfied: click>=7.0 in /usr/local/lib/python3.10/dist-packages (from ray>=2.9->vllm) (8.1.7)\n",
            "Requirement already satisfied: msgpack<2.0.0,>=1.0.0 in /usr/local/lib/python3.10/dist-packages (from ray>=2.9->vllm) (1.0.8)\n",
            "Requirement already satisfied: protobuf!=3.19.5,>=3.15.3 in /usr/local/lib/python3.10/dist-packages (from ray>=2.9->vllm) (3.20.3)\n",
            "Requirement already satisfied: charset-normalizer<4,>=2 in /usr/local/lib/python3.10/dist-packages (from requests>=2.32.2->datasets) (3.3.2)\n",
            "Requirement already satisfied: idna<4,>=2.5 in /usr/local/lib/python3.10/dist-packages (from requests>=2.32.2->datasets) (3.7)\n",
            "Requirement already satisfied: urllib3<3,>=1.21.1 in /usr/local/lib/python3.10/dist-packages (from requests>=2.32.2->datasets) (2.0.7)\n",
            "Requirement already satisfied: certifi>=2017.4.17 in /usr/local/lib/python3.10/dist-packages (from requests>=2.32.2->datasets) (2024.7.4)\n",
            "Requirement already satisfied: regex>=2022.1.18 in /usr/local/lib/python3.10/dist-packages (from tiktoken>=0.6.0->vllm) (2024.5.15)\n",
            "Requirement already satisfied: safetensors>=0.4.1 in /usr/local/lib/python3.10/dist-packages (from transformers>=4.42.4->vllm) (0.4.3)\n",
            "Requirement already satisfied: fastapi-cli>=0.0.2 in /usr/local/lib/python3.10/dist-packages (from fastapi->vllm) (0.0.4)\n",
            "Requirement already satisfied: httpx>=0.23.0 in /usr/local/lib/python3.10/dist-packages (from fastapi->vllm) (0.27.0)\n",
            "Requirement already satisfied: python-multipart>=0.0.7 in /usr/local/lib/python3.10/dist-packages (from fastapi->vllm) (0.0.9)\n",
            "Requirement already satisfied: email_validator>=2.0.0 in /usr/local/lib/python3.10/dist-packages (from fastapi->vllm) (2.2.0)\n",
            "Requirement already satisfied: h11>=0.8 in /usr/local/lib/python3.10/dist-packages (from uvicorn[standard]->vllm) (0.14.0)\n",
            "Requirement already satisfied: httptools>=0.5.0 in /usr/local/lib/python3.10/dist-packages (from uvicorn[standard]->vllm) (0.6.1)\n",
            "Requirement already satisfied: python-dotenv>=0.13 in /usr/local/lib/python3.10/dist-packages (from uvicorn[standard]->vllm) (1.0.1)\n",
            "Requirement already satisfied: uvloop!=0.15.0,!=0.15.1,>=0.14.0 in /usr/local/lib/python3.10/dist-packages (from uvicorn[standard]->vllm) (0.19.0)\n",
            "Requirement already satisfied: watchfiles>=0.13 in /usr/local/lib/python3.10/dist-packages (from uvicorn[standard]->vllm) (0.22.0)\n",
            "Requirement already satisfied: websockets>=10.4 in /usr/local/lib/python3.10/dist-packages (from uvicorn[standard]->vllm) (12.0)\n",
            "Requirement already satisfied: anyio<5,>=3.5.0 in /usr/local/lib/python3.10/dist-packages (from openai->vllm) (3.7.1)\n",
            "Requirement already satisfied: distro<2,>=1.7.0 in /usr/lib/python3/dist-packages (from openai->vllm) (1.7.0)\n",
            "Requirement already satisfied: sniffio in /usr/local/lib/python3.10/dist-packages (from openai->vllm) (1.3.1)\n",
            "Requirement already satisfied: python-dateutil>=2.8.2 in /usr/local/lib/python3.10/dist-packages (from pandas->datasets) (2.8.2)\n",
            "Requirement already satisfied: pytz>=2020.1 in /usr/local/lib/python3.10/dist-packages (from pandas->datasets) (2023.4)\n",
            "Requirement already satisfied: tzdata>=2022.1 in /usr/local/lib/python3.10/dist-packages (from pandas->datasets) (2024.1)\n",
            "Requirement already satisfied: exceptiongroup in /usr/local/lib/python3.10/dist-packages (from anyio<5,>=3.5.0->openai->vllm) (1.2.2)\n",
            "Requirement already satisfied: dnspython>=2.0.0 in /usr/local/lib/python3.10/dist-packages (from email_validator>=2.0.0->fastapi->vllm) (2.6.1)\n",
            "Requirement already satisfied: typer>=0.12.3 in /usr/local/lib/python3.10/dist-packages (from fastapi-cli>=0.0.2->fastapi->vllm) (0.12.3)\n",
            "Requirement already satisfied: httpcore==1.* in /usr/local/lib/python3.10/dist-packages (from httpx>=0.23.0->fastapi->vllm) (1.0.5)\n",
            "Requirement already satisfied: MarkupSafe>=2.0 in /usr/local/lib/python3.10/dist-packages (from jinja2->torch==2.3.1->vllm) (2.1.5)\n",
            "Requirement already satisfied: six>=1.5 in /usr/local/lib/python3.10/dist-packages (from python-dateutil>=2.8.2->pandas->datasets) (1.16.0)\n",
            "Requirement already satisfied: jsonschema-specifications>=2023.03.6 in /usr/local/lib/python3.10/dist-packages (from jsonschema->outlines<0.1,>=0.0.43->vllm) (2023.12.1)\n",
            "Requirement already satisfied: rpds-py>=0.7.1 in /usr/local/lib/python3.10/dist-packages (from jsonschema->outlines<0.1,>=0.0.43->vllm) (0.19.0)\n",
            "Requirement already satisfied: llvmlite<0.42,>=0.41.0dev0 in /usr/local/lib/python3.10/dist-packages (from numba->outlines<0.1,>=0.0.43->vllm) (0.41.1)\n",
            "Requirement already satisfied: mpmath<1.4,>=1.1.0 in /usr/local/lib/python3.10/dist-packages (from sympy->torch==2.3.1->vllm) (1.3.0)\n",
            "Requirement already satisfied: shellingham>=1.3.0 in /usr/local/lib/python3.10/dist-packages (from typer>=0.12.3->fastapi-cli>=0.0.2->fastapi->vllm) (1.5.4)\n",
            "Requirement already satisfied: rich>=10.11.0 in /usr/local/lib/python3.10/dist-packages (from typer>=0.12.3->fastapi-cli>=0.0.2->fastapi->vllm) (13.7.1)\n",
            "Requirement already satisfied: markdown-it-py>=2.2.0 in /usr/local/lib/python3.10/dist-packages (from rich>=10.11.0->typer>=0.12.3->fastapi-cli>=0.0.2->fastapi->vllm) (3.0.0)\n",
            "Requirement already satisfied: pygments<3.0.0,>=2.13.0 in /usr/local/lib/python3.10/dist-packages (from rich>=10.11.0->typer>=0.12.3->fastapi-cli>=0.0.2->fastapi->vllm) (2.16.1)\n",
            "Requirement already satisfied: mdurl~=0.1 in /usr/local/lib/python3.10/dist-packages (from markdown-it-py>=2.2.0->rich>=10.11.0->typer>=0.12.3->fastapi-cli>=0.0.2->fastapi->vllm) (0.1.2)\n"
          ]
        }
      ],
      "source": [
        "%pip install datasets vllm"
      ]
    },
    {
      "cell_type": "code",
      "execution_count": 3,
      "metadata": {
        "id": "L-LEyH_DzCqc"
      },
      "outputs": [],
      "source": [
        "import os\n",
        "import random\n",
        "from datasets import load_dataset\n",
        "from transformers import AutoTokenizer\n",
        "from vllm import LLM, SamplingParams"
      ]
    },
    {
      "cell_type": "markdown",
      "metadata": {
        "id": "mDnu_Psc1BiC"
      },
      "source": [
        "## Load model and tokenizer"
      ]
    },
    {
      "cell_type": "code",
      "execution_count": 4,
      "metadata": {
        "colab": {
          "base_uri": "https://localhost:8080/"
        },
        "id": "e6-mZ8QZy9fI",
        "outputId": "36f6c10f-d989-4efa-c8d9-23be1d32836c"
      },
      "outputs": [
        {
          "name": "stderr",
          "output_type": "stream",
          "text": [
            "Special tokens have been added in the vocabulary, make sure the associated word embeddings are fine-tuned or trained.\n"
          ]
        }
      ],
      "source": [
        "# \"solidrust/Phi-3-mini-128k-instruct-AWQ\"\n",
        "model_card = \"CohereForAI/aya-23-8B\"\n",
        "tokenizer = AutoTokenizer.from_pretrained(model_card)"
      ]
    },
    {
      "cell_type": "code",
      "execution_count": 5,
      "metadata": {
        "colab": {
          "base_uri": "https://localhost:8080/"
        },
        "id": "VdmUZ_YU6qHi",
        "outputId": "1a788d50-4033-4ae8-ee90-2500c3119a36"
      },
      "outputs": [
        {
          "name": "stdout",
          "output_type": "stream",
          "text": [
            "INFO 07-20 14:28:21 llm_engine.py:174] Initializing an LLM engine (v0.5.2) with config: model='CohereForAI/aya-23-8B', speculative_config=None, tokenizer='CohereForAI/aya-23-8B', skip_tokenizer_init=False, tokenizer_mode=auto, revision=None, rope_scaling=None, rope_theta=None, tokenizer_revision=None, trust_remote_code=False, dtype=torch.float16, max_seq_len=8192, download_dir=None, load_format=LoadFormat.AUTO, tensor_parallel_size=1, pipeline_parallel_size=1, disable_custom_all_reduce=False, quantization=None, enforce_eager=False, kv_cache_dtype=auto, quantization_param_path=None, device_config=cuda, decoding_config=DecodingConfig(guided_decoding_backend='outlines'), observability_config=ObservabilityConfig(otlp_traces_endpoint=None), seed=0, served_model_name=CohereForAI/aya-23-8B, use_v2_block_manager=False, enable_prefix_caching=False)\n"
          ]
        },
        {
          "name": "stderr",
          "output_type": "stream",
          "text": [
            "Special tokens have been added in the vocabulary, make sure the associated word embeddings are fine-tuned or trained.\n"
          ]
        },
        {
          "name": "stdout",
          "output_type": "stream",
          "text": [
            "WARNING 07-20 14:28:24 interfaces.py:131] The model (<class 'vllm.model_executor.models.commandr.CohereForCausalLM'>) contains all LoRA-specific attributes, but does not set `supports_lora=True`.\n",
            "INFO 07-20 14:28:24 weight_utils.py:218] Using model weights format ['*.safetensors']\n",
            "INFO 07-20 14:28:29 model_runner.py:266] Loading model weights took 14.9553 GB\n",
            "INFO 07-20 14:28:34 gpu_executor.py:86] # GPU blocks: 7054, # CPU blocks: 2048\n",
            "INFO 07-20 14:28:36 model_runner.py:1007] Capturing the model for CUDA graphs. This may lead to unexpected consequences if the model is not static. To run the model in eager mode, set 'enforce_eager=True' or use '--enforce-eager' in the CLI.\n",
            "INFO 07-20 14:28:36 model_runner.py:1011] CUDA graphs can take additional 1~3 GiB memory per GPU. If you are running out of memory, consider decreasing `gpu_memory_utilization` or enforcing eager mode. You can also reduce the `max_num_seqs` as needed to decrease memory usage.\n",
            "INFO 07-20 14:28:53 model_runner.py:1208] Graph capturing finished in 17 secs.\n"
          ]
        }
      ],
      "source": [
        "# Define model\n",
        "model = LLM(\n",
        "    model=model_card,\n",
        "    # quantization='awq', # It is not necessary if we use the AYA model\n",
        "    enable_prefix_caching=False,\n",
        "    tensor_parallel_size=1,\n",
        "    gpu_memory_utilization=0.8,\n",
        ")\n",
        "\n",
        "\n",
        "# Prompt and params\n",
        "sampling_params = SamplingParams(\n",
        "    temperature=0.5,\n",
        "    top_p=0.95,\n",
        "    max_tokens=5000,\n",
        ")"
      ]
    },
    {
      "cell_type": "markdown",
      "metadata": {
        "id": "ZEuUHLIq1IPy"
      },
      "source": [
        "## Load the dataset"
      ]
    },
    {
      "cell_type": "code",
      "execution_count": 6,
      "metadata": {
        "colab": {
          "base_uri": "https://localhost:8080/"
        },
        "id": "3FFNuwhC1HCZ",
        "outputId": "5aa8a0e0-520f-4238-deeb-12d11f8adec1"
      },
      "outputs": [
        {
          "data": {
            "text/plain": [
              "Dataset({\n",
              "    features: ['id', 'url', 'title', 'text'],\n",
              "    num_rows: 1841155\n",
              "})"
            ]
          },
          "execution_count": 6,
          "metadata": {},
          "output_type": "execute_result"
        }
      ],
      "source": [
        "dataset_card =  \"wikimedia/wikipedia\"\n",
        "dataset = load_dataset(dataset_card, \"20231101.es\")\n",
        "\n",
        "# Take Spanish train\n",
        "spanish_dataset = dataset['train']\n",
        "spanish_dataset"
      ]
    },
    {
      "cell_type": "markdown",
      "metadata": {
        "id": "e0xwe7Gf1Xgm"
      },
      "source": [
        "## Shuffle and subsample the dataset to get 100,000 entries"
      ]
    },
    {
      "cell_type": "code",
      "execution_count": 7,
      "metadata": {
        "colab": {
          "base_uri": "https://localhost:8080/"
        },
        "id": "N_B-X_Qq0p-f",
        "outputId": "0ade5652-5d4c-4181-d379-56a21ef16475"
      },
      "outputs": [
        {
          "data": {
            "text/plain": [
              "Dataset({\n",
              "    features: ['id', 'url', 'title', 'text'],\n",
              "    num_rows: 100000\n",
              "})"
            ]
          },
          "execution_count": 7,
          "metadata": {},
          "output_type": "execute_result"
        }
      ],
      "source": [
        "random.seed(42)\n",
        "indices = list(range(len(spanish_dataset)))\n",
        "random.shuffle(indices)\n",
        "subsample_indices = indices[:100000]\n",
        "subsample_spanish_dataset = spanish_dataset.select(subsample_indices)\n",
        "subsample_spanish_dataset"
      ]
    },
    {
      "cell_type": "markdown",
      "metadata": {
        "id": "nixL6jXL5ExV"
      },
      "source": [
        "## Create prompts by entry"
      ]
    },
    {
      "cell_type": "code",
      "execution_count": 8,
      "metadata": {
        "id": "vfuOdOVS5KjM"
      },
      "outputs": [],
      "source": [
        "def generate_prompt(text):\n",
        "  system_prompt = 'Eres un asistente de IA experto en realizar resúmenes en español dado un texto.'\n",
        "  user_prompt = f'''\n",
        "  Genera un resumen en lenguaje natural del siguiente artículo de Wikipedia en un párrafo de entre 4 y 6 líneas:\n",
        "  {text}\n",
        "  IMPORTANTE: Inicia la respuesta con el resumen del texto.\n",
        "  '''\n",
        "\n",
        "  chat = [\n",
        "    {\"role\": \"system\", \"content\": system_prompt},\n",
        "    {\"role\": \"user\", \"content\": user_prompt}\n",
        "  ]\n",
        "  return tokenizer.apply_chat_template(chat, tokenize=False, add_generation_prompt=True)"
      ]
    },
    {
      "cell_type": "markdown",
      "metadata": {
        "id": "-0pruOBLAYIl"
      },
      "source": [
        "## Save the output in a text file"
      ]
    },
    {
      "cell_type": "code",
      "execution_count": 9,
      "metadata": {
        "id": "6HY7a5_2XVlt"
      },
      "outputs": [],
      "source": [
        "file_path = \"/content/drive/MyDrive/Colab/NER/wikipedia_summary.txt\""
      ]
    },
    {
      "cell_type": "code",
      "execution_count": 10,
      "metadata": {
        "id": "LAQahBshAdkB"
      },
      "outputs": [],
      "source": [
        "def save_text(texts):\n",
        "    with open(file_path, \"a\", encoding='utf-8') as file:\n",
        "    for text in texts:\n",
        "        file.write(text + \"\\n\")\n",
        "    print(f\"- Saved {len(texts)} texts\")"
      ]
    },
    {
      "cell_type": "markdown",
      "metadata": {
        "id": "nX-BxJ9rDhfy"
      },
      "source": [
        "## Process end to end"
      ]
    },
    {
      "cell_type": "code",
      "execution_count": 11,
      "metadata": {
        "colab": {
          "base_uri": "https://localhost:8080/"
        },
        "id": "8wIKTWPnhM4D",
        "outputId": "3ab1b14d-123b-4a82-c220-9df89f675e5a"
      },
      "outputs": [
        {
          "name": "stdout",
          "output_type": "stream",
          "text": [
            "- Processing chunk 0 to 10000...\n",
            "- Processing chunk subset 0, chunk 0 to 2000...\n",
            "- Generating summaries...\n"
          ]
        },
        {
          "name": "stderr",
          "output_type": "stream",
          "text": [
            "\rProcessed prompts:   0%|          | 0/2000 [00:00<?, ?it/s, est. speed input: 0.00 toks/s, output: 0.00 toks/s]"
          ]
        },
        {
          "name": "stdout",
          "output_type": "stream",
          "text": [
            "WARNING 07-20 14:29:36 scheduler.py:1124] Sequence group 144 is preempted by PreemptionMode.RECOMPUTE mode because there is not enough KV cache space. This can affect the end-to-end performance. Increase gpu_memory_utilization or tensor_parallel_size to provide more KV cache memory. total_num_cumulative_preemption=1\n"
          ]
        },
        {
          "name": "stderr",
          "output_type": "stream",
          "text": [
            "Processed prompts:   3%|▎         | 55/2000 [00:17<03:54,  8.28it/s, est. speed input: 1623.94 toks/s, output: 301.78 toks/s]"
          ]
        },
        {
          "name": "stdout",
          "output_type": "stream",
          "text": [
            "WARNING 07-20 14:29:45 scheduler.py:698] Input prompt (12389 tokens) is too long and exceeds limit of 8192\n"
          ]
        },
        {
          "name": "stderr",
          "output_type": "stream",
          "text": [
            "Processed prompts:   9%|▉         | 181/2000 [00:32<03:15,  9.33it/s, est. speed input: 4020.28 toks/s, output: 738.61 toks/s]"
          ]
        },
        {
          "name": "stdout",
          "output_type": "stream",
          "text": [
            "WARNING 07-20 14:30:01 scheduler.py:698] Input prompt (11273 tokens) is too long and exceeds limit of 8192\n"
          ]
        },
        {
          "name": "stderr",
          "output_type": "stream",
          "text": [
            "Processed prompts:   9%|▉         | 189/2000 [00:33<03:00, 10.02it/s, est. speed input: 4573.86 toks/s, output: 741.56 toks/s]"
          ]
        },
        {
          "name": "stdout",
          "output_type": "stream",
          "text": [
            "WARNING 07-20 14:30:02 scheduler.py:698] Input prompt (8866 tokens) is too long and exceeds limit of 8192\n",
            "WARNING 07-20 14:30:02 scheduler.py:698] Input prompt (9354 tokens) is too long and exceeds limit of 8192\n"
          ]
        },
        {
          "name": "stderr",
          "output_type": "stream",
          "text": [
            "Processed prompts:  22%|██▏       | 443/2000 [01:05<03:53,  6.66it/s, est. speed input: 5299.77 toks/s, output: 924.10 toks/s]"
          ]
        },
        {
          "name": "stdout",
          "output_type": "stream",
          "text": [
            "WARNING 07-20 14:30:34 scheduler.py:698] Input prompt (9686 tokens) is too long and exceeds limit of 8192\n"
          ]
        },
        {
          "name": "stderr",
          "output_type": "stream",
          "text": [
            "Processed prompts:  28%|██▊       | 570/2000 [01:21<03:15,  7.31it/s, est. speed input: 5490.87 toks/s, output: 969.89 toks/s]"
          ]
        },
        {
          "name": "stdout",
          "output_type": "stream",
          "text": [
            "WARNING 07-20 14:30:50 scheduler.py:698] Input prompt (22012 tokens) is too long and exceeds limit of 8192\n"
          ]
        },
        {
          "name": "stderr",
          "output_type": "stream",
          "text": [
            "Processed prompts:  39%|███▉      | 784/2000 [01:50<02:43,  7.42it/s, est. speed input: 5700.16 toks/s, output: 990.25 toks/s]"
          ]
        },
        {
          "name": "stdout",
          "output_type": "stream",
          "text": [
            "WARNING 07-20 14:31:19 scheduler.py:698] Input prompt (9054 tokens) is too long and exceeds limit of 8192\n"
          ]
        },
        {
          "name": "stderr",
          "output_type": "stream",
          "text": [
            "Processed prompts:  40%|███▉      | 797/2000 [01:51<01:58, 10.19it/s, est. speed input: 5793.79 toks/s, output: 996.88 toks/s]"
          ]
        },
        {
          "name": "stdout",
          "output_type": "stream",
          "text": [
            "WARNING 07-20 14:31:20 scheduler.py:698] Input prompt (15382 tokens) is too long and exceeds limit of 8192\n"
          ]
        },
        {
          "name": "stderr",
          "output_type": "stream",
          "text": [
            "Processed prompts:  43%|████▎     | 860/2000 [01:59<02:21,  8.07it/s, est. speed input: 5939.34 toks/s, output: 1002.11 toks/s]"
          ]
        },
        {
          "name": "stdout",
          "output_type": "stream",
          "text": [
            "WARNING 07-20 14:31:28 scheduler.py:698] Input prompt (10416 tokens) is too long and exceeds limit of 8192\n",
            "WARNING 07-20 14:31:28 scheduler.py:698] Input prompt (8804 tokens) is too long and exceeds limit of 8192\n"
          ]
        },
        {
          "name": "stderr",
          "output_type": "stream",
          "text": [
            "Processed prompts:  44%|████▍     | 877/2000 [02:01<01:38, 11.35it/s, est. speed input: 6107.04 toks/s, output: 1008.42 toks/s]"
          ]
        },
        {
          "name": "stdout",
          "output_type": "stream",
          "text": [
            "WARNING 07-20 14:31:30 scheduler.py:698] Input prompt (9952 tokens) is too long and exceeds limit of 8192\n"
          ]
        },
        {
          "name": "stderr",
          "output_type": "stream",
          "text": [
            "Processed prompts:  46%|████▌     | 917/2000 [02:07<02:41,  6.71it/s, est. speed input: 6208.88 toks/s, output: 1011.11 toks/s]"
          ]
        },
        {
          "name": "stdout",
          "output_type": "stream",
          "text": [
            "WARNING 07-20 14:31:36 scheduler.py:698] Input prompt (12095 tokens) is too long and exceeds limit of 8192\n"
          ]
        },
        {
          "name": "stderr",
          "output_type": "stream",
          "text": [
            "Processed prompts:  55%|█████▍    | 1090/2000 [02:28<02:09,  7.04it/s, est. speed input: 6203.56 toks/s, output: 1027.72 toks/s]"
          ]
        },
        {
          "name": "stdout",
          "output_type": "stream",
          "text": [
            "WARNING 07-20 14:31:57 scheduler.py:698] Input prompt (35439 tokens) is too long and exceeds limit of 8192\n"
          ]
        },
        {
          "name": "stderr",
          "output_type": "stream",
          "text": [
            "Processed prompts:  72%|███████▏  | 1433/2000 [03:14<01:35,  5.95it/s, est. speed input: 6301.35 toks/s, output: 1045.30 toks/s]"
          ]
        },
        {
          "name": "stdout",
          "output_type": "stream",
          "text": [
            "WARNING 07-20 14:32:43 scheduler.py:698] Input prompt (20731 tokens) is too long and exceeds limit of 8192\n"
          ]
        },
        {
          "name": "stderr",
          "output_type": "stream",
          "text": [
            "Processed prompts: 100%|██████████| 2000/2000 [04:18<00:00,  7.75it/s, est. speed input: 6465.21 toks/s, output: 1118.62 toks/s]\n"
          ]
        },
        {
          "name": "stdout",
          "output_type": "stream",
          "text": [
            "- Saving texts...\n",
            "- Saved 2000 texts\n",
            "- Processing chunk subset 0, chunk 2000 to 4000...\n",
            "- Generating summaries...\n"
          ]
        },
        {
          "name": "stderr",
          "output_type": "stream",
          "text": [
            "\rProcessed prompts:   0%|          | 0/2000 [00:00<?, ?it/s, est. speed input: 0.00 toks/s, output: 0.00 toks/s]"
          ]
        },
        {
          "name": "stdout",
          "output_type": "stream",
          "text": [
            "WARNING 07-20 14:33:53 scheduler.py:698] Input prompt (10955 tokens) is too long and exceeds limit of 8192\n"
          ]
        },
        {
          "name": "stderr",
          "output_type": "stream",
          "text": [
            "Processed prompts:   9%|▉         | 178/2000 [00:31<04:08,  7.33it/s, est. speed input: 3512.17 toks/s, output: 716.44 toks/s]"
          ]
        },
        {
          "name": "stdout",
          "output_type": "stream",
          "text": [
            "WARNING 07-20 14:34:25 scheduler.py:698] Input prompt (24859 tokens) is too long and exceeds limit of 8192\n"
          ]
        },
        {
          "name": "stderr",
          "output_type": "stream",
          "text": [
            "Processed prompts:  16%|█▌        | 314/2000 [00:51<04:22,  6.43it/s, est. speed input: 4854.75 toks/s, output: 845.58 toks/s]"
          ]
        },
        {
          "name": "stdout",
          "output_type": "stream",
          "text": [
            "WARNING 07-20 14:34:44 scheduler.py:698] Input prompt (17211 tokens) is too long and exceeds limit of 8192\n"
          ]
        },
        {
          "name": "stderr",
          "output_type": "stream",
          "text": [
            "Processed prompts:  16%|█▌        | 319/2000 [00:52<04:20,  6.44it/s, est. speed input: 5192.89 toks/s, output: 845.42 toks/s]"
          ]
        },
        {
          "name": "stdout",
          "output_type": "stream",
          "text": [
            "WARNING 07-20 14:34:45 scheduler.py:698] Input prompt (12430 tokens) is too long and exceeds limit of 8192\n"
          ]
        },
        {
          "name": "stderr",
          "output_type": "stream",
          "text": [
            "Processed prompts:  24%|██▎       | 474/2000 [01:12<02:39,  9.55it/s, est. speed input: 5537.13 toks/s, output: 928.28 toks/s]"
          ]
        },
        {
          "name": "stdout",
          "output_type": "stream",
          "text": [
            "WARNING 07-20 14:35:05 scheduler.py:698] Input prompt (10375 tokens) is too long and exceeds limit of 8192\n"
          ]
        },
        {
          "name": "stderr",
          "output_type": "stream",
          "text": [
            "Processed prompts:  35%|███▌      | 708/2000 [01:43<03:04,  7.01it/s, est. speed input: 5696.83 toks/s, output: 973.20 toks/s]"
          ]
        },
        {
          "name": "stdout",
          "output_type": "stream",
          "text": [
            "WARNING 07-20 14:35:37 scheduler.py:698] Input prompt (8840 tokens) is too long and exceeds limit of 8192\n"
          ]
        },
        {
          "name": "stderr",
          "output_type": "stream",
          "text": [
            "Processed prompts:  36%|███▋      | 730/2000 [01:46<02:43,  7.77it/s, est. speed input: 5810.35 toks/s, output: 978.87 toks/s]"
          ]
        },
        {
          "name": "stdout",
          "output_type": "stream",
          "text": [
            "WARNING 07-20 14:35:39 scheduler.py:698] Input prompt (16173 tokens) is too long and exceeds limit of 8192\n"
          ]
        },
        {
          "name": "stderr",
          "output_type": "stream",
          "text": [
            "Processed prompts:  45%|████▌     | 903/2000 [02:10<01:45, 10.39it/s, est. speed input: 5833.99 toks/s, output: 991.62 toks/s]"
          ]
        },
        {
          "name": "stdout",
          "output_type": "stream",
          "text": [
            "WARNING 07-20 14:36:03 scheduler.py:698] Input prompt (8630 tokens) is too long and exceeds limit of 8192\n"
          ]
        },
        {
          "name": "stderr",
          "output_type": "stream",
          "text": [
            "Processed prompts:  64%|██████▎   | 1274/2000 [03:03<01:22,  8.82it/s, est. speed input: 5868.38 toks/s, output: 1000.49 toks/s]"
          ]
        },
        {
          "name": "stdout",
          "output_type": "stream",
          "text": [
            "WARNING 07-20 14:36:56 scheduler.py:698] Input prompt (9857 tokens) is too long and exceeds limit of 8192\n"
          ]
        },
        {
          "name": "stderr",
          "output_type": "stream",
          "text": [
            "Processed prompts:  64%|██████▍   | 1282/2000 [03:04<01:29,  8.00it/s, est. speed input: 5918.45 toks/s, output: 1001.52 toks/s]"
          ]
        },
        {
          "name": "stdout",
          "output_type": "stream",
          "text": [
            "WARNING 07-20 14:36:57 scheduler.py:698] Input prompt (12589 tokens) is too long and exceeds limit of 8192\n"
          ]
        },
        {
          "name": "stderr",
          "output_type": "stream",
          "text": [
            "Processed prompts:  67%|██████▋   | 1334/2000 [03:11<01:41,  6.58it/s, est. speed input: 5974.60 toks/s, output: 1002.88 toks/s]"
          ]
        },
        {
          "name": "stdout",
          "output_type": "stream",
          "text": [
            "WARNING 07-20 14:37:04 scheduler.py:698] Input prompt (11276 tokens) is too long and exceeds limit of 8192\n"
          ]
        },
        {
          "name": "stderr",
          "output_type": "stream",
          "text": [
            "Processed prompts:  72%|███████▏  | 1440/2000 [03:23<00:58,  9.49it/s, est. speed input: 5944.76 toks/s, output: 1014.74 toks/s]"
          ]
        },
        {
          "name": "stdout",
          "output_type": "stream",
          "text": [
            "WARNING 07-20 14:37:16 scheduler.py:698] Input prompt (11852 tokens) is too long and exceeds limit of 8192\n"
          ]
        },
        {
          "name": "stderr",
          "output_type": "stream",
          "text": [
            "Processed prompts:  87%|████████▋ | 1738/2000 [04:02<00:33,  7.81it/s, est. speed input: 5885.87 toks/s, output: 1035.32 toks/s]"
          ]
        },
        {
          "name": "stdout",
          "output_type": "stream",
          "text": [
            "WARNING 07-20 14:37:55 scheduler.py:698] Input prompt (10992 tokens) is too long and exceeds limit of 8192\n",
            "WARNING 07-20 14:37:55 scheduler.py:698] Input prompt (9440 tokens) is too long and exceeds limit of 8192\n"
          ]
        },
        {
          "name": "stderr",
          "output_type": "stream",
          "text": [
            "Processed prompts: 100%|██████████| 2000/2000 [05:02<00:00,  6.61it/s, est. speed input: 5497.12 toks/s, output: 981.16 toks/s]\n"
          ]
        },
        {
          "name": "stdout",
          "output_type": "stream",
          "text": [
            "- Saving texts...\n",
            "- Saved 2000 texts\n",
            "- Processing chunk subset 0, chunk 4000 to 6000...\n",
            "- Generating summaries...\n"
          ]
        },
        {
          "name": "stderr",
          "output_type": "stream",
          "text": [
            "Processed prompts:   1%|▏         | 29/2000 [00:15<03:10, 10.35it/s, est. speed input: 1098.12 toks/s, output: 167.71 toks/s]"
          ]
        },
        {
          "name": "stdout",
          "output_type": "stream",
          "text": [
            "WARNING 07-20 14:39:18 scheduler.py:698] Input prompt (8197 tokens) is too long and exceeds limit of 8192\n"
          ]
        },
        {
          "name": "stderr",
          "output_type": "stream",
          "text": [
            "\rProcessed prompts:   2%|▏         | 31/2000 [00:15<04:02,  8.13it/s, est. speed input: 1606.39 toks/s, output: 168.36 toks/s]"
          ]
        },
        {
          "name": "stdout",
          "output_type": "stream",
          "text": [
            "WARNING 07-20 14:39:18 scheduler.py:698] Input prompt (8272 tokens) is too long and exceeds limit of 8192\n"
          ]
        },
        {
          "name": "stderr",
          "output_type": "stream",
          "text": [
            "Processed prompts:   7%|▋         | 138/2000 [00:27<03:28,  8.93it/s, est. speed input: 3649.16 toks/s, output: 646.17 toks/s]"
          ]
        },
        {
          "name": "stdout",
          "output_type": "stream",
          "text": [
            "WARNING 07-20 14:39:30 scheduler.py:698] Input prompt (24433 tokens) is too long and exceeds limit of 8192\n"
          ]
        },
        {
          "name": "stderr",
          "output_type": "stream",
          "text": [
            "Processed prompts:  17%|█▋        | 337/2000 [00:55<03:32,  7.82it/s, est. speed input: 4888.70 toks/s, output: 868.95 toks/s]"
          ]
        },
        {
          "name": "stdout",
          "output_type": "stream",
          "text": [
            "WARNING 07-20 14:39:57 scheduler.py:698] Input prompt (9478 tokens) is too long and exceeds limit of 8192\n"
          ]
        },
        {
          "name": "stderr",
          "output_type": "stream",
          "text": [
            "Processed prompts:  36%|███▌      | 713/2000 [01:44<02:21,  9.07it/s, est. speed input: 5300.03 toks/s, output: 992.84 toks/s]"
          ]
        },
        {
          "name": "stdout",
          "output_type": "stream",
          "text": [
            "WARNING 07-20 14:40:46 scheduler.py:698] Input prompt (10355 tokens) is too long and exceeds limit of 8192\n"
          ]
        },
        {
          "name": "stderr",
          "output_type": "stream",
          "text": [
            "Processed prompts:  50%|████▉     | 992/2000 [02:28<02:23,  7.04it/s, est. speed input: 5580.68 toks/s, output: 975.59 toks/s]"
          ]
        },
        {
          "name": "stdout",
          "output_type": "stream",
          "text": [
            "WARNING 07-20 14:41:31 scheduler.py:698] Input prompt (8799 tokens) is too long and exceeds limit of 8192\n"
          ]
        },
        {
          "name": "stderr",
          "output_type": "stream",
          "text": [
            "Processed prompts:  53%|█████▎    | 1053/2000 [02:36<02:02,  7.75it/s, est. speed input: 5618.80 toks/s, output: 979.66 toks/s]"
          ]
        },
        {
          "name": "stdout",
          "output_type": "stream",
          "text": [
            "WARNING 07-20 14:41:39 scheduler.py:698] Input prompt (41822 tokens) is too long and exceeds limit of 8192\n"
          ]
        },
        {
          "name": "stderr",
          "output_type": "stream",
          "text": [
            "Processed prompts:  56%|█████▌    | 1111/2000 [02:44<02:42,  5.47it/s, est. speed input: 5882.17 toks/s, output: 979.66 toks/s]"
          ]
        },
        {
          "name": "stdout",
          "output_type": "stream",
          "text": [
            "WARNING 07-20 14:41:47 scheduler.py:698] Input prompt (11364 tokens) is too long and exceeds limit of 8192\n"
          ]
        },
        {
          "name": "stderr",
          "output_type": "stream",
          "text": [
            "Processed prompts:  59%|█████▉    | 1176/2000 [02:53<01:30,  9.07it/s, est. speed input: 5897.06 toks/s, output: 985.92 toks/s]"
          ]
        },
        {
          "name": "stdout",
          "output_type": "stream",
          "text": [
            "WARNING 07-20 14:41:56 scheduler.py:698] Input prompt (9217 tokens) is too long and exceeds limit of 8192\n"
          ]
        },
        {
          "name": "stderr",
          "output_type": "stream",
          "text": [
            "Processed prompts:  64%|██████▍   | 1275/2000 [03:04<01:43,  7.01it/s, est. speed input: 5936.43 toks/s, output: 1000.96 toks/s]"
          ]
        },
        {
          "name": "stdout",
          "output_type": "stream",
          "text": [
            "WARNING 07-20 14:42:07 scheduler.py:698] Input prompt (9197 tokens) is too long and exceeds limit of 8192\n"
          ]
        },
        {
          "name": "stderr",
          "output_type": "stream",
          "text": [
            "Processed prompts:  77%|███████▋  | 1531/2000 [03:42<00:55,  8.38it/s, est. speed input: 5863.05 toks/s, output: 1010.31 toks/s]"
          ]
        },
        {
          "name": "stdout",
          "output_type": "stream",
          "text": [
            "WARNING 07-20 14:42:45 scheduler.py:698] Input prompt (15082 tokens) is too long and exceeds limit of 8192\n"
          ]
        },
        {
          "name": "stderr",
          "output_type": "stream",
          "text": [
            "Processed prompts:  77%|███████▋  | 1546/2000 [03:44<00:48,  9.44it/s, est. speed input: 5919.90 toks/s, output: 1009.46 toks/s]"
          ]
        },
        {
          "name": "stdout",
          "output_type": "stream",
          "text": [
            "WARNING 07-20 14:42:47 scheduler.py:698] Input prompt (26571 tokens) is too long and exceeds limit of 8192\n"
          ]
        },
        {
          "name": "stderr",
          "output_type": "stream",
          "text": [
            "Processed prompts:  80%|████████  | 1606/2000 [03:54<01:25,  4.59it/s, est. speed input: 6060.94 toks/s, output: 1008.75 toks/s]"
          ]
        },
        {
          "name": "stdout",
          "output_type": "stream",
          "text": [
            "WARNING 07-20 14:42:57 scheduler.py:698] Input prompt (10538 tokens) is too long and exceeds limit of 8192\n"
          ]
        },
        {
          "name": "stderr",
          "output_type": "stream",
          "text": [
            "Processed prompts: 100%|██████████| 2000/2000 [04:57<00:00,  6.73it/s, est. speed input: 5788.42 toks/s, output: 1007.52 toks/s]\n"
          ]
        },
        {
          "name": "stdout",
          "output_type": "stream",
          "text": [
            "- Saving texts...\n",
            "- Saved 2000 texts\n",
            "- Processing chunk subset 0, chunk 6000 to 8000...\n",
            "- Generating summaries...\n"
          ]
        },
        {
          "name": "stderr",
          "output_type": "stream",
          "text": [
            "Processed prompts:   4%|▍         | 89/2000 [00:19<03:22,  9.42it/s, est. speed input: 1772.09 toks/s, output: 518.73 toks/s]"
          ]
        },
        {
          "name": "stdout",
          "output_type": "stream",
          "text": [
            "WARNING 07-20 14:44:26 scheduler.py:698] Input prompt (14731 tokens) is too long and exceeds limit of 8192\n"
          ]
        },
        {
          "name": "stderr",
          "output_type": "stream",
          "text": [
            "Processed prompts:   5%|▌         | 109/2000 [00:21<03:59,  7.91it/s, est. speed input: 2855.10 toks/s, output: 606.45 toks/s]"
          ]
        },
        {
          "name": "stdout",
          "output_type": "stream",
          "text": [
            "WARNING 07-20 14:44:28 scheduler.py:698] Input prompt (13365 tokens) is too long and exceeds limit of 8192\n"
          ]
        },
        {
          "name": "stderr",
          "output_type": "stream",
          "text": [
            "Processed prompts:   6%|▌         | 117/2000 [00:22<05:23,  5.82it/s, est. speed input: 3747.28 toks/s, output: 617.05 toks/s]"
          ]
        },
        {
          "name": "stdout",
          "output_type": "stream",
          "text": [
            "WARNING 07-20 14:44:29 scheduler.py:698] Input prompt (15031 tokens) is too long and exceeds limit of 8192\n"
          ]
        },
        {
          "name": "stderr",
          "output_type": "stream",
          "text": [
            "Processed prompts:   7%|▋         | 132/2000 [00:24<05:17,  5.88it/s, est. speed input: 4644.96 toks/s, output: 653.50 toks/s]"
          ]
        },
        {
          "name": "stdout",
          "output_type": "stream",
          "text": [
            "WARNING 07-20 14:44:31 scheduler.py:698] Input prompt (20500 tokens) is too long and exceeds limit of 8192\n"
          ]
        },
        {
          "name": "stderr",
          "output_type": "stream",
          "text": [
            "Processed prompts:  13%|█▎        | 256/2000 [00:41<04:05,  7.11it/s, est. speed input: 5459.99 toks/s, output: 830.46 toks/s]"
          ]
        },
        {
          "name": "stdout",
          "output_type": "stream",
          "text": [
            "WARNING 07-20 14:44:48 scheduler.py:698] Input prompt (10865 tokens) is too long and exceeds limit of 8192\n"
          ]
        },
        {
          "name": "stderr",
          "output_type": "stream",
          "text": [
            "Processed prompts:  28%|██▊       | 554/2000 [01:21<03:14,  7.44it/s, est. speed input: 5746.76 toks/s, output: 942.94 toks/s]"
          ]
        },
        {
          "name": "stdout",
          "output_type": "stream",
          "text": [
            "WARNING 07-20 14:45:28 scheduler.py:698] Input prompt (12141 tokens) is too long and exceeds limit of 8192\n"
          ]
        },
        {
          "name": "stderr",
          "output_type": "stream",
          "text": [
            "Processed prompts:  31%|███       | 618/2000 [01:30<03:10,  7.27it/s, est. speed input: 5836.85 toks/s, output: 947.94 toks/s]"
          ]
        },
        {
          "name": "stdout",
          "output_type": "stream",
          "text": [
            "WARNING 07-20 14:45:37 scheduler.py:698] Input prompt (8766 tokens) is too long and exceeds limit of 8192\n"
          ]
        },
        {
          "name": "stderr",
          "output_type": "stream",
          "text": [
            "Processed prompts:  43%|████▎     | 860/2000 [02:02<03:24,  5.57it/s, est. speed input: 5952.48 toks/s, output: 979.37 toks/s]"
          ]
        },
        {
          "name": "stdout",
          "output_type": "stream",
          "text": [
            "WARNING 07-20 14:46:09 scheduler.py:698] Input prompt (10208 tokens) is too long and exceeds limit of 8192\n"
          ]
        },
        {
          "name": "stderr",
          "output_type": "stream",
          "text": [
            "Processed prompts:  48%|████▊     | 961/2000 [02:14<01:34, 11.05it/s, est. speed input: 5976.58 toks/s, output: 995.86 toks/s]"
          ]
        },
        {
          "name": "stdout",
          "output_type": "stream",
          "text": [
            "WARNING 07-20 14:46:21 scheduler.py:698] Input prompt (8977 tokens) is too long and exceeds limit of 8192\n"
          ]
        },
        {
          "name": "stderr",
          "output_type": "stream",
          "text": [
            "Processed prompts:  61%|██████    | 1222/2000 [02:48<01:15, 10.24it/s, est. speed input: 5991.55 toks/s, output: 1017.25 toks/s]"
          ]
        },
        {
          "name": "stdout",
          "output_type": "stream",
          "text": [
            "WARNING 07-20 14:46:55 scheduler.py:698] Input prompt (9332 tokens) is too long and exceeds limit of 8192\n"
          ]
        },
        {
          "name": "stderr",
          "output_type": "stream",
          "text": [
            "Processed prompts:  68%|██████▊   | 1370/2000 [03:08<01:37,  6.48it/s, est. speed input: 6036.55 toks/s, output: 1022.59 toks/s]"
          ]
        },
        {
          "name": "stdout",
          "output_type": "stream",
          "text": [
            "WARNING 07-20 14:47:15 scheduler.py:698] Input prompt (10858 tokens) is too long and exceeds limit of 8192\n"
          ]
        },
        {
          "name": "stderr",
          "output_type": "stream",
          "text": [
            "Processed prompts:  73%|███████▎  | 1456/2000 [03:19<01:23,  6.52it/s, est. speed input: 6051.46 toks/s, output: 1022.84 toks/s]"
          ]
        },
        {
          "name": "stdout",
          "output_type": "stream",
          "text": [
            "WARNING 07-20 14:47:26 scheduler.py:698] Input prompt (10001 tokens) is too long and exceeds limit of 8192\n"
          ]
        },
        {
          "name": "stderr",
          "output_type": "stream",
          "text": [
            "Processed prompts:  83%|████████▎ | 1668/2000 [03:46<00:53,  6.26it/s, est. speed input: 6077.85 toks/s, output: 1039.38 toks/s]"
          ]
        },
        {
          "name": "stdout",
          "output_type": "stream",
          "text": [
            "WARNING 07-20 14:47:53 scheduler.py:698] Input prompt (16783 tokens) is too long and exceeds limit of 8192\n"
          ]
        },
        {
          "name": "stderr",
          "output_type": "stream",
          "text": [
            "Processed prompts: 100%|██████████| 2000/2000 [04:28<00:00,  7.46it/s, est. speed input: 6198.64 toks/s, output: 1066.94 toks/s]\n"
          ]
        },
        {
          "name": "stdout",
          "output_type": "stream",
          "text": [
            "- Saving texts...\n",
            "- Saved 2000 texts\n",
            "- Processing chunk subset 0, chunk 8000 to 10000...\n",
            "- Generating summaries...\n"
          ]
        },
        {
          "name": "stderr",
          "output_type": "stream",
          "text": [
            "Processed prompts:   6%|▌         | 116/2000 [00:24<05:10,  6.06it/s, est. speed input: 3043.50 toks/s, output: 625.67 toks/s]"
          ]
        },
        {
          "name": "stdout",
          "output_type": "stream",
          "text": [
            "WARNING 07-20 14:49:06 scheduler.py:698] Input prompt (12021 tokens) is too long and exceeds limit of 8192\n"
          ]
        },
        {
          "name": "stderr",
          "output_type": "stream",
          "text": [
            "Processed prompts:  11%|█         | 215/2000 [00:36<03:02,  9.78it/s, est. speed input: 4106.76 toks/s, output: 784.34 toks/s]"
          ]
        },
        {
          "name": "stdout",
          "output_type": "stream",
          "text": [
            "WARNING 07-20 14:49:18 scheduler.py:1124] Sequence group 8320 is preempted by PreemptionMode.RECOMPUTE mode because there is not enough KV cache space. This can affect the end-to-end performance. Increase gpu_memory_utilization or tensor_parallel_size to provide more KV cache memory. total_num_cumulative_preemption=51\n"
          ]
        },
        {
          "name": "stderr",
          "output_type": "stream",
          "text": [
            "Processed prompts:  22%|██▏       | 447/2000 [01:09<03:26,  7.50it/s, est. speed input: 4985.90 toks/s, output: 898.56 toks/s]"
          ]
        },
        {
          "name": "stdout",
          "output_type": "stream",
          "text": [
            "WARNING 07-20 14:49:51 scheduler.py:698] Input prompt (9637 tokens) is too long and exceeds limit of 8192\n"
          ]
        },
        {
          "name": "stderr",
          "output_type": "stream",
          "text": [
            "Processed prompts:  37%|███▋      | 746/2000 [01:47<03:30,  5.95it/s, est. speed input: 5269.30 toks/s, output: 968.67 toks/s]"
          ]
        },
        {
          "name": "stdout",
          "output_type": "stream",
          "text": [
            "WARNING 07-20 14:50:29 scheduler.py:698] Input prompt (10279 tokens) is too long and exceeds limit of 8192\n",
            "WARNING 07-20 14:50:29 scheduler.py:698] Input prompt (14482 tokens) is too long and exceeds limit of 8192\n"
          ]
        },
        {
          "name": "stderr",
          "output_type": "stream",
          "text": [
            "Processed prompts:  55%|█████▍    | 1093/2000 [02:33<01:46,  8.50it/s, est. speed input: 5515.35 toks/s, output: 1007.15 toks/s]"
          ]
        },
        {
          "name": "stdout",
          "output_type": "stream",
          "text": [
            "WARNING 07-20 14:51:15 scheduler.py:698] Input prompt (10880 tokens) is too long and exceeds limit of 8192\n"
          ]
        },
        {
          "name": "stderr",
          "output_type": "stream",
          "text": [
            "Processed prompts:  59%|█████▉    | 1176/2000 [02:44<01:07, 12.18it/s, est. speed input: 5574.81 toks/s, output: 1012.50 toks/s]"
          ]
        },
        {
          "name": "stdout",
          "output_type": "stream",
          "text": [
            "WARNING 07-20 14:51:26 scheduler.py:698] Input prompt (11632 tokens) is too long and exceeds limit of 8192\n"
          ]
        },
        {
          "name": "stderr",
          "output_type": "stream",
          "text": [
            "Processed prompts:  83%|████████▎ | 1655/2000 [03:49<00:49,  6.93it/s, est. speed input: 5595.51 toks/s, output: 1035.51 toks/s]"
          ]
        },
        {
          "name": "stdout",
          "output_type": "stream",
          "text": [
            "WARNING 07-20 14:52:31 scheduler.py:698] Input prompt (9210 tokens) is too long and exceeds limit of 8192\n"
          ]
        },
        {
          "name": "stderr",
          "output_type": "stream",
          "text": [
            "Processed prompts:  93%|█████████▎| 1862/2000 [04:19<00:13, 10.37it/s, est. speed input: 5573.84 toks/s, output: 1035.92 toks/s]"
          ]
        },
        {
          "name": "stdout",
          "output_type": "stream",
          "text": [
            "WARNING 07-20 14:53:00 scheduler.py:698] Input prompt (10521 tokens) is too long and exceeds limit of 8192\n"
          ]
        },
        {
          "name": "stderr",
          "output_type": "stream",
          "text": [
            "Processed prompts: 100%|██████████| 2000/2000 [05:05<00:00,  6.56it/s, est. speed input: 5179.88 toks/s, output: 974.63 toks/s]\n"
          ]
        },
        {
          "name": "stdout",
          "output_type": "stream",
          "text": [
            "- Saving texts...\n",
            "- Saved 2000 texts\n",
            "- Processing chunk 10000 to 20000...\n",
            "- Processing chunk subset 10000, chunk 0 to 2000...\n",
            "- Generating summaries...\n"
          ]
        },
        {
          "name": "stderr",
          "output_type": "stream",
          "text": [
            "\rProcessed prompts:   0%|          | 0/2000 [00:00<?, ?it/s, est. speed input: 0.00 toks/s, output: 0.00 toks/s]"
          ]
        },
        {
          "name": "stdout",
          "output_type": "stream",
          "text": [
            "WARNING 07-20 14:53:54 scheduler.py:698] Input prompt (9668 tokens) is too long and exceeds limit of 8192\n"
          ]
        },
        {
          "name": "stderr",
          "output_type": "stream",
          "text": [
            "Processed prompts:   3%|▎         | 67/2000 [00:18<03:14,  9.94it/s, est. speed input: 1964.89 toks/s, output: 355.52 toks/s]"
          ]
        },
        {
          "name": "stdout",
          "output_type": "stream",
          "text": [
            "WARNING 07-20 14:54:11 scheduler.py:698] Input prompt (10118 tokens) is too long and exceeds limit of 8192\n"
          ]
        },
        {
          "name": "stderr",
          "output_type": "stream",
          "text": [
            "Processed prompts:  19%|█▉        | 381/2000 [00:59<03:34,  7.55it/s, est. speed input: 4804.06 toks/s, output: 859.10 toks/s]"
          ]
        },
        {
          "name": "stdout",
          "output_type": "stream",
          "text": [
            "WARNING 07-20 14:54:53 scheduler.py:698] Input prompt (9613 tokens) is too long and exceeds limit of 8192\n"
          ]
        },
        {
          "name": "stderr",
          "output_type": "stream",
          "text": [
            "Processed prompts:  35%|███▍      | 692/2000 [01:44<05:29,  3.97it/s, est. speed input: 5203.44 toks/s, output: 929.15 toks/s]"
          ]
        },
        {
          "name": "stdout",
          "output_type": "stream",
          "text": [
            "WARNING 07-20 14:55:37 scheduler.py:698] Input prompt (12695 tokens) is too long and exceeds limit of 8192\n"
          ]
        },
        {
          "name": "stderr",
          "output_type": "stream",
          "text": [
            "Processed prompts:  38%|███▊      | 766/2000 [01:54<03:05,  6.66it/s, est. speed input: 5424.77 toks/s, output: 952.35 toks/s]"
          ]
        },
        {
          "name": "stdout",
          "output_type": "stream",
          "text": [
            "WARNING 07-20 14:55:47 scheduler.py:698] Input prompt (8605 tokens) is too long and exceeds limit of 8192\n"
          ]
        },
        {
          "name": "stderr",
          "output_type": "stream",
          "text": [
            "Processed prompts:  39%|███▉      | 784/2000 [01:56<02:52,  7.04it/s, est. speed input: 5502.79 toks/s, output: 951.52 toks/s]"
          ]
        },
        {
          "name": "stdout",
          "output_type": "stream",
          "text": [
            "WARNING 07-20 14:55:50 scheduler.py:698] Input prompt (8903 tokens) is too long and exceeds limit of 8192\n"
          ]
        },
        {
          "name": "stderr",
          "output_type": "stream",
          "text": [
            "Processed prompts:  40%|███▉      | 796/2000 [01:59<05:11,  3.87it/s, est. speed input: 5592.36 toks/s, output: 946.95 toks/s]"
          ]
        },
        {
          "name": "stdout",
          "output_type": "stream",
          "text": [
            "WARNING 07-20 14:55:52 scheduler.py:698] Input prompt (9495 tokens) is too long and exceeds limit of 8192\n"
          ]
        },
        {
          "name": "stderr",
          "output_type": "stream",
          "text": [
            "Processed prompts:  50%|█████     | 1008/2000 [02:30<02:18,  7.16it/s, est. speed input: 5638.16 toks/s, output: 950.16 toks/s]"
          ]
        },
        {
          "name": "stdout",
          "output_type": "stream",
          "text": [
            "WARNING 07-20 14:56:24 scheduler.py:698] Input prompt (11279 tokens) is too long and exceeds limit of 8192\n"
          ]
        },
        {
          "name": "stderr",
          "output_type": "stream",
          "text": [
            "Processed prompts:  51%|█████     | 1022/2000 [02:32<02:13,  7.34it/s, est. speed input: 5697.07 toks/s, output: 950.78 toks/s]"
          ]
        },
        {
          "name": "stdout",
          "output_type": "stream",
          "text": [
            "WARNING 07-20 14:56:26 scheduler.py:698] Input prompt (25607 tokens) is too long and exceeds limit of 8192\n"
          ]
        },
        {
          "name": "stderr",
          "output_type": "stream",
          "text": [
            "Processed prompts:  77%|███████▋  | 1533/2000 [03:39<00:53,  8.70it/s, est. speed input: 5712.43 toks/s, output: 994.59 toks/s]"
          ]
        },
        {
          "name": "stdout",
          "output_type": "stream",
          "text": [
            "WARNING 07-20 14:57:33 scheduler.py:698] Input prompt (11347 tokens) is too long and exceeds limit of 8192\n"
          ]
        },
        {
          "name": "stderr",
          "output_type": "stream",
          "text": [
            "Processed prompts:  83%|████████▎ | 1656/2000 [03:56<00:42,  8.08it/s, est. speed input: 5759.56 toks/s, output: 1005.88 toks/s]"
          ]
        },
        {
          "name": "stdout",
          "output_type": "stream",
          "text": [
            "WARNING 07-20 14:57:50 scheduler.py:698] Input prompt (21777 tokens) is too long and exceeds limit of 8192\n"
          ]
        },
        {
          "name": "stderr",
          "output_type": "stream",
          "text": [
            "Processed prompts:  86%|████████▌ | 1723/2000 [04:06<00:26, 10.32it/s, est. speed input: 5827.58 toks/s, output: 1005.12 toks/s]"
          ]
        },
        {
          "name": "stdout",
          "output_type": "stream",
          "text": [
            "WARNING 07-20 14:58:00 scheduler.py:698] Input prompt (11114 tokens) is too long and exceeds limit of 8192\n"
          ]
        },
        {
          "name": "stderr",
          "output_type": "stream",
          "text": [
            "Processed prompts:  95%|█████████▌| 1905/2000 [04:32<00:11,  8.08it/s, est. speed input: 5818.58 toks/s, output: 1009.83 toks/s]"
          ]
        },
        {
          "name": "stdout",
          "output_type": "stream",
          "text": [
            "WARNING 07-20 14:58:25 scheduler.py:698] Input prompt (14232 tokens) is too long and exceeds limit of 8192\n"
          ]
        },
        {
          "name": "stderr",
          "output_type": "stream",
          "text": [
            "Processed prompts: 100%|██████████| 2000/2000 [04:47<00:00,  6.96it/s, est. speed input: 5917.51 toks/s, output: 1021.08 toks/s]\n"
          ]
        },
        {
          "name": "stdout",
          "output_type": "stream",
          "text": [
            "- Saving texts...\n",
            "- Saved 2000 texts\n",
            "- Processing chunk subset 10000, chunk 2000 to 4000...\n",
            "- Generating summaries...\n"
          ]
        },
        {
          "name": "stderr",
          "output_type": "stream",
          "text": [
            "\rProcessed prompts:   0%|          | 0/2000 [00:00<?, ?it/s, est. speed input: 0.00 toks/s, output: 0.00 toks/s]"
          ]
        },
        {
          "name": "stdout",
          "output_type": "stream",
          "text": [
            "WARNING 07-20 14:58:49 scheduler.py:698] Input prompt (8838 tokens) is too long and exceeds limit of 8192\n"
          ]
        },
        {
          "name": "stderr",
          "output_type": "stream",
          "text": [
            "\rProcessed prompts:   0%|          | 1/2000 [00:01<52:16,  1.57s/it, est. speed input: 5633.76 toks/s, output: 0.00 toks/s]"
          ]
        },
        {
          "name": "stdout",
          "output_type": "stream",
          "text": [
            "WARNING 07-20 14:58:51 scheduler.py:698] Input prompt (16078 tokens) is too long and exceeds limit of 8192\n",
            "WARNING 07-20 14:58:51 scheduler.py:698] Input prompt (17080 tokens) is too long and exceeds limit of 8192\n"
          ]
        },
        {
          "name": "stderr",
          "output_type": "stream",
          "text": [
            "Processed prompts:   4%|▍         | 83/2000 [00:19<03:24,  9.35it/s, est. speed input: 3978.59 toks/s, output: 420.59 toks/s]"
          ]
        },
        {
          "name": "stdout",
          "output_type": "stream",
          "text": [
            "WARNING 07-20 14:59:07 scheduler.py:698] Input prompt (9829 tokens) is too long and exceeds limit of 8192\n"
          ]
        },
        {
          "name": "stderr",
          "output_type": "stream",
          "text": [
            "Processed prompts:  29%|██▉       | 586/2000 [01:26<04:02,  5.84it/s, est. speed input: 5252.88 toks/s, output: 940.38 toks/s]"
          ]
        },
        {
          "name": "stdout",
          "output_type": "stream",
          "text": [
            "WARNING 07-20 15:00:14 scheduler.py:698] Input prompt (17404 tokens) is too long and exceeds limit of 8192\n"
          ]
        },
        {
          "name": "stderr",
          "output_type": "stream",
          "text": [
            "Processed prompts:  36%|███▌      | 722/2000 [01:42<04:07,  5.16it/s, est. speed input: 5461.07 toks/s, output: 985.07 toks/s]"
          ]
        },
        {
          "name": "stdout",
          "output_type": "stream",
          "text": [
            "WARNING 07-20 15:00:30 scheduler.py:698] Input prompt (11115 tokens) is too long and exceeds limit of 8192\n"
          ]
        },
        {
          "name": "stderr",
          "output_type": "stream",
          "text": [
            "Processed prompts:  46%|████▋     | 928/2000 [02:11<02:06,  8.47it/s, est. speed input: 5543.28 toks/s, output: 992.52 toks/s]"
          ]
        },
        {
          "name": "stdout",
          "output_type": "stream",
          "text": [
            "WARNING 07-20 15:01:00 scheduler.py:698] Input prompt (11051 tokens) is too long and exceeds limit of 8192\n"
          ]
        },
        {
          "name": "stderr",
          "output_type": "stream",
          "text": [
            "Processed prompts:  60%|██████    | 1200/2000 [02:50<01:48,  7.39it/s, est. speed input: 5682.00 toks/s, output: 1004.87 toks/s]"
          ]
        },
        {
          "name": "stdout",
          "output_type": "stream",
          "text": [
            "WARNING 07-20 15:01:38 scheduler.py:698] Input prompt (8267 tokens) is too long and exceeds limit of 8192\n"
          ]
        },
        {
          "name": "stderr",
          "output_type": "stream",
          "text": [
            "Processed prompts:  65%|██████▌   | 1307/2000 [03:03<01:28,  7.83it/s, est. speed input: 5701.16 toks/s, output: 1013.79 toks/s]"
          ]
        },
        {
          "name": "stdout",
          "output_type": "stream",
          "text": [
            "WARNING 07-20 15:01:51 scheduler.py:698] Input prompt (8354 tokens) is too long and exceeds limit of 8192\n"
          ]
        },
        {
          "name": "stderr",
          "output_type": "stream",
          "text": [
            "Processed prompts:  66%|██████▋   | 1329/2000 [03:05<01:25,  7.82it/s, est. speed input: 5756.99 toks/s, output: 1018.76 toks/s]"
          ]
        },
        {
          "name": "stdout",
          "output_type": "stream",
          "text": [
            "WARNING 07-20 15:01:53 scheduler.py:698] Input prompt (9433 tokens) is too long and exceeds limit of 8192\n"
          ]
        },
        {
          "name": "stderr",
          "output_type": "stream",
          "text": [
            "Processed prompts:  68%|██████▊   | 1367/2000 [03:10<01:13,  8.56it/s, est. speed input: 5807.31 toks/s, output: 1019.66 toks/s]"
          ]
        },
        {
          "name": "stdout",
          "output_type": "stream",
          "text": [
            "WARNING 07-20 15:01:59 scheduler.py:698] Input prompt (13813 tokens) is too long and exceeds limit of 8192\n"
          ]
        },
        {
          "name": "stderr",
          "output_type": "stream",
          "text": [
            "Processed prompts:  75%|███████▍  | 1492/2000 [03:25<00:42, 12.02it/s, est. speed input: 5858.46 toks/s, output: 1034.17 toks/s]"
          ]
        },
        {
          "name": "stdout",
          "output_type": "stream",
          "text": [
            "WARNING 07-20 15:02:13 scheduler.py:698] Input prompt (11279 tokens) is too long and exceeds limit of 8192\n"
          ]
        },
        {
          "name": "stderr",
          "output_type": "stream",
          "text": [
            "Processed prompts:  83%|████████▎ | 1666/2000 [03:51<00:56,  5.91it/s, est. speed input: 5897.86 toks/s, output: 1031.14 toks/s]"
          ]
        },
        {
          "name": "stdout",
          "output_type": "stream",
          "text": [
            "WARNING 07-20 15:02:39 scheduler.py:698] Input prompt (9089 tokens) is too long and exceeds limit of 8192\n"
          ]
        },
        {
          "name": "stderr",
          "output_type": "stream",
          "text": [
            "Processed prompts: 100%|██████████| 2000/2000 [05:14<00:00,  6.36it/s, est. speed input: 5186.29 toks/s, output: 935.02 toks/s]\n"
          ]
        },
        {
          "name": "stdout",
          "output_type": "stream",
          "text": [
            "- Saving texts...\n",
            "- Saved 2000 texts\n",
            "- Processing chunk subset 10000, chunk 4000 to 6000...\n",
            "- Generating summaries...\n"
          ]
        },
        {
          "name": "stderr",
          "output_type": "stream",
          "text": [
            "Processed prompts:   7%|▋         | 133/2000 [00:25<04:31,  6.88it/s, est. speed input: 2870.51 toks/s, output: 618.05 toks/s]"
          ]
        },
        {
          "name": "stdout",
          "output_type": "stream",
          "text": [
            "WARNING 07-20 15:04:34 scheduler.py:698] Input prompt (10965 tokens) is too long and exceeds limit of 8192\n"
          ]
        },
        {
          "name": "stderr",
          "output_type": "stream",
          "text": [
            "Processed prompts:  10%|█         | 207/2000 [00:35<04:21,  6.85it/s, est. speed input: 4060.79 toks/s, output: 740.71 toks/s]"
          ]
        },
        {
          "name": "stdout",
          "output_type": "stream",
          "text": [
            "WARNING 07-20 15:04:44 scheduler.py:698] Input prompt (9778 tokens) is too long and exceeds limit of 8192\n"
          ]
        },
        {
          "name": "stderr",
          "output_type": "stream",
          "text": [
            "Processed prompts:  12%|█▏        | 239/2000 [00:38<02:47, 10.52it/s, est. speed input: 4531.75 toks/s, output: 778.57 toks/s]"
          ]
        },
        {
          "name": "stdout",
          "output_type": "stream",
          "text": [
            "WARNING 07-20 15:04:47 scheduler.py:698] Input prompt (19801 tokens) is too long and exceeds limit of 8192\n"
          ]
        },
        {
          "name": "stderr",
          "output_type": "stream",
          "text": [
            "Processed prompts:  31%|███       | 621/2000 [01:29<03:36,  6.37it/s, est. speed input: 5195.44 toks/s, output: 940.34 toks/s]"
          ]
        },
        {
          "name": "stdout",
          "output_type": "stream",
          "text": [
            "WARNING 07-20 15:05:38 scheduler.py:698] Input prompt (9502 tokens) is too long and exceeds limit of 8192\n"
          ]
        },
        {
          "name": "stderr",
          "output_type": "stream",
          "text": [
            "Processed prompts:  61%|██████▏   | 1227/2000 [02:49<01:36,  8.01it/s, est. speed input: 5483.35 toks/s, output: 1024.32 toks/s]"
          ]
        },
        {
          "name": "stdout",
          "output_type": "stream",
          "text": [
            "WARNING 07-20 15:06:58 scheduler.py:698] Input prompt (11370 tokens) is too long and exceeds limit of 8192\n"
          ]
        },
        {
          "name": "stderr",
          "output_type": "stream",
          "text": [
            "Processed prompts:  65%|██████▍   | 1291/2000 [02:57<02:00,  5.87it/s, est. speed input: 5533.34 toks/s, output: 1024.74 toks/s]"
          ]
        },
        {
          "name": "stdout",
          "output_type": "stream",
          "text": [
            "WARNING 07-20 15:07:06 scheduler.py:698] Input prompt (11914 tokens) is too long and exceeds limit of 8192\n"
          ]
        },
        {
          "name": "stderr",
          "output_type": "stream",
          "text": [
            "Processed prompts:  73%|███████▎  | 1464/2000 [03:17<01:07,  7.94it/s, est. speed input: 5576.22 toks/s, output: 1050.60 toks/s]"
          ]
        },
        {
          "name": "stdout",
          "output_type": "stream",
          "text": [
            "WARNING 07-20 15:07:26 scheduler.py:698] Input prompt (9223 tokens) is too long and exceeds limit of 8192\n"
          ]
        },
        {
          "name": "stderr",
          "output_type": "stream",
          "text": [
            "Processed prompts:  79%|███████▊  | 1573/2000 [03:31<00:47,  9.00it/s, est. speed input: 5615.73 toks/s, output: 1052.93 toks/s]"
          ]
        },
        {
          "name": "stdout",
          "output_type": "stream",
          "text": [
            "WARNING 07-20 15:07:40 scheduler.py:698] Input prompt (9183 tokens) is too long and exceeds limit of 8192\n"
          ]
        },
        {
          "name": "stderr",
          "output_type": "stream",
          "text": [
            "Processed prompts:  81%|████████  | 1620/2000 [03:39<00:36, 10.55it/s, est. speed input: 5656.09 toks/s, output: 1048.00 toks/s]"
          ]
        },
        {
          "name": "stdout",
          "output_type": "stream",
          "text": [
            "WARNING 07-20 15:07:48 scheduler.py:698] Input prompt (12453 tokens) is too long and exceeds limit of 8192\n"
          ]
        },
        {
          "name": "stderr",
          "output_type": "stream",
          "text": [
            "Processed prompts:  89%|████████▊ | 1773/2000 [04:01<00:54,  4.19it/s, est. speed input: 5730.75 toks/s, output: 1043.56 toks/s]"
          ]
        },
        {
          "name": "stdout",
          "output_type": "stream",
          "text": [
            "WARNING 07-20 15:08:10 scheduler.py:698] Input prompt (13918 tokens) is too long and exceeds limit of 8192\n"
          ]
        },
        {
          "name": "stderr",
          "output_type": "stream",
          "text": [
            "Processed prompts:  89%|████████▉ | 1781/2000 [04:02<00:36,  6.04it/s, est. speed input: 5775.27 toks/s, output: 1042.56 toks/s]"
          ]
        },
        {
          "name": "stdout",
          "output_type": "stream",
          "text": [
            "WARNING 07-20 15:08:11 scheduler.py:698] Input prompt (9738 tokens) is too long and exceeds limit of 8192\n"
          ]
        },
        {
          "name": "stderr",
          "output_type": "stream",
          "text": [
            "Processed prompts: 100%|██████████| 2000/2000 [04:25<00:00,  7.54it/s, est. speed input: 5998.11 toks/s, output: 1084.46 toks/s]\n"
          ]
        },
        {
          "name": "stdout",
          "output_type": "stream",
          "text": [
            "- Saving texts...\n",
            "- Saved 2000 texts\n",
            "- Processing chunk subset 10000, chunk 6000 to 8000...\n",
            "- Generating summaries...\n"
          ]
        },
        {
          "name": "stderr",
          "output_type": "stream",
          "text": [
            "Processed prompts:   4%|▎         | 73/2000 [00:17<02:27, 13.11it/s, est. speed input: 1340.96 toks/s, output: 402.10 toks/s]"
          ]
        },
        {
          "name": "stdout",
          "output_type": "stream",
          "text": [
            "WARNING 07-20 15:08:58 scheduler.py:698] Input prompt (17811 tokens) is too long and exceeds limit of 8192\n"
          ]
        },
        {
          "name": "stderr",
          "output_type": "stream",
          "text": [
            "Processed prompts:  14%|█▍        | 275/2000 [00:43<04:17,  6.69it/s, est. speed input: 4197.64 toks/s, output: 824.70 toks/s]"
          ]
        },
        {
          "name": "stdout",
          "output_type": "stream",
          "text": [
            "WARNING 07-20 15:09:24 scheduler.py:698] Input prompt (11616 tokens) is too long and exceeds limit of 8192\n"
          ]
        },
        {
          "name": "stderr",
          "output_type": "stream",
          "text": [
            "Processed prompts:  15%|█▍        | 297/2000 [00:47<03:52,  7.31it/s, est. speed input: 4504.19 toks/s, output: 833.14 toks/s]"
          ]
        },
        {
          "name": "stdout",
          "output_type": "stream",
          "text": [
            "WARNING 07-20 15:09:28 scheduler.py:698] Input prompt (9872 tokens) is too long and exceeds limit of 8192\n"
          ]
        },
        {
          "name": "stderr",
          "output_type": "stream",
          "text": [
            "Processed prompts:  23%|██▎       | 456/2000 [01:09<02:55,  8.81it/s, est. speed input: 4951.91 toks/s, output: 893.83 toks/s]"
          ]
        },
        {
          "name": "stdout",
          "output_type": "stream",
          "text": [
            "WARNING 07-20 15:09:50 scheduler.py:698] Input prompt (20064 tokens) is too long and exceeds limit of 8192\n"
          ]
        },
        {
          "name": "stderr",
          "output_type": "stream",
          "text": [
            "Processed prompts:  40%|███▉      | 798/2000 [02:00<02:46,  7.21it/s, est. speed input: 5373.07 toks/s, output: 937.47 toks/s]"
          ]
        },
        {
          "name": "stdout",
          "output_type": "stream",
          "text": [
            "WARNING 07-20 15:10:41 scheduler.py:698] Input prompt (8793 tokens) is too long and exceeds limit of 8192\n"
          ]
        },
        {
          "name": "stderr",
          "output_type": "stream",
          "text": [
            "Processed prompts:  45%|████▍     | 891/2000 [02:12<02:23,  7.75it/s, est. speed input: 5394.06 toks/s, output: 952.77 toks/s]"
          ]
        },
        {
          "name": "stdout",
          "output_type": "stream",
          "text": [
            "WARNING 07-20 15:10:53 scheduler.py:698] Input prompt (16092 tokens) is too long and exceeds limit of 8192\n"
          ]
        },
        {
          "name": "stderr",
          "output_type": "stream",
          "text": [
            "Processed prompts:  51%|█████     | 1018/2000 [02:30<01:52,  8.74it/s, est. speed input: 5439.28 toks/s, output: 963.45 toks/s]"
          ]
        },
        {
          "name": "stdout",
          "output_type": "stream",
          "text": [
            "WARNING 07-20 15:11:11 scheduler.py:698] Input prompt (23281 tokens) is too long and exceeds limit of 8192\n"
          ]
        },
        {
          "name": "stderr",
          "output_type": "stream",
          "text": [
            "Processed prompts:  53%|█████▎    | 1060/2000 [02:36<02:30,  6.26it/s, est. speed input: 5621.45 toks/s, output: 966.03 toks/s]"
          ]
        },
        {
          "name": "stdout",
          "output_type": "stream",
          "text": [
            "WARNING 07-20 15:11:17 scheduler.py:698] Input prompt (24035 tokens) is too long and exceeds limit of 8192\n"
          ]
        },
        {
          "name": "stderr",
          "output_type": "stream",
          "text": [
            "Processed prompts:  59%|█████▊    | 1171/2000 [02:50<01:22, 10.03it/s, est. speed input: 5701.09 toks/s, output: 981.73 toks/s]"
          ]
        },
        {
          "name": "stdout",
          "output_type": "stream",
          "text": [
            "WARNING 07-20 15:11:31 scheduler.py:698] Input prompt (8910 tokens) is too long and exceeds limit of 8192\n"
          ]
        },
        {
          "name": "stderr",
          "output_type": "stream",
          "text": [
            "Processed prompts:  62%|██████▏   | 1244/2000 [03:00<01:27,  8.68it/s, est. speed input: 5740.83 toks/s, output: 979.62 toks/s]"
          ]
        },
        {
          "name": "stdout",
          "output_type": "stream",
          "text": [
            "WARNING 07-20 15:11:41 scheduler.py:698] Input prompt (10698 tokens) is too long and exceeds limit of 8192\n"
          ]
        },
        {
          "name": "stderr",
          "output_type": "stream",
          "text": [
            "Processed prompts:  65%|██████▍   | 1299/2000 [03:08<01:51,  6.28it/s, est. speed input: 5794.57 toks/s, output: 982.65 toks/s]"
          ]
        },
        {
          "name": "stdout",
          "output_type": "stream",
          "text": [
            "WARNING 07-20 15:11:49 scheduler.py:698] Input prompt (8416 tokens) is too long and exceeds limit of 8192\n"
          ]
        },
        {
          "name": "stderr",
          "output_type": "stream",
          "text": [
            "Processed prompts:  66%|██████▌   | 1315/2000 [03:10<01:32,  7.44it/s, est. speed input: 5844.59 toks/s, output: 990.27 toks/s]"
          ]
        },
        {
          "name": "stdout",
          "output_type": "stream",
          "text": [
            "WARNING 07-20 15:11:51 scheduler.py:698] Input prompt (12139 tokens) is too long and exceeds limit of 8192\n"
          ]
        },
        {
          "name": "stderr",
          "output_type": "stream",
          "text": [
            "Processed prompts:  79%|███████▊  | 1574/2000 [03:47<00:56,  7.54it/s, est. speed input: 5861.72 toks/s, output: 1000.20 toks/s]"
          ]
        },
        {
          "name": "stdout",
          "output_type": "stream",
          "text": [
            "WARNING 07-20 15:12:28 scheduler.py:698] Input prompt (15508 tokens) is too long and exceeds limit of 8192\n"
          ]
        },
        {
          "name": "stderr",
          "output_type": "stream",
          "text": [
            "Processed prompts:  92%|█████████▏| 1838/2000 [04:18<00:10, 15.57it/s, est. speed input: 5884.17 toks/s, output: 1024.55 toks/s]"
          ]
        },
        {
          "name": "stdout",
          "output_type": "stream",
          "text": [
            "WARNING 07-20 15:13:00 scheduler.py:698] Input prompt (9964 tokens) is too long and exceeds limit of 8192\n"
          ]
        },
        {
          "name": "stderr",
          "output_type": "stream",
          "text": [
            "Processed prompts: 100%|██████████| 2000/2000 [04:34<00:00,  7.27it/s, est. speed input: 6092.47 toks/s, output: 1066.99 toks/s]\n"
          ]
        },
        {
          "name": "stdout",
          "output_type": "stream",
          "text": [
            "- Saving texts...\n",
            "- Saved 2000 texts\n",
            "- Processing chunk subset 10000, chunk 8000 to 10000...\n",
            "- Generating summaries...\n"
          ]
        },
        {
          "name": "stderr",
          "output_type": "stream",
          "text": [
            "\rProcessed prompts:   0%|          | 0/2000 [00:00<?, ?it/s, est. speed input: 0.00 toks/s, output: 0.00 toks/s]"
          ]
        },
        {
          "name": "stdout",
          "output_type": "stream",
          "text": [
            "WARNING 07-20 15:13:24 scheduler.py:698] Input prompt (11131 tokens) is too long and exceeds limit of 8192\n"
          ]
        },
        {
          "name": "stderr",
          "output_type": "stream",
          "text": [
            "Processed prompts:   2%|▏         | 46/2000 [00:15<05:04,  6.42it/s, est. speed input: 1727.91 toks/s, output: 203.66 toks/s]"
          ]
        },
        {
          "name": "stdout",
          "output_type": "stream",
          "text": [
            "WARNING 07-20 15:13:37 scheduler.py:698] Input prompt (12781 tokens) is too long and exceeds limit of 8192\n"
          ]
        },
        {
          "name": "stderr",
          "output_type": "stream",
          "text": [
            "Processed prompts:  10%|█         | 206/2000 [00:37<03:36,  8.30it/s, est. speed input: 4340.47 toks/s, output: 695.69 toks/s]"
          ]
        },
        {
          "name": "stdout",
          "output_type": "stream",
          "text": [
            "WARNING 07-20 15:14:00 scheduler.py:698] Input prompt (10480 tokens) is too long and exceeds limit of 8192\n"
          ]
        },
        {
          "name": "stderr",
          "output_type": "stream",
          "text": [
            "Processed prompts:  13%|█▎        | 259/2000 [00:43<03:23,  8.55it/s, est. speed input: 4656.86 toks/s, output: 767.23 toks/s]"
          ]
        },
        {
          "name": "stdout",
          "output_type": "stream",
          "text": [
            "WARNING 07-20 15:14:06 scheduler.py:698] Input prompt (9739 tokens) is too long and exceeds limit of 8192\n"
          ]
        },
        {
          "name": "stderr",
          "output_type": "stream",
          "text": [
            "Processed prompts:  16%|█▋        | 325/2000 [00:50<03:26,  8.12it/s, est. speed input: 4980.05 toks/s, output: 848.15 toks/s]"
          ]
        },
        {
          "name": "stdout",
          "output_type": "stream",
          "text": [
            "WARNING 07-20 15:14:12 scheduler.py:698] Input prompt (12753 tokens) is too long and exceeds limit of 8192\n"
          ]
        },
        {
          "name": "stderr",
          "output_type": "stream",
          "text": [
            "Processed prompts:  27%|██▋       | 542/2000 [01:16<01:57, 12.43it/s, est. speed input: 5328.09 toks/s, output: 963.04 toks/s]"
          ]
        },
        {
          "name": "stdout",
          "output_type": "stream",
          "text": [
            "WARNING 07-20 15:14:38 scheduler.py:698] Input prompt (9660 tokens) is too long and exceeds limit of 8192\n"
          ]
        },
        {
          "name": "stderr",
          "output_type": "stream",
          "text": [
            "Processed prompts:  37%|███▋      | 744/2000 [01:43<02:59,  6.98it/s, est. speed input: 5506.83 toks/s, output: 1000.40 toks/s]"
          ]
        },
        {
          "name": "stdout",
          "output_type": "stream",
          "text": [
            "WARNING 07-20 15:15:06 scheduler.py:698] Input prompt (13518 tokens) is too long and exceeds limit of 8192\n"
          ]
        },
        {
          "name": "stderr",
          "output_type": "stream",
          "text": [
            "Processed prompts:  47%|████▋     | 941/2000 [02:06<02:28,  7.14it/s, est. speed input: 5539.62 toks/s, output: 1031.89 toks/s]"
          ]
        },
        {
          "name": "stdout",
          "output_type": "stream",
          "text": [
            "WARNING 07-20 15:15:29 scheduler.py:698] Input prompt (9280 tokens) is too long and exceeds limit of 8192\n"
          ]
        },
        {
          "name": "stderr",
          "output_type": "stream",
          "text": [
            "Processed prompts:  48%|████▊     | 963/2000 [02:09<01:26, 11.99it/s, est. speed input: 5664.15 toks/s, output: 1034.75 toks/s]"
          ]
        },
        {
          "name": "stdout",
          "output_type": "stream",
          "text": [
            "WARNING 07-20 15:15:32 scheduler.py:698] Input prompt (8786 tokens) is too long and exceeds limit of 8192\n"
          ]
        },
        {
          "name": "stderr",
          "output_type": "stream",
          "text": [
            "Processed prompts:  56%|█████▌    | 1113/2000 [02:27<01:41,  8.71it/s, est. speed input: 5674.74 toks/s, output: 1043.69 toks/s]"
          ]
        },
        {
          "name": "stdout",
          "output_type": "stream",
          "text": [
            "WARNING 07-20 15:15:50 scheduler.py:698] Input prompt (33792 tokens) is too long and exceeds limit of 8192\n"
          ]
        },
        {
          "name": "stderr",
          "output_type": "stream",
          "text": [
            "Processed prompts:  72%|███████▎  | 1450/2000 [03:13<01:21,  6.77it/s, est. speed input: 5813.55 toks/s, output: 1055.95 toks/s]"
          ]
        },
        {
          "name": "stdout",
          "output_type": "stream",
          "text": [
            "WARNING 07-20 15:16:36 scheduler.py:698] Input prompt (24650 tokens) is too long and exceeds limit of 8192\n"
          ]
        },
        {
          "name": "stderr",
          "output_type": "stream",
          "text": [
            "Processed prompts:  93%|█████████▎| 1860/2000 [04:05<00:14,  9.73it/s, est. speed input: 5850.80 toks/s, output: 1073.76 toks/s]"
          ]
        },
        {
          "name": "stdout",
          "output_type": "stream",
          "text": [
            "WARNING 07-20 15:17:27 scheduler.py:698] Input prompt (13420 tokens) is too long and exceeds limit of 8192\n"
          ]
        },
        {
          "name": "stderr",
          "output_type": "stream",
          "text": [
            "Processed prompts: 100%|██████████| 2000/2000 [04:28<00:00,  7.46it/s, est. speed input: 5845.50 toks/s, output: 1070.67 toks/s]\n"
          ]
        },
        {
          "name": "stdout",
          "output_type": "stream",
          "text": [
            "- Saving texts...\n",
            "- Saved 2000 texts\n",
            "- Processing chunk 20000 to 30000...\n",
            "- Processing chunk subset 20000, chunk 0 to 2000...\n",
            "- Generating summaries...\n"
          ]
        },
        {
          "name": "stderr",
          "output_type": "stream",
          "text": [
            "\rProcessed prompts:   0%|          | 0/2000 [00:00<?, ?it/s, est. speed input: 0.00 toks/s, output: 0.00 toks/s]"
          ]
        },
        {
          "name": "stdout",
          "output_type": "stream",
          "text": [
            "WARNING 07-20 15:17:59 scheduler.py:698] Input prompt (26356 tokens) is too long and exceeds limit of 8192\n"
          ]
        },
        {
          "name": "stderr",
          "output_type": "stream",
          "text": [
            "Processed prompts:  11%|█▏        | 227/2000 [00:38<03:19,  8.91it/s, est. speed input: 4517.64 toks/s, output: 780.12 toks/s]"
          ]
        },
        {
          "name": "stdout",
          "output_type": "stream",
          "text": [
            "WARNING 07-20 15:18:36 scheduler.py:698] Input prompt (15161 tokens) is too long and exceeds limit of 8192\n",
            "WARNING 07-20 15:18:36 scheduler.py:698] Input prompt (17799 tokens) is too long and exceeds limit of 8192\n"
          ]
        },
        {
          "name": "stderr",
          "output_type": "stream",
          "text": [
            "Processed prompts:  34%|███▎      | 670/2000 [01:34<01:56, 11.45it/s, est. speed input: 5384.06 toks/s, output: 995.84 toks/s]"
          ]
        },
        {
          "name": "stdout",
          "output_type": "stream",
          "text": [
            "WARNING 07-20 15:19:32 scheduler.py:698] Input prompt (14481 tokens) is too long and exceeds limit of 8192\n"
          ]
        },
        {
          "name": "stderr",
          "output_type": "stream",
          "text": [
            "Processed prompts:  44%|████▍     | 889/2000 [02:02<02:38,  7.03it/s, est. speed input: 5535.82 toks/s, output: 1025.48 toks/s]"
          ]
        },
        {
          "name": "stdout",
          "output_type": "stream",
          "text": [
            "WARNING 07-20 15:20:00 scheduler.py:698] Input prompt (11300 tokens) is too long and exceeds limit of 8192\n"
          ]
        },
        {
          "name": "stderr",
          "output_type": "stream",
          "text": [
            "Processed prompts:  46%|████▌     | 919/2000 [02:05<01:49,  9.85it/s, est. speed input: 5624.55 toks/s, output: 1026.76 toks/s]"
          ]
        },
        {
          "name": "stdout",
          "output_type": "stream",
          "text": [
            "WARNING 07-20 15:20:03 scheduler.py:698] Input prompt (10374 tokens) is too long and exceeds limit of 8192\n",
            "WARNING 07-20 15:20:03 scheduler.py:698] Input prompt (8431 tokens) is too long and exceeds limit of 8192\n"
          ]
        },
        {
          "name": "stderr",
          "output_type": "stream",
          "text": [
            "Processed prompts:  46%|████▌     | 924/2000 [02:06<02:44,  6.55it/s, est. speed input: 5794.69 toks/s, output: 1021.43 toks/s]"
          ]
        },
        {
          "name": "stdout",
          "output_type": "stream",
          "text": [
            "WARNING 07-20 15:20:04 scheduler.py:698] Input prompt (13207 tokens) is too long and exceeds limit of 8192\n"
          ]
        },
        {
          "name": "stderr",
          "output_type": "stream",
          "text": [
            "Processed prompts:  51%|█████     | 1020/2000 [02:19<02:26,  6.71it/s, est. speed input: 5817.10 toks/s, output: 1025.25 toks/s]"
          ]
        },
        {
          "name": "stdout",
          "output_type": "stream",
          "text": [
            "WARNING 07-20 15:20:17 scheduler.py:698] Input prompt (9861 tokens) is too long and exceeds limit of 8192\n"
          ]
        },
        {
          "name": "stderr",
          "output_type": "stream",
          "text": [
            "Processed prompts:  53%|█████▎    | 1056/2000 [02:23<02:14,  7.04it/s, est. speed input: 5858.75 toks/s, output: 1031.57 toks/s]"
          ]
        },
        {
          "name": "stdout",
          "output_type": "stream",
          "text": [
            "WARNING 07-20 15:20:21 scheduler.py:698] Input prompt (9171 tokens) is too long and exceeds limit of 8192\n"
          ]
        },
        {
          "name": "stderr",
          "output_type": "stream",
          "text": [
            "Processed prompts:  53%|█████▎    | 1060/2000 [02:24<02:01,  7.73it/s, est. speed input: 5927.53 toks/s, output: 1032.98 toks/s]"
          ]
        },
        {
          "name": "stdout",
          "output_type": "stream",
          "text": [
            "WARNING 07-20 15:20:22 scheduler.py:698] Input prompt (13472 tokens) is too long and exceeds limit of 8192\n"
          ]
        },
        {
          "name": "stderr",
          "output_type": "stream",
          "text": [
            "Processed prompts:  60%|█████▉    | 1198/2000 [02:42<02:15,  5.90it/s, est. speed input: 6022.08 toks/s, output: 1042.73 toks/s]"
          ]
        },
        {
          "name": "stdout",
          "output_type": "stream",
          "text": [
            "WARNING 07-20 15:20:40 scheduler.py:698] Input prompt (14999 tokens) is too long and exceeds limit of 8192\n"
          ]
        },
        {
          "name": "stderr",
          "output_type": "stream",
          "text": [
            "Processed prompts:  69%|██████▊   | 1371/2000 [03:05<01:56,  5.41it/s, est. speed input: 6028.03 toks/s, output: 1048.31 toks/s]"
          ]
        },
        {
          "name": "stdout",
          "output_type": "stream",
          "text": [
            "WARNING 07-20 15:21:03 scheduler.py:698] Input prompt (10441 tokens) is too long and exceeds limit of 8192\n"
          ]
        },
        {
          "name": "stderr",
          "output_type": "stream",
          "text": [
            "Processed prompts: 100%|██████████| 2000/2000 [04:27<00:00,  7.49it/s, est. speed input: 6037.36 toks/s, output: 1087.70 toks/s]\n"
          ]
        },
        {
          "name": "stdout",
          "output_type": "stream",
          "text": [
            "- Saving texts...\n",
            "- Saved 2000 texts\n",
            "- Processing chunk subset 20000, chunk 2000 to 4000...\n",
            "- Generating summaries...\n"
          ]
        },
        {
          "name": "stderr",
          "output_type": "stream",
          "text": [
            "\rProcessed prompts:   0%|          | 0/2000 [00:00<?, ?it/s, est. speed input: 0.00 toks/s, output: 0.00 toks/s]"
          ]
        },
        {
          "name": "stdout",
          "output_type": "stream",
          "text": [
            "WARNING 07-20 15:22:32 scheduler.py:698] Input prompt (11522 tokens) is too long and exceeds limit of 8192\n"
          ]
        },
        {
          "name": "stderr",
          "output_type": "stream",
          "text": [
            "\rProcessed prompts:   0%|          | 1/2000 [00:00<17:56,  1.86it/s, est. speed input: 21390.42 toks/s, output: 0.00 toks/s]"
          ]
        },
        {
          "name": "stdout",
          "output_type": "stream",
          "text": [
            "WARNING 07-20 15:22:36 scheduler.py:698] Input prompt (10062 tokens) is too long and exceeds limit of 8192\n"
          ]
        },
        {
          "name": "stderr",
          "output_type": "stream",
          "text": [
            "Processed prompts:   7%|▋         | 134/2000 [00:27<03:52,  8.01it/s, est. speed input: 3928.39 toks/s, output: 672.20 toks/s]"
          ]
        },
        {
          "name": "stdout",
          "output_type": "stream",
          "text": [
            "WARNING 07-20 15:22:59 scheduler.py:698] Input prompt (11151 tokens) is too long and exceeds limit of 8192\n"
          ]
        },
        {
          "name": "stderr",
          "output_type": "stream",
          "text": [
            "Processed prompts:  12%|█▏        | 236/2000 [00:41<03:30,  8.38it/s, est. speed input: 4776.32 toks/s, output: 768.59 toks/s]"
          ]
        },
        {
          "name": "stdout",
          "output_type": "stream",
          "text": [
            "WARNING 07-20 15:23:14 scheduler.py:698] Input prompt (29361 tokens) is too long and exceeds limit of 8192\n"
          ]
        },
        {
          "name": "stderr",
          "output_type": "stream",
          "text": [
            "Processed prompts:  12%|█▏        | 246/2000 [00:43<04:39,  6.28it/s, est. speed input: 5551.03 toks/s, output: 777.81 toks/s]"
          ]
        },
        {
          "name": "stdout",
          "output_type": "stream",
          "text": [
            "WARNING 07-20 15:23:15 scheduler.py:698] Input prompt (15210 tokens) is too long and exceeds limit of 8192\n"
          ]
        },
        {
          "name": "stderr",
          "output_type": "stream",
          "text": [
            "Processed prompts:  16%|█▌        | 313/2000 [00:52<02:42, 10.40it/s, est. speed input: 5908.32 toks/s, output: 831.06 toks/s]"
          ]
        },
        {
          "name": "stdout",
          "output_type": "stream",
          "text": [
            "WARNING 07-20 15:23:24 scheduler.py:698] Input prompt (13086 tokens) is too long and exceeds limit of 8192\n"
          ]
        },
        {
          "name": "stderr",
          "output_type": "stream",
          "text": [
            "Processed prompts:  16%|█▌        | 318/2000 [00:52<03:25,  8.20it/s, est. speed input: 6142.24 toks/s, output: 831.72 toks/s]"
          ]
        },
        {
          "name": "stdout",
          "output_type": "stream",
          "text": [
            "WARNING 07-20 15:23:25 scheduler.py:698] Input prompt (28747 tokens) is too long and exceeds limit of 8192\n"
          ]
        },
        {
          "name": "stderr",
          "output_type": "stream",
          "text": [
            "Processed prompts:  30%|██▉       | 596/2000 [01:32<03:11,  7.33it/s, est. speed input: 6269.01 toks/s, output: 917.56 toks/s]"
          ]
        },
        {
          "name": "stdout",
          "output_type": "stream",
          "text": [
            "WARNING 07-20 15:24:05 scheduler.py:698] Input prompt (8505 tokens) is too long and exceeds limit of 8192\n"
          ]
        },
        {
          "name": "stderr",
          "output_type": "stream",
          "text": [
            "Processed prompts:  36%|███▋      | 727/2000 [01:51<02:20,  9.08it/s, est. speed input: 6194.46 toks/s, output: 930.53 toks/s]"
          ]
        },
        {
          "name": "stdout",
          "output_type": "stream",
          "text": [
            "WARNING 07-20 15:24:24 scheduler.py:698] Input prompt (9886 tokens) is too long and exceeds limit of 8192\n"
          ]
        },
        {
          "name": "stderr",
          "output_type": "stream",
          "text": [
            "Processed prompts:  54%|█████▍    | 1086/2000 [02:46<02:12,  6.87it/s, est. speed input: 6094.80 toks/s, output: 937.67 toks/s]"
          ]
        },
        {
          "name": "stdout",
          "output_type": "stream",
          "text": [
            "WARNING 07-20 15:25:19 scheduler.py:698] Input prompt (10725 tokens) is too long and exceeds limit of 8192\n"
          ]
        },
        {
          "name": "stderr",
          "output_type": "stream",
          "text": [
            "Processed prompts:  55%|█████▌    | 1108/2000 [02:51<05:01,  2.96it/s, est. speed input: 6126.19 toks/s, output: 932.63 toks/s]"
          ]
        },
        {
          "name": "stdout",
          "output_type": "stream",
          "text": [
            "WARNING 07-20 15:25:24 scheduler.py:698] Input prompt (10316 tokens) is too long and exceeds limit of 8192\n"
          ]
        },
        {
          "name": "stderr",
          "output_type": "stream",
          "text": [
            "Processed prompts:  58%|█████▊    | 1162/2000 [02:59<03:07,  4.48it/s, est. speed input: 6121.38 toks/s, output: 938.14 toks/s]"
          ]
        },
        {
          "name": "stdout",
          "output_type": "stream",
          "text": [
            "WARNING 07-20 15:25:31 scheduler.py:698] Input prompt (9054 tokens) is too long and exceeds limit of 8192\n"
          ]
        },
        {
          "name": "stderr",
          "output_type": "stream",
          "text": [
            "Processed prompts:  58%|█████▊    | 1169/2000 [03:00<02:48,  4.92it/s, est. speed input: 6195.93 toks/s, output: 937.00 toks/s]"
          ]
        },
        {
          "name": "stdout",
          "output_type": "stream",
          "text": [
            "WARNING 07-20 15:25:33 scheduler.py:698] Input prompt (11929 tokens) is too long and exceeds limit of 8192\n"
          ]
        },
        {
          "name": "stderr",
          "output_type": "stream",
          "text": [
            "Processed prompts:  76%|███████▌  | 1519/2000 [03:51<01:17,  6.21it/s, est. speed input: 6082.06 toks/s, output: 950.56 toks/s]"
          ]
        },
        {
          "name": "stdout",
          "output_type": "stream",
          "text": [
            "WARNING 07-20 15:26:24 scheduler.py:698] Input prompt (8516 tokens) is too long and exceeds limit of 8192\n"
          ]
        },
        {
          "name": "stderr",
          "output_type": "stream",
          "text": [
            "Processed prompts:  80%|████████  | 1609/2000 [04:04<00:37, 10.47it/s, est. speed input: 6093.72 toks/s, output: 953.02 toks/s]"
          ]
        },
        {
          "name": "stdout",
          "output_type": "stream",
          "text": [
            "WARNING 07-20 15:26:36 scheduler.py:698] Input prompt (12913 tokens) is too long and exceeds limit of 8192\n"
          ]
        },
        {
          "name": "stderr",
          "output_type": "stream",
          "text": [
            "Processed prompts: 100%|██████████| 2000/2000 [05:05<00:00,  6.55it/s, est. speed input: 6002.11 toks/s, output: 963.72 toks/s]\n"
          ]
        },
        {
          "name": "stdout",
          "output_type": "stream",
          "text": [
            "- Saving texts...\n",
            "- Saved 2000 texts\n",
            "- Processing chunk subset 20000, chunk 4000 to 6000...\n",
            "- Generating summaries...\n"
          ]
        },
        {
          "name": "stderr",
          "output_type": "stream",
          "text": [
            "Processed prompts:   0%|          | 2/2000 [00:08<2:08:29,  3.86s/it, est. speed input: 750.58 toks/s, output: 2.80 toks/s]"
          ]
        },
        {
          "name": "stdout",
          "output_type": "stream",
          "text": [
            "WARNING 07-20 15:27:55 scheduler.py:1124] Sequence group 24133 is preempted by PreemptionMode.RECOMPUTE mode because there is not enough KV cache space. This can affect the end-to-end performance. Increase gpu_memory_utilization or tensor_parallel_size to provide more KV cache memory. total_num_cumulative_preemption=101\n"
          ]
        },
        {
          "name": "stderr",
          "output_type": "stream",
          "text": [
            "Processed prompts:  11%|█▏        | 226/2000 [00:40<04:22,  6.77it/s, est. speed input: 3950.58 toks/s, output: 767.49 toks/s]"
          ]
        },
        {
          "name": "stdout",
          "output_type": "stream",
          "text": [
            "WARNING 07-20 15:28:25 scheduler.py:698] Input prompt (21034 tokens) is too long and exceeds limit of 8192\n"
          ]
        },
        {
          "name": "stderr",
          "output_type": "stream",
          "text": [
            "Processed prompts:  12%|█▎        | 250/2000 [00:43<06:03,  4.82it/s, est. speed input: 4457.70 toks/s, output: 775.85 toks/s]"
          ]
        },
        {
          "name": "stdout",
          "output_type": "stream",
          "text": [
            "WARNING 07-20 15:28:29 scheduler.py:698] Input prompt (11135 tokens) is too long and exceeds limit of 8192\n"
          ]
        },
        {
          "name": "stderr",
          "output_type": "stream",
          "text": [
            "Processed prompts:  14%|█▍        | 288/2000 [00:48<02:42, 10.57it/s, est. speed input: 4703.65 toks/s, output: 804.84 toks/s]"
          ]
        },
        {
          "name": "stdout",
          "output_type": "stream",
          "text": [
            "WARNING 07-20 15:28:34 scheduler.py:698] Input prompt (8851 tokens) is too long and exceeds limit of 8192\n"
          ]
        },
        {
          "name": "stderr",
          "output_type": "stream",
          "text": [
            "Processed prompts:  18%|█▊        | 369/2000 [00:59<03:09,  8.59it/s, est. speed input: 5185.62 toks/s, output: 849.62 toks/s]"
          ]
        },
        {
          "name": "stdout",
          "output_type": "stream",
          "text": [
            "WARNING 07-20 15:28:45 scheduler.py:698] Input prompt (17069 tokens) is too long and exceeds limit of 8192\n"
          ]
        },
        {
          "name": "stderr",
          "output_type": "stream",
          "text": [
            "Processed prompts:  43%|████▎     | 853/2000 [02:04<02:42,  7.05it/s, est. speed input: 5474.86 toks/s, output: 969.71 toks/s]"
          ]
        },
        {
          "name": "stdout",
          "output_type": "stream",
          "text": [
            "WARNING 07-20 15:29:50 scheduler.py:698] Input prompt (15672 tokens) is too long and exceeds limit of 8192\n"
          ]
        },
        {
          "name": "stderr",
          "output_type": "stream",
          "text": [
            "Processed prompts:  46%|████▌     | 919/2000 [02:13<02:47,  6.46it/s, est. speed input: 5566.67 toks/s, output: 981.30 toks/s]"
          ]
        },
        {
          "name": "stdout",
          "output_type": "stream",
          "text": [
            "WARNING 07-20 15:29:59 scheduler.py:698] Input prompt (10078 tokens) is too long and exceeds limit of 8192\n"
          ]
        },
        {
          "name": "stderr",
          "output_type": "stream",
          "text": [
            "Processed prompts:  49%|████▉     | 986/2000 [02:23<03:33,  4.75it/s, est. speed input: 5623.82 toks/s, output: 984.07 toks/s]"
          ]
        },
        {
          "name": "stdout",
          "output_type": "stream",
          "text": [
            "WARNING 07-20 15:30:09 scheduler.py:698] Input prompt (13391 tokens) is too long and exceeds limit of 8192\n"
          ]
        },
        {
          "name": "stderr",
          "output_type": "stream",
          "text": [
            "Processed prompts:  67%|██████▋   | 1340/2000 [03:16<02:14,  4.90it/s, est. speed input: 5684.91 toks/s, output: 996.23 toks/s]"
          ]
        },
        {
          "name": "stdout",
          "output_type": "stream",
          "text": [
            "WARNING 07-20 15:31:02 scheduler.py:698] Input prompt (20831 tokens) is too long and exceeds limit of 8192\n"
          ]
        },
        {
          "name": "stderr",
          "output_type": "stream",
          "text": [
            "Processed prompts: 100%|██████████| 2000/2000 [05:31<00:00,  6.04it/s, est. speed input: 4981.81 toks/s, output: 934.35 toks/s]\n"
          ]
        },
        {
          "name": "stdout",
          "output_type": "stream",
          "text": [
            "- Saving texts...\n",
            "- Saved 2000 texts\n",
            "- Processing chunk subset 20000, chunk 6000 to 8000...\n",
            "- Generating summaries...\n"
          ]
        },
        {
          "name": "stderr",
          "output_type": "stream",
          "text": [
            "Processed prompts:   5%|▍         | 92/2000 [00:21<04:14,  7.49it/s, est. speed input: 2270.41 toks/s, output: 490.09 toks/s]"
          ]
        },
        {
          "name": "stdout",
          "output_type": "stream",
          "text": [
            "WARNING 07-20 15:33:44 scheduler.py:698] Input prompt (8971 tokens) is too long and exceeds limit of 8192\n"
          ]
        },
        {
          "name": "stderr",
          "output_type": "stream",
          "text": [
            "Processed prompts:  15%|█▍        | 293/2000 [00:45<02:53,  9.84it/s, est. speed input: 3984.04 toks/s, output: 867.05 toks/s]"
          ]
        },
        {
          "name": "stdout",
          "output_type": "stream",
          "text": [
            "WARNING 07-20 15:34:09 scheduler.py:698] Input prompt (9918 tokens) is too long and exceeds limit of 8192\n"
          ]
        },
        {
          "name": "stderr",
          "output_type": "stream",
          "text": [
            "Processed prompts:  21%|██        | 411/2000 [01:01<03:33,  7.44it/s, est. speed input: 4564.20 toks/s, output: 934.24 toks/s]"
          ]
        },
        {
          "name": "stdout",
          "output_type": "stream",
          "text": [
            "WARNING 07-20 15:34:24 scheduler.py:698] Input prompt (8265 tokens) is too long and exceeds limit of 8192\n"
          ]
        },
        {
          "name": "stderr",
          "output_type": "stream",
          "text": [
            "Processed prompts:  25%|██▌       | 506/2000 [01:12<03:48,  6.53it/s, est. speed input: 4837.04 toks/s, output: 975.43 toks/s]"
          ]
        },
        {
          "name": "stdout",
          "output_type": "stream",
          "text": [
            "WARNING 07-20 15:34:35 scheduler.py:698] Input prompt (9188 tokens) is too long and exceeds limit of 8192\n"
          ]
        },
        {
          "name": "stderr",
          "output_type": "stream",
          "text": [
            "Processed prompts:  39%|███▉      | 775/2000 [01:48<02:15,  9.05it/s, est. speed input: 5209.49 toks/s, output: 998.14 toks/s]"
          ]
        },
        {
          "name": "stdout",
          "output_type": "stream",
          "text": [
            "WARNING 07-20 15:35:12 scheduler.py:698] Input prompt (8597 tokens) is too long and exceeds limit of 8192\n"
          ]
        },
        {
          "name": "stderr",
          "output_type": "stream",
          "text": [
            "Processed prompts:  39%|███▉      | 780/2000 [01:49<02:28,  8.20it/s, est. speed input: 5267.42 toks/s, output: 996.22 toks/s]"
          ]
        },
        {
          "name": "stdout",
          "output_type": "stream",
          "text": [
            "WARNING 07-20 15:35:13 scheduler.py:698] Input prompt (8211 tokens) is too long and exceeds limit of 8192\n"
          ]
        },
        {
          "name": "stderr",
          "output_type": "stream",
          "text": [
            "Processed prompts:  43%|████▎     | 859/2000 [02:01<01:36, 11.80it/s, est. speed input: 5369.75 toks/s, output: 989.83 toks/s]"
          ]
        },
        {
          "name": "stdout",
          "output_type": "stream",
          "text": [
            "WARNING 07-20 15:35:25 scheduler.py:698] Input prompt (8495 tokens) is too long and exceeds limit of 8192\n"
          ]
        },
        {
          "name": "stderr",
          "output_type": "stream",
          "text": [
            "Processed prompts:  51%|█████▏    | 1026/2000 [02:23<02:52,  5.64it/s, est. speed input: 5479.87 toks/s, output: 1007.54 toks/s]"
          ]
        },
        {
          "name": "stdout",
          "output_type": "stream",
          "text": [
            "WARNING 07-20 15:35:47 scheduler.py:698] Input prompt (9684 tokens) is too long and exceeds limit of 8192\n"
          ]
        },
        {
          "name": "stderr",
          "output_type": "stream",
          "text": [
            "Processed prompts:  67%|██████▋   | 1333/2000 [03:03<01:01, 10.79it/s, est. speed input: 5497.13 toks/s, output: 1025.42 toks/s]"
          ]
        },
        {
          "name": "stdout",
          "output_type": "stream",
          "text": [
            "WARNING 07-20 15:36:27 scheduler.py:698] Input prompt (10561 tokens) is too long and exceeds limit of 8192\n"
          ]
        },
        {
          "name": "stderr",
          "output_type": "stream",
          "text": [
            "Processed prompts:  67%|██████▋   | 1341/2000 [03:04<00:58, 11.31it/s, est. speed input: 5567.37 toks/s, output: 1027.58 toks/s]"
          ]
        },
        {
          "name": "stdout",
          "output_type": "stream",
          "text": [
            "WARNING 07-20 15:36:27 scheduler.py:698] Input prompt (11726 tokens) is too long and exceeds limit of 8192\n"
          ]
        },
        {
          "name": "stderr",
          "output_type": "stream",
          "text": [
            "Processed prompts:  89%|████████▉ | 1787/2000 [04:04<00:26,  8.18it/s, est. speed input: 5651.41 toks/s, output: 1039.85 toks/s]"
          ]
        },
        {
          "name": "stdout",
          "output_type": "stream",
          "text": [
            "WARNING 07-20 15:37:28 scheduler.py:698] Input prompt (19461 tokens) is too long and exceeds limit of 8192\n"
          ]
        },
        {
          "name": "stderr",
          "output_type": "stream",
          "text": [
            "Processed prompts: 100%|██████████| 2000/2000 [04:40<00:00,  7.14it/s, est. speed input: 5747.68 toks/s, output: 1036.38 toks/s]\n"
          ]
        },
        {
          "name": "stdout",
          "output_type": "stream",
          "text": [
            "- Saving texts...\n",
            "- Saved 2000 texts\n",
            "- Processing chunk subset 20000, chunk 8000 to 10000...\n",
            "- Generating summaries...\n"
          ]
        },
        {
          "name": "stderr",
          "output_type": "stream",
          "text": [
            "\rProcessed prompts:   0%|          | 0/2000 [00:00<?, ?it/s, est. speed input: 0.00 toks/s, output: 0.00 toks/s]"
          ]
        },
        {
          "name": "stdout",
          "output_type": "stream",
          "text": [
            "WARNING 07-20 15:38:14 scheduler.py:698] Input prompt (15438 tokens) is too long and exceeds limit of 8192\n"
          ]
        },
        {
          "name": "stderr",
          "output_type": "stream",
          "text": [
            "Processed prompts:  14%|█▍        | 284/2000 [00:44<05:57,  4.80it/s, est. speed input: 4560.47 toks/s, output: 815.50 toks/s]"
          ]
        },
        {
          "name": "stdout",
          "output_type": "stream",
          "text": [
            "WARNING 07-20 15:38:55 scheduler.py:698] Input prompt (13563 tokens) is too long and exceeds limit of 8192\n"
          ]
        },
        {
          "name": "stderr",
          "output_type": "stream",
          "text": [
            "Processed prompts:  23%|██▎       | 465/2000 [01:07<02:40,  9.58it/s, est. speed input: 5044.18 toks/s, output: 913.68 toks/s]"
          ]
        },
        {
          "name": "stdout",
          "output_type": "stream",
          "text": [
            "WARNING 07-20 15:39:17 scheduler.py:698] Input prompt (20184 tokens) is too long and exceeds limit of 8192\n"
          ]
        },
        {
          "name": "stderr",
          "output_type": "stream",
          "text": [
            "Processed prompts:  44%|████▍     | 885/2000 [01:57<02:15,  8.23it/s, est. speed input: 5341.15 toks/s, output: 1035.28 toks/s]"
          ]
        },
        {
          "name": "stdout",
          "output_type": "stream",
          "text": [
            "WARNING 07-20 15:40:07 scheduler.py:698] Input prompt (8518 tokens) is too long and exceeds limit of 8192\n"
          ]
        },
        {
          "name": "stderr",
          "output_type": "stream",
          "text": [
            "Processed prompts:  60%|██████    | 1203/2000 [02:38<01:27,  9.14it/s, est. speed input: 5496.66 toks/s, output: 1051.74 toks/s]"
          ]
        },
        {
          "name": "stdout",
          "output_type": "stream",
          "text": [
            "WARNING 07-20 15:40:48 scheduler.py:698] Input prompt (33725 tokens) is too long and exceeds limit of 8192\n"
          ]
        },
        {
          "name": "stderr",
          "output_type": "stream",
          "text": [
            "Processed prompts:  71%|███████   | 1418/2000 [03:06<00:58,  9.90it/s, est. speed input: 5745.25 toks/s, output: 1056.20 toks/s]"
          ]
        },
        {
          "name": "stdout",
          "output_type": "stream",
          "text": [
            "WARNING 07-20 15:41:17 scheduler.py:698] Input prompt (16210 tokens) is too long and exceeds limit of 8192\n"
          ]
        },
        {
          "name": "stderr",
          "output_type": "stream",
          "text": [
            "Processed prompts:  74%|███████▍  | 1477/2000 [03:14<01:15,  6.90it/s, est. speed input: 5791.29 toks/s, output: 1060.21 toks/s]"
          ]
        },
        {
          "name": "stdout",
          "output_type": "stream",
          "text": [
            "WARNING 07-20 15:41:24 scheduler.py:698] Input prompt (29327 tokens) is too long and exceeds limit of 8192\n"
          ]
        },
        {
          "name": "stderr",
          "output_type": "stream",
          "text": [
            "Processed prompts:  77%|███████▋  | 1537/2000 [03:21<00:55,  8.34it/s, est. speed input: 5930.42 toks/s, output: 1065.01 toks/s]"
          ]
        },
        {
          "name": "stdout",
          "output_type": "stream",
          "text": [
            "WARNING 07-20 15:41:31 scheduler.py:698] Input prompt (13746 tokens) is too long and exceeds limit of 8192\n"
          ]
        },
        {
          "name": "stderr",
          "output_type": "stream",
          "text": [
            "Processed prompts:  80%|███████▉  | 1595/2000 [03:28<00:38, 10.47it/s, est. speed input: 6028.41 toks/s, output: 1065.52 toks/s]"
          ]
        },
        {
          "name": "stdout",
          "output_type": "stream",
          "text": [
            "WARNING 07-20 15:41:39 scheduler.py:698] Input prompt (10061 tokens) is too long and exceeds limit of 8192\n"
          ]
        },
        {
          "name": "stderr",
          "output_type": "stream",
          "text": [
            "Processed prompts:  85%|████████▍ | 1698/2000 [03:45<00:29, 10.16it/s, est. speed input: 6005.91 toks/s, output: 1050.84 toks/s]"
          ]
        },
        {
          "name": "stdout",
          "output_type": "stream",
          "text": [
            "WARNING 07-20 15:41:55 scheduler.py:698] Input prompt (20754 tokens) is too long and exceeds limit of 8192\n"
          ]
        },
        {
          "name": "stderr",
          "output_type": "stream",
          "text": [
            "Processed prompts:  91%|█████████ | 1821/2000 [04:00<00:17, 10.41it/s, est. speed input: 6065.73 toks/s, output: 1056.02 toks/s]"
          ]
        },
        {
          "name": "stdout",
          "output_type": "stream",
          "text": [
            "WARNING 07-20 15:42:10 scheduler.py:698] Input prompt (9074 tokens) is too long and exceeds limit of 8192\n"
          ]
        },
        {
          "name": "stderr",
          "output_type": "stream",
          "text": [
            "Processed prompts: 100%|██████████| 2000/2000 [04:21<00:00,  7.64it/s, est. speed input: 6170.20 toks/s, output: 1083.26 toks/s]\n"
          ]
        },
        {
          "name": "stdout",
          "output_type": "stream",
          "text": [
            "- Saving texts...\n",
            "- Saved 2000 texts\n",
            "- Processing chunk 30000 to 40000...\n",
            "- Processing chunk subset 30000, chunk 0 to 2000...\n",
            "- Generating summaries...\n"
          ]
        },
        {
          "name": "stderr",
          "output_type": "stream",
          "text": [
            "\rProcessed prompts:   0%|          | 0/2000 [00:00<?, ?it/s, est. speed input: 0.00 toks/s, output: 0.00 toks/s]"
          ]
        },
        {
          "name": "stdout",
          "output_type": "stream",
          "text": [
            "WARNING 07-20 15:42:39 scheduler.py:698] Input prompt (11317 tokens) is too long and exceeds limit of 8192\n"
          ]
        },
        {
          "name": "stderr",
          "output_type": "stream",
          "text": [
            "\rProcessed prompts:   0%|          | 1/2000 [00:00<18:09,  1.83it/s, est. speed input: 20759.35 toks/s, output: 0.00 toks/s]"
          ]
        },
        {
          "name": "stdout",
          "output_type": "stream",
          "text": [
            "WARNING 07-20 15:42:41 scheduler.py:698] Input prompt (20667 tokens) is too long and exceeds limit of 8192\n"
          ]
        },
        {
          "name": "stderr",
          "output_type": "stream",
          "text": [
            "Processed prompts:   8%|▊         | 162/2000 [00:27<04:38,  6.61it/s, est. speed input: 4267.40 toks/s, output: 718.37 toks/s]"
          ]
        },
        {
          "name": "stdout",
          "output_type": "stream",
          "text": [
            "WARNING 07-20 15:43:06 scheduler.py:698] Input prompt (10341 tokens) is too long and exceeds limit of 8192\n"
          ]
        },
        {
          "name": "stderr",
          "output_type": "stream",
          "text": [
            "Processed prompts:  16%|█▌        | 317/2000 [00:50<04:56,  5.67it/s, est. speed input: 4892.26 toks/s, output: 833.12 toks/s]"
          ]
        },
        {
          "name": "stdout",
          "output_type": "stream",
          "text": [
            "WARNING 07-20 15:43:29 scheduler.py:698] Input prompt (15603 tokens) is too long and exceeds limit of 8192\n"
          ]
        },
        {
          "name": "stderr",
          "output_type": "stream",
          "text": [
            "\rProcessed prompts:  16%|█▌        | 319/2000 [00:50<04:22,  6.40it/s, est. speed input: 5218.33 toks/s, output: 832.36 toks/s]"
          ]
        },
        {
          "name": "stdout",
          "output_type": "stream",
          "text": [
            "WARNING 07-20 15:43:29 scheduler.py:698] Input prompt (29393 tokens) is too long and exceeds limit of 8192\n"
          ]
        },
        {
          "name": "stderr",
          "output_type": "stream",
          "text": [
            "Processed prompts:  20%|█▉        | 392/2000 [01:00<02:51,  9.38it/s, est. speed input: 5741.46 toks/s, output: 869.81 toks/s]"
          ]
        },
        {
          "name": "stdout",
          "output_type": "stream",
          "text": [
            "WARNING 07-20 15:43:39 scheduler.py:698] Input prompt (12313 tokens) is too long and exceeds limit of 8192\n"
          ]
        },
        {
          "name": "stderr",
          "output_type": "stream",
          "text": [
            "Processed prompts:  30%|██▉       | 591/2000 [01:29<03:41,  6.37it/s, est. speed input: 5693.61 toks/s, output: 912.18 toks/s]"
          ]
        },
        {
          "name": "stdout",
          "output_type": "stream",
          "text": [
            "WARNING 07-20 15:44:09 scheduler.py:698] Input prompt (13852 tokens) is too long and exceeds limit of 8192\n"
          ]
        },
        {
          "name": "stderr",
          "output_type": "stream",
          "text": [
            "Processed prompts:  45%|████▍     | 898/2000 [02:14<02:54,  6.31it/s, est. speed input: 5809.28 toks/s, output: 934.99 toks/s]"
          ]
        },
        {
          "name": "stdout",
          "output_type": "stream",
          "text": [
            "WARNING 07-20 15:44:54 scheduler.py:698] Input prompt (10373 tokens) is too long and exceeds limit of 8192\n"
          ]
        },
        {
          "name": "stderr",
          "output_type": "stream",
          "text": [
            "Processed prompts:  55%|█████▍    | 1098/2000 [02:47<03:09,  4.77it/s, est. speed input: 5762.00 toks/s, output: 931.92 toks/s]"
          ]
        },
        {
          "name": "stdout",
          "output_type": "stream",
          "text": [
            "WARNING 07-20 15:45:27 scheduler.py:698] Input prompt (8308 tokens) is too long and exceeds limit of 8192\n"
          ]
        },
        {
          "name": "stderr",
          "output_type": "stream",
          "text": [
            "Processed prompts:  75%|███████▌  | 1501/2000 [03:45<01:04,  7.70it/s, est. speed input: 5782.21 toks/s, output: 955.40 toks/s]"
          ]
        },
        {
          "name": "stdout",
          "output_type": "stream",
          "text": [
            "WARNING 07-20 15:46:24 scheduler.py:698] Input prompt (10702 tokens) is too long and exceeds limit of 8192\n"
          ]
        },
        {
          "name": "stderr",
          "output_type": "stream",
          "text": [
            "Processed prompts:  80%|████████  | 1608/2000 [04:00<01:14,  5.29it/s, est. speed input: 5807.04 toks/s, output: 961.78 toks/s]"
          ]
        },
        {
          "name": "stdout",
          "output_type": "stream",
          "text": [
            "WARNING 07-20 15:46:39 scheduler.py:698] Input prompt (11062 tokens) is too long and exceeds limit of 8192\n"
          ]
        },
        {
          "name": "stderr",
          "output_type": "stream",
          "text": [
            "Processed prompts: 100%|██████████| 2000/2000 [05:05<00:00,  6.54it/s, est. speed input: 5734.31 toks/s, output: 962.99 toks/s]\n"
          ]
        },
        {
          "name": "stdout",
          "output_type": "stream",
          "text": [
            "- Saving texts...\n",
            "- Saved 2000 texts\n",
            "- Processing chunk subset 30000, chunk 2000 to 4000...\n",
            "- Generating summaries...\n"
          ]
        },
        {
          "name": "stderr",
          "output_type": "stream",
          "text": [
            "Processed prompts:  31%|███       | 622/2000 [01:33<03:21,  6.85it/s, est. speed input: 4633.31 toks/s, output: 931.41 toks/s]"
          ]
        },
        {
          "name": "stdout",
          "output_type": "stream",
          "text": [
            "WARNING 07-20 15:49:25 scheduler.py:698] Input prompt (9834 tokens) is too long and exceeds limit of 8192\n"
          ]
        },
        {
          "name": "stderr",
          "output_type": "stream",
          "text": [
            "Processed prompts:  40%|████      | 806/2000 [01:59<02:47,  7.12it/s, est. speed input: 4947.34 toks/s, output: 966.06 toks/s]"
          ]
        },
        {
          "name": "stdout",
          "output_type": "stream",
          "text": [
            "WARNING 07-20 15:49:50 scheduler.py:698] Input prompt (12883 tokens) is too long and exceeds limit of 8192\n"
          ]
        },
        {
          "name": "stderr",
          "output_type": "stream",
          "text": [
            "Processed prompts:  84%|████████▎ | 1672/2000 [04:00<00:49,  6.62it/s, est. speed input: 5353.34 toks/s, output: 1002.62 toks/s]"
          ]
        },
        {
          "name": "stdout",
          "output_type": "stream",
          "text": [
            "WARNING 07-20 15:51:52 scheduler.py:698] Input prompt (16152 tokens) is too long and exceeds limit of 8192\n"
          ]
        },
        {
          "name": "stderr",
          "output_type": "stream",
          "text": [
            "Processed prompts:  87%|████████▋ | 1733/2000 [04:09<00:59,  4.50it/s, est. speed input: 5437.97 toks/s, output: 1005.10 toks/s]"
          ]
        },
        {
          "name": "stdout",
          "output_type": "stream",
          "text": [
            "WARNING 07-20 15:52:01 scheduler.py:698] Input prompt (8827 tokens) is too long and exceeds limit of 8192\n"
          ]
        },
        {
          "name": "stderr",
          "output_type": "stream",
          "text": [
            "Processed prompts: 100%|██████████| 2000/2000 [05:13<00:00,  6.38it/s, est. speed input: 5075.84 toks/s, output: 942.46 toks/s]\n"
          ]
        },
        {
          "name": "stdout",
          "output_type": "stream",
          "text": [
            "- Saving texts...\n",
            "- Saved 2000 texts\n",
            "- Processing chunk subset 30000, chunk 4000 to 6000...\n",
            "- Generating summaries...\n"
          ]
        },
        {
          "name": "stderr",
          "output_type": "stream",
          "text": [
            "\rProcessed prompts:   0%|          | 0/2000 [00:00<?, ?it/s, est. speed input: 0.00 toks/s, output: 0.00 toks/s]"
          ]
        },
        {
          "name": "stdout",
          "output_type": "stream",
          "text": [
            "WARNING 07-20 15:53:21 scheduler.py:1124] Sequence group 34155 is preempted by PreemptionMode.RECOMPUTE mode because there is not enough KV cache space. This can affect the end-to-end performance. Increase gpu_memory_utilization or tensor_parallel_size to provide more KV cache memory. total_num_cumulative_preemption=151\n"
          ]
        },
        {
          "name": "stderr",
          "output_type": "stream",
          "text": [
            "Processed prompts:   5%|▍         | 94/2000 [00:19<02:53, 10.96it/s, est. speed input: 1856.53 toks/s, output: 499.45 toks/s]"
          ]
        },
        {
          "name": "stdout",
          "output_type": "stream",
          "text": [
            "WARNING 07-20 15:53:31 scheduler.py:698] Input prompt (8638 tokens) is too long and exceeds limit of 8192\n"
          ]
        },
        {
          "name": "stderr",
          "output_type": "stream",
          "text": [
            "Processed prompts:  13%|█▎        | 260/2000 [00:41<04:12,  6.90it/s, est. speed input: 4051.48 toks/s, output: 837.88 toks/s]"
          ]
        },
        {
          "name": "stdout",
          "output_type": "stream",
          "text": [
            "WARNING 07-20 15:53:53 scheduler.py:698] Input prompt (9866 tokens) is too long and exceeds limit of 8192\n"
          ]
        },
        {
          "name": "stderr",
          "output_type": "stream",
          "text": [
            "Processed prompts:  22%|██▏       | 430/2000 [01:04<02:12, 11.84it/s, est. speed input: 4654.97 toks/s, output: 912.22 toks/s]"
          ]
        },
        {
          "name": "stdout",
          "output_type": "stream",
          "text": [
            "WARNING 07-20 15:54:17 scheduler.py:698] Input prompt (11035 tokens) is too long and exceeds limit of 8192\n"
          ]
        },
        {
          "name": "stderr",
          "output_type": "stream",
          "text": [
            "Processed prompts:  31%|███       | 619/2000 [01:27<02:39,  8.66it/s, est. speed input: 5048.12 toks/s, output: 983.40 toks/s]"
          ]
        },
        {
          "name": "stdout",
          "output_type": "stream",
          "text": [
            "WARNING 07-20 15:54:39 scheduler.py:698] Input prompt (8791 tokens) is too long and exceeds limit of 8192\n"
          ]
        },
        {
          "name": "stderr",
          "output_type": "stream",
          "text": [
            "Processed prompts:  32%|███▏      | 631/2000 [01:29<03:07,  7.32it/s, est. speed input: 5123.03 toks/s, output: 987.61 toks/s]"
          ]
        },
        {
          "name": "stdout",
          "output_type": "stream",
          "text": [
            "WARNING 07-20 15:54:41 scheduler.py:698] Input prompt (21946 tokens) is too long and exceeds limit of 8192\n"
          ]
        },
        {
          "name": "stderr",
          "output_type": "stream",
          "text": [
            "Processed prompts:  34%|███▍      | 688/2000 [01:36<02:11,  9.94it/s, est. speed input: 5324.10 toks/s, output: 995.96 toks/s]"
          ]
        },
        {
          "name": "stdout",
          "output_type": "stream",
          "text": [
            "WARNING 07-20 15:54:49 scheduler.py:698] Input prompt (9153 tokens) is too long and exceeds limit of 8192\n"
          ]
        },
        {
          "name": "stderr",
          "output_type": "stream",
          "text": [
            "Processed prompts:  44%|████▍     | 879/2000 [02:00<02:28,  7.57it/s, est. speed input: 5433.35 toks/s, output: 1028.54 toks/s]"
          ]
        },
        {
          "name": "stdout",
          "output_type": "stream",
          "text": [
            "WARNING 07-20 15:55:12 scheduler.py:698] Input prompt (12992 tokens) is too long and exceeds limit of 8192\n"
          ]
        },
        {
          "name": "stderr",
          "output_type": "stream",
          "text": [
            "Processed prompts:  46%|████▋     | 929/2000 [02:08<01:27, 12.27it/s, est. speed input: 5560.52 toks/s, output: 1029.18 toks/s]"
          ]
        },
        {
          "name": "stdout",
          "output_type": "stream",
          "text": [
            "WARNING 07-20 15:55:20 scheduler.py:698] Input prompt (11510 tokens) is too long and exceeds limit of 8192\n"
          ]
        },
        {
          "name": "stderr",
          "output_type": "stream",
          "text": [
            "Processed prompts:  62%|██████▏   | 1236/2000 [02:52<02:04,  6.14it/s, est. speed input: 5579.63 toks/s, output: 1024.55 toks/s]"
          ]
        },
        {
          "name": "stdout",
          "output_type": "stream",
          "text": [
            "WARNING 07-20 15:56:04 scheduler.py:698] Input prompt (19129 tokens) is too long and exceeds limit of 8192\n"
          ]
        },
        {
          "name": "stderr",
          "output_type": "stream",
          "text": [
            "Processed prompts:  65%|██████▌   | 1308/2000 [03:01<01:29,  7.70it/s, est. speed input: 5708.85 toks/s, output: 1031.39 toks/s]"
          ]
        },
        {
          "name": "stdout",
          "output_type": "stream",
          "text": [
            "WARNING 07-20 15:56:13 scheduler.py:698] Input prompt (17615 tokens) is too long and exceeds limit of 8192\n",
            "WARNING 07-20 15:56:13 scheduler.py:698] Input prompt (10225 tokens) is too long and exceeds limit of 8192\n"
          ]
        },
        {
          "name": "stderr",
          "output_type": "stream",
          "text": [
            "Processed prompts:  75%|███████▌  | 1509/2000 [03:28<01:07,  7.27it/s, est. speed input: 5849.75 toks/s, output: 1040.75 toks/s]"
          ]
        },
        {
          "name": "stdout",
          "output_type": "stream",
          "text": [
            "WARNING 07-20 15:56:40 scheduler.py:698] Input prompt (11722 tokens) is too long and exceeds limit of 8192\n"
          ]
        },
        {
          "name": "stderr",
          "output_type": "stream",
          "text": [
            "Processed prompts:  78%|███████▊  | 1556/2000 [03:34<01:13,  6.07it/s, est. speed input: 5890.59 toks/s, output: 1042.48 toks/s]"
          ]
        },
        {
          "name": "stdout",
          "output_type": "stream",
          "text": [
            "WARNING 07-20 15:56:46 scheduler.py:698] Input prompt (9309 tokens) is too long and exceeds limit of 8192\n"
          ]
        },
        {
          "name": "stderr",
          "output_type": "stream",
          "text": [
            "Processed prompts:  78%|███████▊  | 1563/2000 [03:35<01:41,  4.32it/s, est. speed input: 5947.54 toks/s, output: 1038.69 toks/s]"
          ]
        },
        {
          "name": "stdout",
          "output_type": "stream",
          "text": [
            "WARNING 07-20 15:56:47 scheduler.py:698] Input prompt (9744 tokens) is too long and exceeds limit of 8192\n"
          ]
        },
        {
          "name": "stderr",
          "output_type": "stream",
          "text": [
            "Processed prompts:  92%|█████████▏| 1844/2000 [04:11<00:28,  5.41it/s, est. speed input: 5946.36 toks/s, output: 1051.50 toks/s]"
          ]
        },
        {
          "name": "stdout",
          "output_type": "stream",
          "text": [
            "WARNING 07-20 15:57:24 scheduler.py:698] Input prompt (9143 tokens) is too long and exceeds limit of 8192\n"
          ]
        },
        {
          "name": "stderr",
          "output_type": "stream",
          "text": [
            "Processed prompts: 100%|██████████| 2000/2000 [04:30<00:00,  7.40it/s, est. speed input: 6108.29 toks/s, output: 1070.66 toks/s]\n"
          ]
        },
        {
          "name": "stdout",
          "output_type": "stream",
          "text": [
            "- Saving texts...\n",
            "- Saved 2000 texts\n",
            "- Processing chunk subset 30000, chunk 6000 to 8000...\n",
            "- Generating summaries...\n"
          ]
        },
        {
          "name": "stderr",
          "output_type": "stream",
          "text": [
            "Processed prompts:  11%|█▏        | 228/2000 [00:42<05:41,  5.20it/s, est. speed input: 4254.00 toks/s, output: 749.62 toks/s]"
          ]
        },
        {
          "name": "stdout",
          "output_type": "stream",
          "text": [
            "WARNING 07-20 15:58:32 scheduler.py:698] Input prompt (9159 tokens) is too long and exceeds limit of 8192\n"
          ]
        },
        {
          "name": "stderr",
          "output_type": "stream",
          "text": [
            "Processed prompts:  16%|█▋        | 325/2000 [00:55<03:38,  7.65it/s, est. speed input: 4469.65 toks/s, output: 826.63 toks/s]"
          ]
        },
        {
          "name": "stdout",
          "output_type": "stream",
          "text": [
            "WARNING 07-20 15:58:44 scheduler.py:698] Input prompt (16205 tokens) is too long and exceeds limit of 8192\n"
          ]
        },
        {
          "name": "stderr",
          "output_type": "stream",
          "text": [
            "Processed prompts:  17%|█▋        | 339/2000 [00:57<04:10,  6.62it/s, est. speed input: 4776.32 toks/s, output: 836.55 toks/s]"
          ]
        },
        {
          "name": "stdout",
          "output_type": "stream",
          "text": [
            "WARNING 07-20 15:58:46 scheduler.py:698] Input prompt (10425 tokens) is too long and exceeds limit of 8192\n"
          ]
        },
        {
          "name": "stderr",
          "output_type": "stream",
          "text": [
            "Processed prompts:  26%|██▌       | 510/2000 [01:20<02:48,  8.83it/s, est. speed input: 5046.33 toks/s, output: 890.82 toks/s]"
          ]
        },
        {
          "name": "stdout",
          "output_type": "stream",
          "text": [
            "WARNING 07-20 15:59:09 scheduler.py:698] Input prompt (9068 tokens) is too long and exceeds limit of 8192\n"
          ]
        },
        {
          "name": "stderr",
          "output_type": "stream",
          "text": [
            "Processed prompts:  28%|██▊       | 567/2000 [01:27<02:04, 11.47it/s, est. speed input: 5257.66 toks/s, output: 910.08 toks/s]"
          ]
        },
        {
          "name": "stdout",
          "output_type": "stream",
          "text": [
            "WARNING 07-20 15:59:16 scheduler.py:698] Input prompt (8206 tokens) is too long and exceeds limit of 8192\n"
          ]
        },
        {
          "name": "stderr",
          "output_type": "stream",
          "text": [
            "Processed prompts:  33%|███▎      | 661/2000 [01:39<02:47,  7.97it/s, est. speed input: 5300.27 toks/s, output: 943.74 toks/s]"
          ]
        },
        {
          "name": "stdout",
          "output_type": "stream",
          "text": [
            "WARNING 07-20 15:59:28 scheduler.py:698] Input prompt (15694 tokens) is too long and exceeds limit of 8192\n"
          ]
        },
        {
          "name": "stderr",
          "output_type": "stream",
          "text": [
            "\rProcessed prompts:  33%|███▎      | 663/2000 [01:39<02:37,  8.49it/s, est. speed input: 5449.73 toks/s, output: 943.16 toks/s]"
          ]
        },
        {
          "name": "stdout",
          "output_type": "stream",
          "text": [
            "WARNING 07-20 15:59:29 scheduler.py:698] Input prompt (13147 tokens) is too long and exceeds limit of 8192\n"
          ]
        },
        {
          "name": "stderr",
          "output_type": "stream",
          "text": [
            "Processed prompts:  37%|███▋      | 743/2000 [01:50<01:50, 11.40it/s, est. speed input: 5614.88 toks/s, output: 960.50 toks/s]"
          ]
        },
        {
          "name": "stdout",
          "output_type": "stream",
          "text": [
            "WARNING 07-20 15:59:39 scheduler.py:698] Input prompt (9687 tokens) is too long and exceeds limit of 8192\n"
          ]
        },
        {
          "name": "stderr",
          "output_type": "stream",
          "text": [
            "Processed prompts:  38%|███▊      | 763/2000 [01:53<02:13,  9.24it/s, est. speed input: 5730.21 toks/s, output: 963.86 toks/s]"
          ]
        },
        {
          "name": "stdout",
          "output_type": "stream",
          "text": [
            "WARNING 07-20 15:59:42 scheduler.py:698] Input prompt (12654 tokens) is too long and exceeds limit of 8192\n"
          ]
        },
        {
          "name": "stderr",
          "output_type": "stream",
          "text": [
            "Processed prompts:  40%|████      | 808/2000 [01:58<02:52,  6.92it/s, est. speed input: 5814.58 toks/s, output: 969.93 toks/s]"
          ]
        },
        {
          "name": "stdout",
          "output_type": "stream",
          "text": [
            "WARNING 07-20 15:59:47 scheduler.py:698] Input prompt (19770 tokens) is too long and exceeds limit of 8192\n"
          ]
        },
        {
          "name": "stderr",
          "output_type": "stream",
          "text": [
            "Processed prompts:  42%|████▏     | 834/2000 [02:01<02:31,  7.71it/s, est. speed input: 5933.63 toks/s, output: 974.53 toks/s]"
          ]
        },
        {
          "name": "stdout",
          "output_type": "stream",
          "text": [
            "WARNING 07-20 15:59:50 scheduler.py:698] Input prompt (12816 tokens) is too long and exceeds limit of 8192\n"
          ]
        },
        {
          "name": "stderr",
          "output_type": "stream",
          "text": [
            "Processed prompts:  43%|████▎     | 852/2000 [02:04<03:56,  4.86it/s, est. speed input: 6054.78 toks/s, output: 969.68 toks/s]"
          ]
        },
        {
          "name": "stdout",
          "output_type": "stream",
          "text": [
            "WARNING 07-20 15:59:53 scheduler.py:698] Input prompt (18908 tokens) is too long and exceeds limit of 8192\n"
          ]
        },
        {
          "name": "stderr",
          "output_type": "stream",
          "text": [
            "Processed prompts:  60%|██████    | 1200/2000 [02:52<02:08,  6.22it/s, est. speed input: 6066.56 toks/s, output: 993.02 toks/s]"
          ]
        },
        {
          "name": "stdout",
          "output_type": "stream",
          "text": [
            "WARNING 07-20 16:00:41 scheduler.py:698] Input prompt (8722 tokens) is too long and exceeds limit of 8192\n"
          ]
        },
        {
          "name": "stderr",
          "output_type": "stream",
          "text": [
            "Processed prompts:  69%|██████▊   | 1374/2000 [03:14<01:17,  8.03it/s, est. speed input: 6047.24 toks/s, output: 1010.50 toks/s]"
          ]
        },
        {
          "name": "stdout",
          "output_type": "stream",
          "text": [
            "WARNING 07-20 16:01:04 scheduler.py:698] Input prompt (9049 tokens) is too long and exceeds limit of 8192\n"
          ]
        },
        {
          "name": "stderr",
          "output_type": "stream",
          "text": [
            "Processed prompts:  91%|█████████ | 1815/2000 [04:11<00:28,  6.57it/s, est. speed input: 5942.18 toks/s, output: 1037.25 toks/s]"
          ]
        },
        {
          "name": "stdout",
          "output_type": "stream",
          "text": [
            "WARNING 07-20 16:02:00 scheduler.py:698] Input prompt (13507 tokens) is too long and exceeds limit of 8192\n",
            "WARNING 07-20 16:02:00 scheduler.py:698] Input prompt (8526 tokens) is too long and exceeds limit of 8192\n"
          ]
        },
        {
          "name": "stderr",
          "output_type": "stream",
          "text": [
            "Processed prompts: 100%|██████████| 2000/2000 [04:26<00:00,  7.51it/s, est. speed input: 6221.20 toks/s, output: 1086.39 toks/s]\n"
          ]
        },
        {
          "name": "stdout",
          "output_type": "stream",
          "text": [
            "- Saving texts...\n",
            "- Saved 2000 texts\n",
            "- Processing chunk subset 30000, chunk 8000 to 10000...\n",
            "- Generating summaries...\n"
          ]
        },
        {
          "name": "stderr",
          "output_type": "stream",
          "text": [
            "Processed prompts:  23%|██▎       | 451/2000 [01:11<03:45,  6.88it/s, est. speed input: 4658.36 toks/s, output: 898.73 toks/s]"
          ]
        },
        {
          "name": "stdout",
          "output_type": "stream",
          "text": [
            "WARNING 07-20 16:03:34 scheduler.py:698] Input prompt (12384 tokens) is too long and exceeds limit of 8192\n"
          ]
        },
        {
          "name": "stderr",
          "output_type": "stream",
          "text": [
            "Processed prompts:  38%|███▊      | 762/2000 [01:50<02:52,  7.18it/s, est. speed input: 4971.95 toks/s, output: 988.82 toks/s]"
          ]
        },
        {
          "name": "stdout",
          "output_type": "stream",
          "text": [
            "WARNING 07-20 16:04:13 scheduler.py:698] Input prompt (8610 tokens) is too long and exceeds limit of 8192\n"
          ]
        },
        {
          "name": "stderr",
          "output_type": "stream",
          "text": [
            "Processed prompts:  47%|████▋     | 943/2000 [02:13<01:38, 10.69it/s, est. speed input: 5149.32 toks/s, output: 1012.43 toks/s]"
          ]
        },
        {
          "name": "stdout",
          "output_type": "stream",
          "text": [
            "WARNING 07-20 16:04:36 scheduler.py:698] Input prompt (9001 tokens) is too long and exceeds limit of 8192\n"
          ]
        },
        {
          "name": "stderr",
          "output_type": "stream",
          "text": [
            "Processed prompts:  54%|█████▍    | 1078/2000 [02:35<03:39,  4.20it/s, est. speed input: 5291.25 toks/s, output: 1005.92 toks/s]"
          ]
        },
        {
          "name": "stdout",
          "output_type": "stream",
          "text": [
            "WARNING 07-20 16:04:57 scheduler.py:698] Input prompt (22020 tokens) is too long and exceeds limit of 8192\n"
          ]
        },
        {
          "name": "stderr",
          "output_type": "stream",
          "text": [
            "Processed prompts:  56%|█████▋    | 1126/2000 [02:43<02:27,  5.94it/s, est. speed input: 5507.54 toks/s, output: 994.62 toks/s]"
          ]
        },
        {
          "name": "stdout",
          "output_type": "stream",
          "text": [
            "WARNING 07-20 16:05:06 scheduler.py:698] Input prompt (9395 tokens) is too long and exceeds limit of 8192\n"
          ]
        },
        {
          "name": "stderr",
          "output_type": "stream",
          "text": [
            "Processed prompts:  70%|██████▉   | 1390/2000 [03:19<01:20,  7.55it/s, est. speed input: 5589.00 toks/s, output: 1004.06 toks/s]"
          ]
        },
        {
          "name": "stdout",
          "output_type": "stream",
          "text": [
            "WARNING 07-20 16:05:42 scheduler.py:698] Input prompt (14434 tokens) is too long and exceeds limit of 8192\n"
          ]
        },
        {
          "name": "stderr",
          "output_type": "stream",
          "text": [
            "Processed prompts:  77%|███████▋  | 1534/2000 [03:39<01:12,  6.47it/s, est. speed input: 5655.89 toks/s, output: 1009.22 toks/s]"
          ]
        },
        {
          "name": "stdout",
          "output_type": "stream",
          "text": [
            "WARNING 07-20 16:06:02 scheduler.py:698] Input prompt (12954 tokens) is too long and exceeds limit of 8192\n"
          ]
        },
        {
          "name": "stderr",
          "output_type": "stream",
          "text": [
            "Processed prompts:  86%|████████▌ | 1716/2000 [04:00<00:30,  9.16it/s, est. speed input: 5678.00 toks/s, output: 1028.00 toks/s]"
          ]
        },
        {
          "name": "stdout",
          "output_type": "stream",
          "text": [
            "WARNING 07-20 16:06:23 scheduler.py:698] Input prompt (12176 tokens) is too long and exceeds limit of 8192\n"
          ]
        },
        {
          "name": "stderr",
          "output_type": "stream",
          "text": [
            "Processed prompts: 100%|██████████| 2000/2000 [04:35<00:00,  7.26it/s, est. speed input: 5861.73 toks/s, output: 1065.68 toks/s]\n"
          ]
        },
        {
          "name": "stdout",
          "output_type": "stream",
          "text": [
            "- Saving texts...\n",
            "- Saved 2000 texts\n",
            "- Processing chunk 40000 to 50000...\n",
            "- Processing chunk subset 40000, chunk 0 to 2000...\n",
            "- Generating summaries...\n"
          ]
        },
        {
          "name": "stderr",
          "output_type": "stream",
          "text": [
            "\rProcessed prompts:   0%|          | 0/2000 [00:00<?, ?it/s, est. speed input: 0.00 toks/s, output: 0.00 toks/s]"
          ]
        },
        {
          "name": "stdout",
          "output_type": "stream",
          "text": [
            "WARNING 07-20 16:07:11 scheduler.py:698] Input prompt (14372 tokens) is too long and exceeds limit of 8192\n"
          ]
        },
        {
          "name": "stderr",
          "output_type": "stream",
          "text": [
            "\rProcessed prompts:   0%|          | 1/2000 [00:06<3:41:17,  6.64s/it, est. speed input: 2163.73 toks/s, output: 0.00 toks/s]"
          ]
        },
        {
          "name": "stdout",
          "output_type": "stream",
          "text": [
            "WARNING 07-20 16:07:11 scheduler.py:698] Input prompt (9466 tokens) is too long and exceeds limit of 8192\n"
          ]
        },
        {
          "name": "stderr",
          "output_type": "stream",
          "text": [
            "Processed prompts:  31%|███       | 618/2000 [01:31<03:10,  7.26it/s, est. speed input: 5026.87 toks/s, output: 939.77 toks/s]"
          ]
        },
        {
          "name": "stdout",
          "output_type": "stream",
          "text": [
            "WARNING 07-20 16:08:36 scheduler.py:698] Input prompt (11004 tokens) is too long and exceeds limit of 8192\n"
          ]
        },
        {
          "name": "stderr",
          "output_type": "stream",
          "text": [
            "Processed prompts:  40%|████      | 802/2000 [01:57<03:22,  5.92it/s, est. speed input: 5277.15 toks/s, output: 966.33 toks/s]"
          ]
        },
        {
          "name": "stdout",
          "output_type": "stream",
          "text": [
            "WARNING 07-20 16:09:02 scheduler.py:698] Input prompt (8549 tokens) is too long and exceeds limit of 8192\n"
          ]
        },
        {
          "name": "stderr",
          "output_type": "stream",
          "text": [
            "Processed prompts:  52%|█████▏    | 1042/2000 [02:28<01:54,  8.39it/s, est. speed input: 5313.07 toks/s, output: 1002.76 toks/s]"
          ]
        },
        {
          "name": "stdout",
          "output_type": "stream",
          "text": [
            "WARNING 07-20 16:09:33 scheduler.py:698] Input prompt (36992 tokens) is too long and exceeds limit of 8192\n"
          ]
        },
        {
          "name": "stderr",
          "output_type": "stream",
          "text": [
            "Processed prompts:  56%|█████▌    | 1118/2000 [02:38<01:41,  8.73it/s, est. speed input: 5570.79 toks/s, output: 1009.55 toks/s]"
          ]
        },
        {
          "name": "stdout",
          "output_type": "stream",
          "text": [
            "WARNING 07-20 16:09:43 scheduler.py:698] Input prompt (10115 tokens) is too long and exceeds limit of 8192\n"
          ]
        },
        {
          "name": "stderr",
          "output_type": "stream",
          "text": [
            "Processed prompts:  56%|█████▋    | 1129/2000 [02:40<02:21,  6.16it/s, est. speed input: 5614.10 toks/s, output: 1007.28 toks/s]"
          ]
        },
        {
          "name": "stdout",
          "output_type": "stream",
          "text": [
            "WARNING 07-20 16:09:45 scheduler.py:698] Input prompt (18308 tokens) is too long and exceeds limit of 8192\n"
          ]
        },
        {
          "name": "stderr",
          "output_type": "stream",
          "text": [
            "Processed prompts:  58%|█████▊    | 1152/2000 [02:43<01:57,  7.22it/s, est. speed input: 5730.41 toks/s, output: 1005.63 toks/s]"
          ]
        },
        {
          "name": "stdout",
          "output_type": "stream",
          "text": [
            "WARNING 07-20 16:09:48 scheduler.py:698] Input prompt (18206 tokens) is too long and exceeds limit of 8192\n"
          ]
        },
        {
          "name": "stderr",
          "output_type": "stream",
          "text": [
            "Processed prompts:  60%|█████▉    | 1193/2000 [02:49<01:18, 10.34it/s, est. speed input: 5838.01 toks/s, output: 1011.63 toks/s]"
          ]
        },
        {
          "name": "stdout",
          "output_type": "stream",
          "text": [
            "WARNING 07-20 16:09:54 scheduler.py:698] Input prompt (27603 tokens) is too long and exceeds limit of 8192\n"
          ]
        },
        {
          "name": "stderr",
          "output_type": "stream",
          "text": [
            "Processed prompts:  74%|███████▎  | 1474/2000 [03:27<01:13,  7.14it/s, est. speed input: 5924.76 toks/s, output: 1026.18 toks/s]"
          ]
        },
        {
          "name": "stdout",
          "output_type": "stream",
          "text": [
            "WARNING 07-20 16:10:32 scheduler.py:698] Input prompt (10326 tokens) is too long and exceeds limit of 8192\n"
          ]
        },
        {
          "name": "stderr",
          "output_type": "stream",
          "text": [
            "Processed prompts:  75%|███████▌  | 1507/2000 [03:31<00:50,  9.83it/s, est. speed input: 5942.77 toks/s, output: 1028.38 toks/s]"
          ]
        },
        {
          "name": "stdout",
          "output_type": "stream",
          "text": [
            "WARNING 07-20 16:10:36 scheduler.py:698] Input prompt (10470 tokens) is too long and exceeds limit of 8192\n"
          ]
        },
        {
          "name": "stderr",
          "output_type": "stream",
          "text": [
            "Processed prompts:  89%|████████▉ | 1777/2000 [04:07<00:20, 10.81it/s, est. speed input: 5950.32 toks/s, output: 1037.47 toks/s]"
          ]
        },
        {
          "name": "stdout",
          "output_type": "stream",
          "text": [
            "WARNING 07-20 16:11:12 scheduler.py:698] Input prompt (9088 tokens) is too long and exceeds limit of 8192\n"
          ]
        },
        {
          "name": "stderr",
          "output_type": "stream",
          "text": [
            "Processed prompts:  93%|█████████▎| 1857/2000 [04:17<00:21,  6.74it/s, est. speed input: 5962.99 toks/s, output: 1047.27 toks/s]"
          ]
        },
        {
          "name": "stdout",
          "output_type": "stream",
          "text": [
            "WARNING 07-20 16:11:22 scheduler.py:698] Input prompt (14663 tokens) is too long and exceeds limit of 8192\n"
          ]
        },
        {
          "name": "stderr",
          "output_type": "stream",
          "text": [
            "Processed prompts: 100%|██████████| 2000/2000 [04:29<00:00,  7.43it/s, est. speed input: 6187.33 toks/s, output: 1087.16 toks/s]\n"
          ]
        },
        {
          "name": "stdout",
          "output_type": "stream",
          "text": [
            "- Saving texts...\n",
            "- Saved 2000 texts\n",
            "- Processing chunk subset 40000, chunk 2000 to 4000...\n",
            "- Generating summaries...\n"
          ]
        },
        {
          "name": "stderr",
          "output_type": "stream",
          "text": [
            "\rProcessed prompts:   0%|          | 0/2000 [00:00<?, ?it/s, est. speed input: 0.00 toks/s, output: 0.00 toks/s]"
          ]
        },
        {
          "name": "stdout",
          "output_type": "stream",
          "text": [
            "WARNING 07-20 16:11:41 scheduler.py:698] Input prompt (9440 tokens) is too long and exceeds limit of 8192\n"
          ]
        },
        {
          "name": "stderr",
          "output_type": "stream",
          "text": [
            "Processed prompts:  25%|██▌       | 503/2000 [01:13<03:39,  6.83it/s, est. speed input: 4623.02 toks/s, output: 933.67 toks/s]"
          ]
        },
        {
          "name": "stdout",
          "output_type": "stream",
          "text": [
            "WARNING 07-20 16:12:54 scheduler.py:698] Input prompt (9066 tokens) is too long and exceeds limit of 8192\n"
          ]
        },
        {
          "name": "stderr",
          "output_type": "stream",
          "text": [
            "Processed prompts:  38%|███▊      | 751/2000 [01:43<02:14,  9.26it/s, est. speed input: 4931.64 toks/s, output: 1014.28 toks/s]"
          ]
        },
        {
          "name": "stdout",
          "output_type": "stream",
          "text": [
            "WARNING 07-20 16:13:24 scheduler.py:698] Input prompt (9708 tokens) is too long and exceeds limit of 8192\n"
          ]
        },
        {
          "name": "stderr",
          "output_type": "stream",
          "text": [
            "Processed prompts:  56%|█████▌    | 1118/2000 [02:33<01:24, 10.47it/s, est. speed input: 5053.88 toks/s, output: 1027.08 toks/s]"
          ]
        },
        {
          "name": "stdout",
          "output_type": "stream",
          "text": [
            "WARNING 07-20 16:14:14 scheduler.py:698] Input prompt (12833 tokens) is too long and exceeds limit of 8192\n"
          ]
        },
        {
          "name": "stderr",
          "output_type": "stream",
          "text": [
            "Processed prompts:  58%|█████▊    | 1162/2000 [02:40<02:07,  6.57it/s, est. speed input: 5191.91 toks/s, output: 1023.23 toks/s]"
          ]
        },
        {
          "name": "stdout",
          "output_type": "stream",
          "text": [
            "WARNING 07-20 16:14:22 scheduler.py:698] Input prompt (17566 tokens) is too long and exceeds limit of 8192\n"
          ]
        },
        {
          "name": "stderr",
          "output_type": "stream",
          "text": [
            "Processed prompts:  62%|██████▏   | 1232/2000 [02:50<01:51,  6.91it/s, est. speed input: 5288.85 toks/s, output: 1020.22 toks/s]"
          ]
        },
        {
          "name": "stdout",
          "output_type": "stream",
          "text": [
            "WARNING 07-20 16:14:32 scheduler.py:698] Input prompt (9180 tokens) is too long and exceeds limit of 8192\n"
          ]
        },
        {
          "name": "stderr",
          "output_type": "stream",
          "text": [
            "Processed prompts:  62%|██████▏   | 1243/2000 [02:51<01:01, 12.37it/s, est. speed input: 5364.92 toks/s, output: 1024.08 toks/s]"
          ]
        },
        {
          "name": "stdout",
          "output_type": "stream",
          "text": [
            "WARNING 07-20 16:14:33 scheduler.py:698] Input prompt (8231 tokens) is too long and exceeds limit of 8192\n"
          ]
        },
        {
          "name": "stderr",
          "output_type": "stream",
          "text": [
            "Processed prompts:  80%|████████  | 1603/2000 [03:39<00:56,  7.03it/s, est. speed input: 5436.37 toks/s, output: 1047.86 toks/s]"
          ]
        },
        {
          "name": "stdout",
          "output_type": "stream",
          "text": [
            "WARNING 07-20 16:15:20 scheduler.py:698] Input prompt (17311 tokens) is too long and exceeds limit of 8192\n"
          ]
        },
        {
          "name": "stderr",
          "output_type": "stream",
          "text": [
            "Processed prompts:  89%|████████▊ | 1774/2000 [04:02<00:26,  8.58it/s, est. speed input: 5543.69 toks/s, output: 1044.46 toks/s]"
          ]
        },
        {
          "name": "stdout",
          "output_type": "stream",
          "text": [
            "WARNING 07-20 16:15:43 scheduler.py:698] Input prompt (8818 tokens) is too long and exceeds limit of 8192\n"
          ]
        },
        {
          "name": "stderr",
          "output_type": "stream",
          "text": [
            "Processed prompts:  93%|█████████▎| 1862/2000 [04:12<00:18,  7.44it/s, est. speed input: 5607.20 toks/s, output: 1053.22 toks/s]"
          ]
        },
        {
          "name": "stdout",
          "output_type": "stream",
          "text": [
            "WARNING 07-20 16:15:53 scheduler.py:698] Input prompt (8502 tokens) is too long and exceeds limit of 8192\n"
          ]
        },
        {
          "name": "stderr",
          "output_type": "stream",
          "text": [
            "Processed prompts: 100%|██████████| 2000/2000 [04:26<00:00,  7.51it/s, est. speed input: 5808.77 toks/s, output: 1086.02 toks/s]\n"
          ]
        },
        {
          "name": "stdout",
          "output_type": "stream",
          "text": [
            "- Saving texts...\n",
            "- Saved 2000 texts\n",
            "- Processing chunk subset 40000, chunk 4000 to 6000...\n",
            "- Generating summaries...\n"
          ]
        },
        {
          "name": "stderr",
          "output_type": "stream",
          "text": [
            "Processed prompts:  39%|███▊      | 774/2000 [01:54<03:56,  5.17it/s, est. speed input: 5079.97 toks/s, output: 952.43 toks/s]"
          ]
        },
        {
          "name": "stdout",
          "output_type": "stream",
          "text": [
            "WARNING 07-20 16:18:09 scheduler.py:698] Input prompt (8739 tokens) is too long and exceeds limit of 8192\n"
          ]
        },
        {
          "name": "stderr",
          "output_type": "stream",
          "text": [
            "Processed prompts:  48%|████▊     | 967/2000 [02:22<02:50,  6.07it/s, est. speed input: 5194.37 toks/s, output: 965.01 toks/s]"
          ]
        },
        {
          "name": "stdout",
          "output_type": "stream",
          "text": [
            "WARNING 07-20 16:18:36 scheduler.py:698] Input prompt (11816 tokens) is too long and exceeds limit of 8192\n"
          ]
        },
        {
          "name": "stderr",
          "output_type": "stream",
          "text": [
            "Processed prompts:  67%|██████▋   | 1331/2000 [03:16<01:23,  8.05it/s, est. speed input: 5400.76 toks/s, output: 974.85 toks/s]"
          ]
        },
        {
          "name": "stdout",
          "output_type": "stream",
          "text": [
            "WARNING 07-20 16:19:30 scheduler.py:698] Input prompt (22180 tokens) is too long and exceeds limit of 8192\n"
          ]
        },
        {
          "name": "stderr",
          "output_type": "stream",
          "text": [
            "Processed prompts:  72%|███████▏  | 1436/2000 [03:32<01:50,  5.11it/s, est. speed input: 5513.32 toks/s, output: 974.70 toks/s]"
          ]
        },
        {
          "name": "stdout",
          "output_type": "stream",
          "text": [
            "WARNING 07-20 16:19:46 scheduler.py:698] Input prompt (8731 tokens) is too long and exceeds limit of 8192\n"
          ]
        },
        {
          "name": "stderr",
          "output_type": "stream",
          "text": [
            "Processed prompts:  81%|████████▏ | 1628/2000 [03:57<00:47,  7.91it/s, est. speed input: 5513.84 toks/s, output: 988.32 toks/s]"
          ]
        },
        {
          "name": "stdout",
          "output_type": "stream",
          "text": [
            "WARNING 07-20 16:20:12 scheduler.py:698] Input prompt (8596 tokens) is too long and exceeds limit of 8192\n"
          ]
        },
        {
          "name": "stderr",
          "output_type": "stream",
          "text": [
            "Processed prompts:  83%|████████▎ | 1669/2000 [04:03<00:44,  7.38it/s, est. speed input: 5570.09 toks/s, output: 989.07 toks/s]"
          ]
        },
        {
          "name": "stdout",
          "output_type": "stream",
          "text": [
            "WARNING 07-20 16:20:17 scheduler.py:698] Input prompt (20916 tokens) is too long and exceeds limit of 8192\n"
          ]
        },
        {
          "name": "stderr",
          "output_type": "stream",
          "text": [
            "Processed prompts:  84%|████████▍ | 1683/2000 [04:05<00:48,  6.49it/s, est. speed input: 5689.79 toks/s, output: 987.97 toks/s]"
          ]
        },
        {
          "name": "stdout",
          "output_type": "stream",
          "text": [
            "WARNING 07-20 16:20:19 scheduler.py:698] Input prompt (11432 tokens) is too long and exceeds limit of 8192\n"
          ]
        },
        {
          "name": "stderr",
          "output_type": "stream",
          "text": [
            "Processed prompts:  92%|█████████▏| 1834/2000 [04:25<00:20,  8.01it/s, est. speed input: 5728.46 toks/s, output: 989.13 toks/s]"
          ]
        },
        {
          "name": "stdout",
          "output_type": "stream",
          "text": [
            "WARNING 07-20 16:20:40 scheduler.py:698] Input prompt (11193 tokens) is too long and exceeds limit of 8192\n"
          ]
        },
        {
          "name": "stderr",
          "output_type": "stream",
          "text": [
            "Processed prompts: 100%|██████████| 2000/2000 [05:31<00:00,  6.03it/s, est. speed input: 5038.99 toks/s, output: 900.38 toks/s]\n"
          ]
        },
        {
          "name": "stdout",
          "output_type": "stream",
          "text": [
            "- Saving texts...\n",
            "- Saved 2000 texts\n",
            "- Processing chunk subset 40000, chunk 6000 to 8000...\n",
            "- Generating summaries...\n"
          ]
        },
        {
          "name": "stderr",
          "output_type": "stream",
          "text": [
            "\rProcessed prompts:   0%|          | 0/2000 [00:00<?, ?it/s, est. speed input: 0.00 toks/s, output: 0.00 toks/s]"
          ]
        },
        {
          "name": "stdout",
          "output_type": "stream",
          "text": [
            "WARNING 07-20 16:21:57 scheduler.py:698] Input prompt (9495 tokens) is too long and exceeds limit of 8192\n"
          ]
        },
        {
          "name": "stderr",
          "output_type": "stream",
          "text": [
            "Processed prompts:   5%|▌         | 109/2000 [00:22<03:54,  8.08it/s, est. speed input: 2726.45 toks/s, output: 566.45 toks/s]"
          ]
        },
        {
          "name": "stdout",
          "output_type": "stream",
          "text": [
            "WARNING 07-20 16:22:14 scheduler.py:698] Input prompt (8854 tokens) is too long and exceeds limit of 8192\n"
          ]
        },
        {
          "name": "stderr",
          "output_type": "stream",
          "text": [
            "Processed prompts:  14%|█▍        | 289/2000 [00:45<04:36,  6.18it/s, est. speed input: 4207.54 toks/s, output: 888.30 toks/s]"
          ]
        },
        {
          "name": "stdout",
          "output_type": "stream",
          "text": [
            "WARNING 07-20 16:22:38 scheduler.py:698] Input prompt (13798 tokens) is too long and exceeds limit of 8192\n"
          ]
        },
        {
          "name": "stderr",
          "output_type": "stream",
          "text": [
            "Processed prompts:  32%|███▏      | 649/2000 [01:35<03:57,  5.69it/s, est. speed input: 5082.04 toks/s, output: 952.84 toks/s]"
          ]
        },
        {
          "name": "stdout",
          "output_type": "stream",
          "text": [
            "WARNING 07-20 16:23:28 scheduler.py:698] Input prompt (12501 tokens) is too long and exceeds limit of 8192\n"
          ]
        },
        {
          "name": "stderr",
          "output_type": "stream",
          "text": [
            "Processed prompts:  34%|███▍      | 676/2000 [01:38<02:53,  7.65it/s, est. speed input: 5267.64 toks/s, output: 964.35 toks/s]"
          ]
        },
        {
          "name": "stdout",
          "output_type": "stream",
          "text": [
            "WARNING 07-20 16:23:31 scheduler.py:698] Input prompt (13234 tokens) is too long and exceeds limit of 8192\n"
          ]
        },
        {
          "name": "stderr",
          "output_type": "stream",
          "text": [
            "Processed prompts:  54%|█████▍    | 1076/2000 [02:32<01:50,  8.36it/s, est. speed input: 5466.16 toks/s, output: 997.70 toks/s]"
          ]
        },
        {
          "name": "stdout",
          "output_type": "stream",
          "text": [
            "WARNING 07-20 16:24:25 scheduler.py:698] Input prompt (13231 tokens) is too long and exceeds limit of 8192\n"
          ]
        },
        {
          "name": "stderr",
          "output_type": "stream",
          "text": [
            "Processed prompts:  77%|███████▋  | 1533/2000 [03:36<01:02,  7.51it/s, est. speed input: 5562.20 toks/s, output: 1013.01 toks/s]"
          ]
        },
        {
          "name": "stdout",
          "output_type": "stream",
          "text": [
            "WARNING 07-20 16:25:29 scheduler.py:698] Input prompt (15098 tokens) is too long and exceeds limit of 8192\n"
          ]
        },
        {
          "name": "stderr",
          "output_type": "stream",
          "text": [
            "Processed prompts:  79%|███████▊  | 1572/2000 [03:41<00:55,  7.74it/s, est. speed input: 5627.68 toks/s, output: 1012.72 toks/s]"
          ]
        },
        {
          "name": "stdout",
          "output_type": "stream",
          "text": [
            "WARNING 07-20 16:25:34 scheduler.py:698] Input prompt (10016 tokens) is too long and exceeds limit of 8192\n"
          ]
        },
        {
          "name": "stderr",
          "output_type": "stream",
          "text": [
            "Processed prompts:  90%|████████▉ | 1791/2000 [04:10<00:23,  8.82it/s, est. speed input: 5651.27 toks/s, output: 1021.95 toks/s]"
          ]
        },
        {
          "name": "stdout",
          "output_type": "stream",
          "text": [
            "WARNING 07-20 16:26:03 scheduler.py:698] Input prompt (12444 tokens) is too long and exceeds limit of 8192\n"
          ]
        },
        {
          "name": "stderr",
          "output_type": "stream",
          "text": [
            "Processed prompts:  94%|█████████▍| 1876/2000 [04:20<00:18,  6.73it/s, est. speed input: 5688.04 toks/s, output: 1031.55 toks/s]"
          ]
        },
        {
          "name": "stdout",
          "output_type": "stream",
          "text": [
            "WARNING 07-20 16:26:13 scheduler.py:698] Input prompt (12322 tokens) is too long and exceeds limit of 8192\n"
          ]
        },
        {
          "name": "stderr",
          "output_type": "stream",
          "text": [
            "Processed prompts:  94%|█████████▍| 1886/2000 [04:21<00:10, 10.81it/s, est. speed input: 5738.40 toks/s, output: 1034.12 toks/s]"
          ]
        },
        {
          "name": "stdout",
          "output_type": "stream",
          "text": [
            "WARNING 07-20 16:26:14 scheduler.py:698] Input prompt (8887 tokens) is too long and exceeds limit of 8192\n"
          ]
        },
        {
          "name": "stderr",
          "output_type": "stream",
          "text": [
            "Processed prompts: 100%|██████████| 2000/2000 [04:53<00:00,  6.81it/s, est. speed input: 5492.21 toks/s, output: 997.08 toks/s]\n"
          ]
        },
        {
          "name": "stdout",
          "output_type": "stream",
          "text": [
            "- Saving texts...\n",
            "- Saved 2000 texts\n",
            "- Processing chunk subset 40000, chunk 8000 to 10000...\n",
            "- Generating summaries...\n"
          ]
        },
        {
          "name": "stderr",
          "output_type": "stream",
          "text": [
            "\rProcessed prompts:   0%|          | 0/2000 [00:00<?, ?it/s, est. speed input: 0.00 toks/s, output: 0.00 toks/s]"
          ]
        },
        {
          "name": "stdout",
          "output_type": "stream",
          "text": [
            "WARNING 07-20 16:26:57 scheduler.py:698] Input prompt (9009 tokens) is too long and exceeds limit of 8192\n"
          ]
        },
        {
          "name": "stderr",
          "output_type": "stream",
          "text": [
            "\rProcessed prompts:   0%|          | 1/2000 [00:04<2:18:15,  4.15s/it, est. speed input: 2170.94 toks/s, output: 0.00 toks/s]"
          ]
        },
        {
          "name": "stdout",
          "output_type": "stream",
          "text": [
            "WARNING 07-20 16:27:01 scheduler.py:1124] Sequence group 48154 is preempted by PreemptionMode.RECOMPUTE mode because there is not enough KV cache space. This can affect the end-to-end performance. Increase gpu_memory_utilization or tensor_parallel_size to provide more KV cache memory. total_num_cumulative_preemption=201\n"
          ]
        },
        {
          "name": "stderr",
          "output_type": "stream",
          "text": [
            "Processed prompts:   7%|▋         | 140/2000 [00:26<05:07,  6.04it/s, est. speed input: 3354.69 toks/s, output: 690.19 toks/s]"
          ]
        },
        {
          "name": "stdout",
          "output_type": "stream",
          "text": [
            "WARNING 07-20 16:27:20 scheduler.py:698] Input prompt (8298 tokens) is too long and exceeds limit of 8192\n"
          ]
        },
        {
          "name": "stderr",
          "output_type": "stream",
          "text": [
            "Processed prompts:   8%|▊         | 170/2000 [00:31<04:26,  6.86it/s, est. speed input: 3965.79 toks/s, output: 719.07 toks/s]"
          ]
        },
        {
          "name": "stdout",
          "output_type": "stream",
          "text": [
            "WARNING 07-20 16:27:25 scheduler.py:698] Input prompt (14609 tokens) is too long and exceeds limit of 8192\n"
          ]
        },
        {
          "name": "stderr",
          "output_type": "stream",
          "text": [
            "Processed prompts:  12%|█▏        | 249/2000 [00:41<03:50,  7.61it/s, est. speed input: 4676.61 toks/s, output: 809.80 toks/s]"
          ]
        },
        {
          "name": "stdout",
          "output_type": "stream",
          "text": [
            "WARNING 07-20 16:27:34 scheduler.py:698] Input prompt (13287 tokens) is too long and exceeds limit of 8192\n"
          ]
        },
        {
          "name": "stderr",
          "output_type": "stream",
          "text": [
            "Processed prompts:  14%|█▍        | 284/2000 [00:46<04:30,  6.34it/s, est. speed input: 5036.25 toks/s, output: 831.45 toks/s]"
          ]
        },
        {
          "name": "stdout",
          "output_type": "stream",
          "text": [
            "WARNING 07-20 16:27:39 scheduler.py:698] Input prompt (10329 tokens) is too long and exceeds limit of 8192\n"
          ]
        },
        {
          "name": "stderr",
          "output_type": "stream",
          "text": [
            "Processed prompts:  17%|█▋        | 341/2000 [00:54<03:08,  8.78it/s, est. speed input: 5325.04 toks/s, output: 856.05 toks/s]"
          ]
        },
        {
          "name": "stdout",
          "output_type": "stream",
          "text": [
            "WARNING 07-20 16:27:48 scheduler.py:698] Input prompt (10633 tokens) is too long and exceeds limit of 8192\n"
          ]
        },
        {
          "name": "stderr",
          "output_type": "stream",
          "text": [
            "Processed prompts:  20%|█▉        | 399/2000 [01:02<04:06,  6.50it/s, est. speed input: 5606.72 toks/s, output: 875.32 toks/s]"
          ]
        },
        {
          "name": "stdout",
          "output_type": "stream",
          "text": [
            "WARNING 07-20 16:27:56 scheduler.py:698] Input prompt (14594 tokens) is too long and exceeds limit of 8192\n"
          ]
        },
        {
          "name": "stderr",
          "output_type": "stream",
          "text": [
            "Processed prompts:  31%|███       | 622/2000 [01:32<02:24,  9.56it/s, est. speed input: 5698.66 toks/s, output: 931.66 toks/s]"
          ]
        },
        {
          "name": "stdout",
          "output_type": "stream",
          "text": [
            "WARNING 07-20 16:28:26 scheduler.py:698] Input prompt (8658 tokens) is too long and exceeds limit of 8192\n"
          ]
        },
        {
          "name": "stderr",
          "output_type": "stream",
          "text": [
            "Processed prompts:  32%|███▏      | 648/2000 [01:35<02:48,  8.04it/s, est. speed input: 5787.78 toks/s, output: 945.75 toks/s]"
          ]
        },
        {
          "name": "stdout",
          "output_type": "stream",
          "text": [
            "WARNING 07-20 16:28:29 scheduler.py:698] Input prompt (15757 tokens) is too long and exceeds limit of 8192\n"
          ]
        },
        {
          "name": "stderr",
          "output_type": "stream",
          "text": [
            "Processed prompts:  36%|███▋      | 729/2000 [01:43<01:40, 12.65it/s, est. speed input: 5860.28 toks/s, output: 974.43 toks/s]"
          ]
        },
        {
          "name": "stdout",
          "output_type": "stream",
          "text": [
            "WARNING 07-20 16:28:37 scheduler.py:698] Input prompt (23625 tokens) is too long and exceeds limit of 8192\n"
          ]
        },
        {
          "name": "stderr",
          "output_type": "stream",
          "text": [
            "Processed prompts:  39%|███▉      | 780/2000 [01:50<02:47,  7.26it/s, est. speed input: 6032.88 toks/s, output: 985.61 toks/s]"
          ]
        },
        {
          "name": "stdout",
          "output_type": "stream",
          "text": [
            "WARNING 07-20 16:28:44 scheduler.py:698] Input prompt (12769 tokens) is too long and exceeds limit of 8192\n"
          ]
        },
        {
          "name": "stderr",
          "output_type": "stream",
          "text": [
            "Processed prompts:  43%|████▎     | 856/2000 [01:58<02:00,  9.51it/s, est. speed input: 6118.46 toks/s, output: 1004.09 toks/s]"
          ]
        },
        {
          "name": "stdout",
          "output_type": "stream",
          "text": [
            "WARNING 07-20 16:28:52 scheduler.py:698] Input prompt (10541 tokens) is too long and exceeds limit of 8192\n"
          ]
        },
        {
          "name": "stderr",
          "output_type": "stream",
          "text": [
            "Processed prompts:  44%|████▎     | 872/2000 [02:00<01:52, 10.07it/s, est. speed input: 6211.27 toks/s, output: 1008.03 toks/s]"
          ]
        },
        {
          "name": "stdout",
          "output_type": "stream",
          "text": [
            "WARNING 07-20 16:28:54 scheduler.py:698] Input prompt (12393 tokens) is too long and exceeds limit of 8192\n"
          ]
        },
        {
          "name": "stderr",
          "output_type": "stream",
          "text": [
            "Processed prompts:  53%|█████▎    | 1056/2000 [02:22<01:52,  8.38it/s, est. speed input: 6166.60 toks/s, output: 1033.74 toks/s]"
          ]
        },
        {
          "name": "stdout",
          "output_type": "stream",
          "text": [
            "WARNING 07-20 16:29:16 scheduler.py:698] Input prompt (9583 tokens) is too long and exceeds limit of 8192\n"
          ]
        },
        {
          "name": "stderr",
          "output_type": "stream",
          "text": [
            "Processed prompts:  55%|█████▌    | 1107/2000 [02:29<02:35,  5.75it/s, est. speed input: 6213.97 toks/s, output: 1039.32 toks/s]"
          ]
        },
        {
          "name": "stdout",
          "output_type": "stream",
          "text": [
            "WARNING 07-20 16:29:22 scheduler.py:698] Input prompt (20482 tokens) is too long and exceeds limit of 8192\n"
          ]
        },
        {
          "name": "stderr",
          "output_type": "stream",
          "text": [
            "Processed prompts:  57%|█████▋    | 1135/2000 [02:33<01:59,  7.26it/s, est. speed input: 6334.17 toks/s, output: 1037.04 toks/s]"
          ]
        },
        {
          "name": "stdout",
          "output_type": "stream",
          "text": [
            "WARNING 07-20 16:29:26 scheduler.py:698] Input prompt (34636 tokens) is too long and exceeds limit of 8192\n"
          ]
        },
        {
          "name": "stderr",
          "output_type": "stream",
          "text": [
            "Processed prompts:  61%|██████    | 1215/2000 [02:43<01:17, 10.17it/s, est. speed input: 6507.12 toks/s, output: 1040.05 toks/s]"
          ]
        },
        {
          "name": "stdout",
          "output_type": "stream",
          "text": [
            "WARNING 07-20 16:29:36 scheduler.py:698] Input prompt (8773 tokens) is too long and exceeds limit of 8192\n"
          ]
        },
        {
          "name": "stderr",
          "output_type": "stream",
          "text": [
            "Processed prompts:  62%|██████▏   | 1236/2000 [02:45<01:41,  7.54it/s, est. speed input: 6534.74 toks/s, output: 1041.64 toks/s]"
          ]
        },
        {
          "name": "stdout",
          "output_type": "stream",
          "text": [
            "WARNING 07-20 16:29:39 scheduler.py:698] Input prompt (11071 tokens) is too long and exceeds limit of 8192\n"
          ]
        },
        {
          "name": "stderr",
          "output_type": "stream",
          "text": [
            "Processed prompts:  65%|██████▌   | 1308/2000 [02:56<02:18,  4.99it/s, est. speed input: 6613.03 toks/s, output: 1040.74 toks/s]"
          ]
        },
        {
          "name": "stdout",
          "output_type": "stream",
          "text": [
            "WARNING 07-20 16:29:49 scheduler.py:698] Input prompt (8223 tokens) is too long and exceeds limit of 8192\n"
          ]
        },
        {
          "name": "stderr",
          "output_type": "stream",
          "text": [
            "Processed prompts:  66%|██████▌   | 1320/2000 [02:57<01:17,  8.81it/s, est. speed input: 6648.39 toks/s, output: 1040.07 toks/s]"
          ]
        },
        {
          "name": "stdout",
          "output_type": "stream",
          "text": [
            "WARNING 07-20 16:29:51 scheduler.py:698] Input prompt (11988 tokens) is too long and exceeds limit of 8192\n"
          ]
        },
        {
          "name": "stderr",
          "output_type": "stream",
          "text": [
            "Processed prompts: 100%|██████████| 2000/2000 [05:24<00:00,  6.17it/s, est. speed input: 5287.72 toks/s, output: 907.55 toks/s]\n"
          ]
        },
        {
          "name": "stdout",
          "output_type": "stream",
          "text": [
            "- Saving texts...\n",
            "- Saved 2000 texts\n",
            "- Processing chunk 50000 to 60000...\n",
            "- Processing chunk subset 50000, chunk 0 to 2000...\n",
            "- Generating summaries...\n"
          ]
        },
        {
          "name": "stderr",
          "output_type": "stream",
          "text": [
            "\rProcessed prompts:   0%|          | 0/2000 [00:00<?, ?it/s, est. speed input: 0.00 toks/s, output: 0.00 toks/s]"
          ]
        },
        {
          "name": "stdout",
          "output_type": "stream",
          "text": [
            "WARNING 07-20 16:32:25 scheduler.py:698] Input prompt (27097 tokens) is too long and exceeds limit of 8192\n"
          ]
        },
        {
          "name": "stderr",
          "output_type": "stream",
          "text": [
            "Processed prompts:  17%|█▋        | 338/2000 [00:53<02:57,  9.34it/s, est. speed input: 4825.33 toks/s, output: 846.84 toks/s]"
          ]
        },
        {
          "name": "stdout",
          "output_type": "stream",
          "text": [
            "WARNING 07-20 16:33:18 scheduler.py:698] Input prompt (9491 tokens) is too long and exceeds limit of 8192\n"
          ]
        },
        {
          "name": "stderr",
          "output_type": "stream",
          "text": [
            "Processed prompts:  20%|█▉        | 391/2000 [00:59<03:30,  7.64it/s, est. speed input: 5014.21 toks/s, output: 881.66 toks/s]"
          ]
        },
        {
          "name": "stdout",
          "output_type": "stream",
          "text": [
            "WARNING 07-20 16:33:24 scheduler.py:698] Input prompt (44118 tokens) is too long and exceeds limit of 8192\n"
          ]
        },
        {
          "name": "stderr",
          "output_type": "stream",
          "text": [
            "Processed prompts:  20%|██        | 407/2000 [01:02<04:46,  5.56it/s, est. speed input: 5732.10 toks/s, output: 882.50 toks/s]"
          ]
        },
        {
          "name": "stdout",
          "output_type": "stream",
          "text": [
            "WARNING 07-20 16:33:27 scheduler.py:698] Input prompt (11226 tokens) is too long and exceeds limit of 8192\n"
          ]
        },
        {
          "name": "stderr",
          "output_type": "stream",
          "text": [
            "Processed prompts:  23%|██▎       | 457/2000 [01:09<03:06,  8.29it/s, est. speed input: 5803.33 toks/s, output: 897.42 toks/s]"
          ]
        },
        {
          "name": "stdout",
          "output_type": "stream",
          "text": [
            "WARNING 07-20 16:33:33 scheduler.py:698] Input prompt (10655 tokens) is too long and exceeds limit of 8192\n"
          ]
        },
        {
          "name": "stderr",
          "output_type": "stream",
          "text": [
            "Processed prompts:  41%|████▏     | 827/2000 [01:59<02:14,  8.71it/s, est. speed input: 5699.86 toks/s, output: 972.35 toks/s]"
          ]
        },
        {
          "name": "stdout",
          "output_type": "stream",
          "text": [
            "WARNING 07-20 16:34:24 scheduler.py:698] Input prompt (10559 tokens) is too long and exceeds limit of 8192\n"
          ]
        },
        {
          "name": "stderr",
          "output_type": "stream",
          "text": [
            "Processed prompts:  43%|████▎     | 852/2000 [02:03<02:53,  6.62it/s, est. speed input: 5744.78 toks/s, output: 965.54 toks/s]"
          ]
        },
        {
          "name": "stdout",
          "output_type": "stream",
          "text": [
            "WARNING 07-20 16:34:28 scheduler.py:698] Input prompt (8662 tokens) is too long and exceeds limit of 8192\n"
          ]
        },
        {
          "name": "stderr",
          "output_type": "stream",
          "text": [
            "Processed prompts:  43%|████▎     | 857/2000 [02:03<02:30,  7.57it/s, est. speed input: 5874.36 toks/s, output: 969.29 toks/s]"
          ]
        },
        {
          "name": "stdout",
          "output_type": "stream",
          "text": [
            "WARNING 07-20 16:34:28 scheduler.py:698] Input prompt (40034 tokens) is too long and exceeds limit of 8192\n"
          ]
        },
        {
          "name": "stderr",
          "output_type": "stream",
          "text": [
            "Processed prompts:  49%|████▉     | 979/2000 [02:19<01:54,  8.91it/s, est. speed input: 6073.93 toks/s, output: 987.46 toks/s]"
          ]
        },
        {
          "name": "stdout",
          "output_type": "stream",
          "text": [
            "WARNING 07-20 16:34:44 scheduler.py:698] Input prompt (11008 tokens) is too long and exceeds limit of 8192\n"
          ]
        },
        {
          "name": "stderr",
          "output_type": "stream",
          "text": [
            "Processed prompts:  58%|█████▊    | 1167/2000 [02:45<02:02,  6.79it/s, est. speed input: 6011.14 toks/s, output: 999.67 toks/s]"
          ]
        },
        {
          "name": "stdout",
          "output_type": "stream",
          "text": [
            "WARNING 07-20 16:35:10 scheduler.py:698] Input prompt (14355 tokens) is too long and exceeds limit of 8192\n"
          ]
        },
        {
          "name": "stderr",
          "output_type": "stream",
          "text": [
            "Processed prompts:  59%|█████▉    | 1189/2000 [02:48<02:00,  6.75it/s, est. speed input: 6089.01 toks/s, output: 999.09 toks/s] "
          ]
        },
        {
          "name": "stdout",
          "output_type": "stream",
          "text": [
            "WARNING 07-20 16:35:13 scheduler.py:698] Input prompt (8949 tokens) is too long and exceeds limit of 8192\n"
          ]
        },
        {
          "name": "stderr",
          "output_type": "stream",
          "text": [
            "Processed prompts:  71%|███████   | 1419/2000 [03:15<01:59,  4.85it/s, est. speed input: 6024.78 toks/s, output: 1027.18 toks/s]"
          ]
        },
        {
          "name": "stdout",
          "output_type": "stream",
          "text": [
            "WARNING 07-20 16:35:40 scheduler.py:698] Input prompt (14535 tokens) is too long and exceeds limit of 8192\n"
          ]
        },
        {
          "name": "stderr",
          "output_type": "stream",
          "text": [
            "Processed prompts:  80%|███████▉  | 1595/2000 [03:40<01:03,  6.40it/s, est. speed input: 6005.77 toks/s, output: 1031.62 toks/s]"
          ]
        },
        {
          "name": "stdout",
          "output_type": "stream",
          "text": [
            "WARNING 07-20 16:36:04 scheduler.py:698] Input prompt (8243 tokens) is too long and exceeds limit of 8192\n"
          ]
        },
        {
          "name": "stderr",
          "output_type": "stream",
          "text": [
            "Processed prompts:  80%|████████  | 1602/2000 [03:40<00:36, 10.94it/s, est. speed input: 6048.90 toks/s, output: 1033.25 toks/s]"
          ]
        },
        {
          "name": "stdout",
          "output_type": "stream",
          "text": [
            "WARNING 07-20 16:36:05 scheduler.py:698] Input prompt (8979 tokens) is too long and exceeds limit of 8192\n"
          ]
        },
        {
          "name": "stderr",
          "output_type": "stream",
          "text": [
            "Processed prompts: 100%|██████████| 2000/2000 [04:32<00:00,  7.34it/s, est. speed input: 6166.18 toks/s, output: 1072.57 toks/s]\n"
          ]
        },
        {
          "name": "stdout",
          "output_type": "stream",
          "text": [
            "- Saving texts...\n",
            "- Saved 2000 texts\n",
            "- Processing chunk subset 50000, chunk 2000 to 4000...\n",
            "- Generating summaries...\n"
          ]
        },
        {
          "name": "stderr",
          "output_type": "stream",
          "text": [
            "\rProcessed prompts:   0%|          | 0/2000 [00:00<?, ?it/s, est. speed input: 0.00 toks/s, output: 0.00 toks/s]"
          ]
        },
        {
          "name": "stdout",
          "output_type": "stream",
          "text": [
            "WARNING 07-20 16:37:07 scheduler.py:698] Input prompt (11173 tokens) is too long and exceeds limit of 8192\n"
          ]
        },
        {
          "name": "stderr",
          "output_type": "stream",
          "text": [
            "Processed prompts:   5%|▍         | 99/2000 [00:23<03:40,  8.63it/s, est. speed input: 3171.41 toks/s, output: 492.48 toks/s]"
          ]
        },
        {
          "name": "stdout",
          "output_type": "stream",
          "text": [
            "WARNING 07-20 16:37:27 scheduler.py:698] Input prompt (12068 tokens) is too long and exceeds limit of 8192\n"
          ]
        },
        {
          "name": "stderr",
          "output_type": "stream",
          "text": [
            "Processed prompts:   8%|▊         | 156/2000 [00:30<02:49, 10.86it/s, est. speed input: 4098.64 toks/s, output: 655.81 toks/s]"
          ]
        },
        {
          "name": "stdout",
          "output_type": "stream",
          "text": [
            "WARNING 07-20 16:37:34 scheduler.py:698] Input prompt (10622 tokens) is too long and exceeds limit of 8192\n"
          ]
        },
        {
          "name": "stderr",
          "output_type": "stream",
          "text": [
            "Processed prompts:   8%|▊         | 160/2000 [00:30<03:14,  9.48it/s, est. speed input: 4494.76 toks/s, output: 660.70 toks/s]"
          ]
        },
        {
          "name": "stdout",
          "output_type": "stream",
          "text": [
            "WARNING 07-20 16:37:34 scheduler.py:698] Input prompt (11160 tokens) is too long and exceeds limit of 8192\n"
          ]
        },
        {
          "name": "stderr",
          "output_type": "stream",
          "text": [
            "Processed prompts:  21%|██        | 422/2000 [01:06<03:15,  8.09it/s, est. speed input: 5195.76 toks/s, output: 885.01 toks/s]"
          ]
        },
        {
          "name": "stdout",
          "output_type": "stream",
          "text": [
            "WARNING 07-20 16:38:10 scheduler.py:698] Input prompt (9828 tokens) is too long and exceeds limit of 8192\n"
          ]
        },
        {
          "name": "stderr",
          "output_type": "stream",
          "text": [
            "Processed prompts:  22%|██▏       | 436/2000 [01:08<03:55,  6.65it/s, est. speed input: 5327.38 toks/s, output: 886.64 toks/s]"
          ]
        },
        {
          "name": "stdout",
          "output_type": "stream",
          "text": [
            "WARNING 07-20 16:38:12 scheduler.py:698] Input prompt (10449 tokens) is too long and exceeds limit of 8192\n"
          ]
        },
        {
          "name": "stderr",
          "output_type": "stream",
          "text": [
            "Processed prompts:  26%|██▌       | 521/2000 [01:19<02:17, 10.72it/s, est. speed input: 5514.78 toks/s, output: 917.62 toks/s]"
          ]
        },
        {
          "name": "stdout",
          "output_type": "stream",
          "text": [
            "WARNING 07-20 16:38:23 scheduler.py:698] Input prompt (11784 tokens) is too long and exceeds limit of 8192\n"
          ]
        },
        {
          "name": "stderr",
          "output_type": "stream",
          "text": [
            "Processed prompts:  34%|███▍      | 678/2000 [01:40<03:13,  6.82it/s, est. speed input: 5614.18 toks/s, output: 947.33 toks/s]"
          ]
        },
        {
          "name": "stdout",
          "output_type": "stream",
          "text": [
            "WARNING 07-20 16:38:44 scheduler.py:698] Input prompt (10894 tokens) is too long and exceeds limit of 8192\n"
          ]
        },
        {
          "name": "stderr",
          "output_type": "stream",
          "text": [
            "Processed prompts:  36%|███▌      | 724/2000 [01:46<03:28,  6.13it/s, est. speed input: 5730.24 toks/s, output: 949.37 toks/s]"
          ]
        },
        {
          "name": "stdout",
          "output_type": "stream",
          "text": [
            "WARNING 07-20 16:38:50 scheduler.py:698] Input prompt (8342 tokens) is too long and exceeds limit of 8192\n"
          ]
        },
        {
          "name": "stderr",
          "output_type": "stream",
          "text": [
            "Processed prompts:  46%|████▌     | 919/2000 [02:15<03:16,  5.51it/s, est. speed input: 5739.80 toks/s, output: 956.51 toks/s]"
          ]
        },
        {
          "name": "stdout",
          "output_type": "stream",
          "text": [
            "WARNING 07-20 16:39:19 scheduler.py:698] Input prompt (33585 tokens) is too long and exceeds limit of 8192\n"
          ]
        },
        {
          "name": "stderr",
          "output_type": "stream",
          "text": [
            "Processed prompts:  47%|████▋     | 937/2000 [02:18<02:31,  7.00it/s, est. speed input: 6030.42 toks/s, output: 955.87 toks/s]"
          ]
        },
        {
          "name": "stdout",
          "output_type": "stream",
          "text": [
            "WARNING 07-20 16:39:22 scheduler.py:698] Input prompt (16024 tokens) is too long and exceeds limit of 8192\n"
          ]
        },
        {
          "name": "stderr",
          "output_type": "stream",
          "text": [
            "Processed prompts:  50%|█████     | 1006/2000 [02:26<02:11,  7.55it/s, est. speed input: 6078.28 toks/s, output: 967.00 toks/s]"
          ]
        },
        {
          "name": "stdout",
          "output_type": "stream",
          "text": [
            "WARNING 07-20 16:39:30 scheduler.py:698] Input prompt (8574 tokens) is too long and exceeds limit of 8192\n"
          ]
        },
        {
          "name": "stderr",
          "output_type": "stream",
          "text": [
            "Processed prompts:  58%|█████▊    | 1167/2000 [02:49<01:56,  7.13it/s, est. speed input: 6014.35 toks/s, output: 982.09 toks/s]"
          ]
        },
        {
          "name": "stdout",
          "output_type": "stream",
          "text": [
            "WARNING 07-20 16:39:53 scheduler.py:698] Input prompt (15974 tokens) is too long and exceeds limit of 8192\n"
          ]
        },
        {
          "name": "stderr",
          "output_type": "stream",
          "text": [
            "Processed prompts:  65%|██████▌   | 1304/2000 [03:05<01:20,  8.66it/s, est. speed input: 6031.71 toks/s, output: 999.04 toks/s]"
          ]
        },
        {
          "name": "stdout",
          "output_type": "stream",
          "text": [
            "WARNING 07-20 16:40:10 scheduler.py:698] Input prompt (13923 tokens) is too long and exceeds limit of 8192\n"
          ]
        },
        {
          "name": "stderr",
          "output_type": "stream",
          "text": [
            "Processed prompts:  68%|██████▊   | 1354/2000 [03:12<01:31,  7.05it/s, est. speed input: 6096.46 toks/s, output: 1003.45 toks/s]"
          ]
        },
        {
          "name": "stdout",
          "output_type": "stream",
          "text": [
            "WARNING 07-20 16:40:16 scheduler.py:698] Input prompt (9144 tokens) is too long and exceeds limit of 8192\n"
          ]
        },
        {
          "name": "stderr",
          "output_type": "stream",
          "text": [
            "Processed prompts:  73%|███████▎  | 1453/2000 [03:23<01:02,  8.69it/s, est. speed input: 6100.85 toks/s, output: 1012.77 toks/s]"
          ]
        },
        {
          "name": "stdout",
          "output_type": "stream",
          "text": [
            "WARNING 07-20 16:40:28 scheduler.py:698] Input prompt (8324 tokens) is too long and exceeds limit of 8192\n"
          ]
        },
        {
          "name": "stderr",
          "output_type": "stream",
          "text": [
            "Processed prompts:  78%|███████▊  | 1570/2000 [03:37<00:36, 11.91it/s, est. speed input: 6113.70 toks/s, output: 1023.44 toks/s]"
          ]
        },
        {
          "name": "stdout",
          "output_type": "stream",
          "text": [
            "WARNING 07-20 16:40:42 scheduler.py:698] Input prompt (16144 tokens) is too long and exceeds limit of 8192\n"
          ]
        },
        {
          "name": "stderr",
          "output_type": "stream",
          "text": [
            "Processed prompts:  87%|████████▋ | 1739/2000 [04:05<00:37,  7.02it/s, est. speed input: 6095.95 toks/s, output: 1011.93 toks/s]"
          ]
        },
        {
          "name": "stdout",
          "output_type": "stream",
          "text": [
            "WARNING 07-20 16:41:09 scheduler.py:698] Input prompt (9126 tokens) is too long and exceeds limit of 8192\n"
          ]
        },
        {
          "name": "stderr",
          "output_type": "stream",
          "text": [
            "Processed prompts: 100%|██████████| 2000/2000 [04:53<00:00,  6.81it/s, est. speed input: 5869.07 toks/s, output: 994.74 toks/s] \n"
          ]
        },
        {
          "name": "stdout",
          "output_type": "stream",
          "text": [
            "- Saving texts...\n",
            "- Saved 2000 texts\n",
            "- Processing chunk subset 50000, chunk 4000 to 6000...\n",
            "- Generating summaries...\n"
          ]
        },
        {
          "name": "stderr",
          "output_type": "stream",
          "text": [
            "Processed prompts:   2%|▏         | 30/2000 [00:14<02:49, 11.61it/s, est. speed input: 801.38 toks/s, output: 142.52 toks/s]"
          ]
        },
        {
          "name": "stdout",
          "output_type": "stream",
          "text": [
            "WARNING 07-20 16:42:18 scheduler.py:698] Input prompt (14975 tokens) is too long and exceeds limit of 8192\n"
          ]
        },
        {
          "name": "stderr",
          "output_type": "stream",
          "text": [
            "Processed prompts:  15%|█▍        | 299/2000 [00:50<07:05,  4.00it/s, est. speed input: 4386.25 toks/s, output: 830.08 toks/s]"
          ]
        },
        {
          "name": "stdout",
          "output_type": "stream",
          "text": [
            "WARNING 07-20 16:42:55 scheduler.py:698] Input prompt (9168 tokens) is too long and exceeds limit of 8192\n"
          ]
        },
        {
          "name": "stderr",
          "output_type": "stream",
          "text": [
            "Processed prompts:  18%|█▊        | 364/2000 [00:58<03:01,  9.04it/s, est. speed input: 4778.77 toks/s, output: 880.81 toks/s]"
          ]
        },
        {
          "name": "stdout",
          "output_type": "stream",
          "text": [
            "WARNING 07-20 16:43:03 scheduler.py:698] Input prompt (16326 tokens) is too long and exceeds limit of 8192\n"
          ]
        },
        {
          "name": "stderr",
          "output_type": "stream",
          "text": [
            "Processed prompts:  36%|███▌      | 711/2000 [01:44<03:39,  5.86it/s, est. speed input: 5231.27 toks/s, output: 978.78 toks/s]"
          ]
        },
        {
          "name": "stdout",
          "output_type": "stream",
          "text": [
            "WARNING 07-20 16:43:49 scheduler.py:698] Input prompt (18400 tokens) is too long and exceeds limit of 8192\n"
          ]
        },
        {
          "name": "stderr",
          "output_type": "stream",
          "text": [
            "Processed prompts:  38%|███▊      | 753/2000 [01:50<02:20,  8.90it/s, est. speed input: 5403.40 toks/s, output: 985.52 toks/s]"
          ]
        },
        {
          "name": "stdout",
          "output_type": "stream",
          "text": [
            "WARNING 07-20 16:43:55 scheduler.py:698] Input prompt (11446 tokens) is too long and exceeds limit of 8192\n"
          ]
        },
        {
          "name": "stderr",
          "output_type": "stream",
          "text": [
            "Processed prompts:  48%|████▊     | 955/2000 [02:15<02:27,  7.07it/s, est. speed input: 5511.37 toks/s, output: 1021.76 toks/s]"
          ]
        },
        {
          "name": "stdout",
          "output_type": "stream",
          "text": [
            "WARNING 07-20 16:44:20 scheduler.py:698] Input prompt (18653 tokens) is too long and exceeds limit of 8192\n"
          ]
        },
        {
          "name": "stderr",
          "output_type": "stream",
          "text": [
            "Processed prompts:  51%|█████     | 1016/2000 [02:23<02:08,  7.65it/s, est. speed input: 5611.19 toks/s, output: 1026.06 toks/s]"
          ]
        },
        {
          "name": "stdout",
          "output_type": "stream",
          "text": [
            "WARNING 07-20 16:44:28 scheduler.py:698] Input prompt (10748 tokens) is too long and exceeds limit of 8192\n"
          ]
        },
        {
          "name": "stderr",
          "output_type": "stream",
          "text": [
            "Processed prompts:  59%|█████▊    | 1172/2000 [02:44<01:36,  8.59it/s, est. speed input: 5688.22 toks/s, output: 1037.98 toks/s]"
          ]
        },
        {
          "name": "stdout",
          "output_type": "stream",
          "text": [
            "WARNING 07-20 16:44:48 scheduler.py:698] Input prompt (12029 tokens) is too long and exceeds limit of 8192\n"
          ]
        },
        {
          "name": "stderr",
          "output_type": "stream",
          "text": [
            "Processed prompts:  70%|██████▉   | 1396/2000 [03:16<01:22,  7.35it/s, est. speed input: 5742.25 toks/s, output: 1033.66 toks/s]"
          ]
        },
        {
          "name": "stdout",
          "output_type": "stream",
          "text": [
            "WARNING 07-20 16:45:21 scheduler.py:698] Input prompt (14027 tokens) is too long and exceeds limit of 8192\n"
          ]
        },
        {
          "name": "stderr",
          "output_type": "stream",
          "text": [
            "Processed prompts:  74%|███████▍  | 1478/2000 [03:29<00:52,  9.90it/s, est. speed input: 5823.02 toks/s, output: 1027.64 toks/s]"
          ]
        },
        {
          "name": "stdout",
          "output_type": "stream",
          "text": [
            "WARNING 07-20 16:45:34 scheduler.py:698] Input prompt (10301 tokens) is too long and exceeds limit of 8192\n"
          ]
        },
        {
          "name": "stderr",
          "output_type": "stream",
          "text": [
            "Processed prompts:  84%|████████▍ | 1680/2000 [03:55<00:41,  7.79it/s, est. speed input: 5846.69 toks/s, output: 1033.84 toks/s]"
          ]
        },
        {
          "name": "stdout",
          "output_type": "stream",
          "text": [
            "WARNING 07-20 16:46:00 scheduler.py:698] Input prompt (10819 tokens) is too long and exceeds limit of 8192\n"
          ]
        },
        {
          "name": "stderr",
          "output_type": "stream",
          "text": [
            "Processed prompts:  85%|████████▌ | 1703/2000 [03:58<00:30,  9.81it/s, est. speed input: 5883.17 toks/s, output: 1036.80 toks/s]"
          ]
        },
        {
          "name": "stdout",
          "output_type": "stream",
          "text": [
            "WARNING 07-20 16:46:02 scheduler.py:698] Input prompt (8284 tokens) is too long and exceeds limit of 8192\n"
          ]
        },
        {
          "name": "stderr",
          "output_type": "stream",
          "text": [
            "Processed prompts:  87%|████████▋ | 1732/2000 [04:01<00:48,  5.56it/s, est. speed input: 5940.68 toks/s, output: 1038.10 toks/s]"
          ]
        },
        {
          "name": "stdout",
          "output_type": "stream",
          "text": [
            "WARNING 07-20 16:46:06 scheduler.py:698] Input prompt (14713 tokens) is too long and exceeds limit of 8192\n"
          ]
        },
        {
          "name": "stderr",
          "output_type": "stream",
          "text": [
            "Processed prompts: 100%|██████████| 2000/2000 [05:29<00:00,  6.08it/s, est. speed input: 5090.11 toks/s, output: 902.86 toks/s]\n"
          ]
        },
        {
          "name": "stdout",
          "output_type": "stream",
          "text": [
            "- Saving texts...\n",
            "- Saved 2000 texts\n",
            "- Processing chunk subset 50000, chunk 6000 to 8000...\n",
            "- Generating summaries...\n"
          ]
        },
        {
          "name": "stderr",
          "output_type": "stream",
          "text": [
            "Processed prompts:  14%|█▍        | 287/2000 [00:46<05:04,  5.62it/s, est. speed input: 3921.75 toks/s, output: 854.48 toks/s]"
          ]
        },
        {
          "name": "stdout",
          "output_type": "stream",
          "text": [
            "WARNING 07-20 16:48:27 scheduler.py:698] Input prompt (11824 tokens) is too long and exceeds limit of 8192\n"
          ]
        },
        {
          "name": "stderr",
          "output_type": "stream",
          "text": [
            "Processed prompts:  29%|██▉       | 585/2000 [01:26<02:17, 10.32it/s, est. speed input: 4644.72 toks/s, output: 999.91 toks/s]"
          ]
        },
        {
          "name": "stdout",
          "output_type": "stream",
          "text": [
            "WARNING 07-20 16:49:07 scheduler.py:698] Input prompt (10522 tokens) is too long and exceeds limit of 8192\n"
          ]
        },
        {
          "name": "stderr",
          "output_type": "stream",
          "text": [
            "Processed prompts:  37%|███▋      | 737/2000 [01:47<02:28,  8.50it/s, est. speed input: 4880.36 toks/s, output: 1019.90 toks/s]"
          ]
        },
        {
          "name": "stdout",
          "output_type": "stream",
          "text": [
            "WARNING 07-20 16:49:27 scheduler.py:698] Input prompt (10417 tokens) is too long and exceeds limit of 8192\n"
          ]
        },
        {
          "name": "stderr",
          "output_type": "stream",
          "text": [
            "Processed prompts:  37%|███▋      | 741/2000 [01:47<02:44,  7.64it/s, est. speed input: 5013.73 toks/s, output: 1020.79 toks/s]"
          ]
        },
        {
          "name": "stdout",
          "output_type": "stream",
          "text": [
            "WARNING 07-20 16:49:28 scheduler.py:698] Input prompt (11008 tokens) is too long and exceeds limit of 8192\n"
          ]
        },
        {
          "name": "stderr",
          "output_type": "stream",
          "text": [
            "Processed prompts:  41%|████      | 824/2000 [01:59<02:33,  7.67it/s, est. speed input: 5100.20 toks/s, output: 1020.00 toks/s]"
          ]
        },
        {
          "name": "stdout",
          "output_type": "stream",
          "text": [
            "WARNING 07-20 16:49:40 scheduler.py:698] Input prompt (10217 tokens) is too long and exceeds limit of 8192\n"
          ]
        },
        {
          "name": "stderr",
          "output_type": "stream",
          "text": [
            "Processed prompts:  44%|████▍     | 881/2000 [02:05<02:00,  9.26it/s, est. speed input: 5228.12 toks/s, output: 1035.70 toks/s]"
          ]
        },
        {
          "name": "stdout",
          "output_type": "stream",
          "text": [
            "WARNING 07-20 16:49:46 scheduler.py:698] Input prompt (15509 tokens) is too long and exceeds limit of 8192\n"
          ]
        },
        {
          "name": "stderr",
          "output_type": "stream",
          "text": [
            "Processed prompts:  48%|████▊     | 964/2000 [02:17<03:19,  5.18it/s, est. speed input: 5372.29 toks/s, output: 1029.46 toks/s]"
          ]
        },
        {
          "name": "stdout",
          "output_type": "stream",
          "text": [
            "WARNING 07-20 16:49:57 scheduler.py:698] Input prompt (8733 tokens) is too long and exceeds limit of 8192\n"
          ]
        },
        {
          "name": "stderr",
          "output_type": "stream",
          "text": [
            "Processed prompts:  51%|█████     | 1018/2000 [02:23<01:58,  8.31it/s, est. speed input: 5456.81 toks/s, output: 1040.17 toks/s]"
          ]
        },
        {
          "name": "stdout",
          "output_type": "stream",
          "text": [
            "WARNING 07-20 16:50:04 scheduler.py:698] Input prompt (11097 tokens) is too long and exceeds limit of 8192\n"
          ]
        },
        {
          "name": "stderr",
          "output_type": "stream",
          "text": [
            "Processed prompts:  54%|█████▍    | 1087/2000 [02:34<02:42,  5.63it/s, est. speed input: 5468.31 toks/s, output: 1037.63 toks/s]"
          ]
        },
        {
          "name": "stdout",
          "output_type": "stream",
          "text": [
            "WARNING 07-20 16:50:15 scheduler.py:698] Input prompt (16779 tokens) is too long and exceeds limit of 8192\n"
          ]
        },
        {
          "name": "stderr",
          "output_type": "stream",
          "text": [
            "Processed prompts:  62%|██████▏   | 1231/2000 [02:58<01:19,  9.68it/s, est. speed input: 5563.20 toks/s, output: 1024.01 toks/s]"
          ]
        },
        {
          "name": "stdout",
          "output_type": "stream",
          "text": [
            "WARNING 07-20 16:50:39 scheduler.py:698] Input prompt (10446 tokens) is too long and exceeds limit of 8192\n"
          ]
        },
        {
          "name": "stderr",
          "output_type": "stream",
          "text": [
            "Processed prompts:  84%|████████▎ | 1670/2000 [03:58<00:54,  6.07it/s, est. speed input: 5514.09 toks/s, output: 1034.90 toks/s]"
          ]
        },
        {
          "name": "stdout",
          "output_type": "stream",
          "text": [
            "WARNING 07-20 16:51:39 scheduler.py:698] Input prompt (13274 tokens) is too long and exceeds limit of 8192\n"
          ]
        },
        {
          "name": "stderr",
          "output_type": "stream",
          "text": [
            "Processed prompts:  85%|████████▍ | 1694/2000 [04:02<00:47,  6.49it/s, est. speed input: 5581.40 toks/s, output: 1034.92 toks/s]"
          ]
        },
        {
          "name": "stdout",
          "output_type": "stream",
          "text": [
            "WARNING 07-20 16:51:42 scheduler.py:698] Input prompt (16947 tokens) is too long and exceeds limit of 8192\n"
          ]
        },
        {
          "name": "stderr",
          "output_type": "stream",
          "text": [
            "Processed prompts:  87%|████████▋ | 1731/2000 [04:07<00:35,  7.58it/s, est. speed input: 5639.74 toks/s, output: 1033.08 toks/s]"
          ]
        },
        {
          "name": "stdout",
          "output_type": "stream",
          "text": [
            "WARNING 07-20 16:51:48 scheduler.py:698] Input prompt (13371 tokens) is too long and exceeds limit of 8192\n"
          ]
        },
        {
          "name": "stderr",
          "output_type": "stream",
          "text": [
            "Processed prompts: 100%|██████████| 2000/2000 [04:49<00:00,  6.91it/s, est. speed input: 5636.78 toks/s, output: 1040.77 toks/s]\n"
          ]
        },
        {
          "name": "stdout",
          "output_type": "stream",
          "text": [
            "- Saving texts...\n",
            "- Saved 2000 texts\n",
            "- Processing chunk subset 50000, chunk 8000 to 10000...\n",
            "- Generating summaries...\n"
          ]
        },
        {
          "name": "stderr",
          "output_type": "stream",
          "text": [
            "Processed prompts:   6%|▌         | 113/2000 [00:23<04:02,  7.78it/s, est. speed input: 2721.63 toks/s, output: 601.92 toks/s]"
          ]
        },
        {
          "name": "stdout",
          "output_type": "stream",
          "text": [
            "WARNING 07-20 16:53:00 scheduler.py:698] Input prompt (11612 tokens) is too long and exceeds limit of 8192\n"
          ]
        },
        {
          "name": "stderr",
          "output_type": "stream",
          "text": [
            "Processed prompts:  17%|█▋        | 339/2000 [00:54<04:54,  5.64it/s, est. speed input: 4570.10 toks/s, output: 835.53 toks/s]"
          ]
        },
        {
          "name": "stdout",
          "output_type": "stream",
          "text": [
            "WARNING 07-20 16:53:31 scheduler.py:698] Input prompt (9161 tokens) is too long and exceeds limit of 8192\n"
          ]
        },
        {
          "name": "stderr",
          "output_type": "stream",
          "text": [
            "Processed prompts:  22%|██▏       | 445/2000 [01:09<02:34, 10.07it/s, est. speed input: 4969.27 toks/s, output: 881.47 toks/s]"
          ]
        },
        {
          "name": "stdout",
          "output_type": "stream",
          "text": [
            "WARNING 07-20 16:53:46 scheduler.py:698] Input prompt (11725 tokens) is too long and exceeds limit of 8192\n"
          ]
        },
        {
          "name": "stderr",
          "output_type": "stream",
          "text": [
            "Processed prompts:  51%|█████     | 1022/2000 [02:27<02:18,  7.05it/s, est. speed input: 5303.17 toks/s, output: 988.43 toks/s]"
          ]
        },
        {
          "name": "stdout",
          "output_type": "stream",
          "text": [
            "WARNING 07-20 16:55:04 scheduler.py:698] Input prompt (12043 tokens) is too long and exceeds limit of 8192\n"
          ]
        },
        {
          "name": "stderr",
          "output_type": "stream",
          "text": [
            "Processed prompts:  70%|███████   | 1410/2000 [03:21<00:52, 11.34it/s, est. speed input: 5470.80 toks/s, output: 992.62 toks/s]"
          ]
        },
        {
          "name": "stdout",
          "output_type": "stream",
          "text": [
            "WARNING 07-20 16:55:58 scheduler.py:698] Input prompt (22271 tokens) is too long and exceeds limit of 8192\n"
          ]
        },
        {
          "name": "stderr",
          "output_type": "stream",
          "text": [
            "Processed prompts:  87%|████████▋ | 1749/2000 [04:06<00:37,  6.75it/s, est. speed input: 5547.29 toks/s, output: 1019.25 toks/s]"
          ]
        },
        {
          "name": "stdout",
          "output_type": "stream",
          "text": [
            "WARNING 07-20 16:56:43 scheduler.py:698] Input prompt (11931 tokens) is too long and exceeds limit of 8192\n"
          ]
        },
        {
          "name": "stderr",
          "output_type": "stream",
          "text": [
            "Processed prompts:  93%|█████████▎| 1854/2000 [04:20<00:11, 13.27it/s, est. speed input: 5606.63 toks/s, output: 1024.27 toks/s]"
          ]
        },
        {
          "name": "stdout",
          "output_type": "stream",
          "text": [
            "WARNING 07-20 16:56:58 scheduler.py:698] Input prompt (21645 tokens) is too long and exceeds limit of 8192\n"
          ]
        },
        {
          "name": "stderr",
          "output_type": "stream",
          "text": [
            "Processed prompts:  93%|█████████▎| 1860/2000 [04:21<00:16,  8.35it/s, est. speed input: 5680.01 toks/s, output: 1023.16 toks/s]"
          ]
        },
        {
          "name": "stdout",
          "output_type": "stream",
          "text": [
            "WARNING 07-20 16:56:59 scheduler.py:698] Input prompt (8680 tokens) is too long and exceeds limit of 8192\n"
          ]
        },
        {
          "name": "stderr",
          "output_type": "stream",
          "text": [
            "Processed prompts: 100%|██████████| 2000/2000 [05:17<00:00,  6.31it/s, est. speed input: 5129.22 toks/s, output: 927.63 toks/s]\n"
          ]
        },
        {
          "name": "stdout",
          "output_type": "stream",
          "text": [
            "- Saving texts...\n",
            "- Saved 2000 texts\n",
            "- Processing chunk 60000 to 70000...\n",
            "- Processing chunk subset 60000, chunk 0 to 2000...\n",
            "- Generating summaries...\n"
          ]
        },
        {
          "name": "stderr",
          "output_type": "stream",
          "text": [
            "Processed prompts:   3%|▎         | 66/2000 [00:17<03:52,  8.32it/s, est. speed input: 1479.44 toks/s, output: 336.23 toks/s]"
          ]
        },
        {
          "name": "stdout",
          "output_type": "stream",
          "text": [
            "WARNING 07-20 16:58:19 scheduler.py:698] Input prompt (10719 tokens) is too long and exceeds limit of 8192\n"
          ]
        },
        {
          "name": "stderr",
          "output_type": "stream",
          "text": [
            "Processed prompts:   8%|▊         | 156/2000 [00:30<05:30,  5.58it/s, est. speed input: 3594.37 toks/s, output: 668.03 toks/s]"
          ]
        },
        {
          "name": "stdout",
          "output_type": "stream",
          "text": [
            "WARNING 07-20 16:58:31 scheduler.py:698] Input prompt (8289 tokens) is too long and exceeds limit of 8192\n"
          ]
        },
        {
          "name": "stderr",
          "output_type": "stream",
          "text": [
            "Processed prompts:  21%|██        | 423/2000 [01:09<05:36,  4.68it/s, est. speed input: 4703.78 toks/s, output: 859.84 toks/s]"
          ]
        },
        {
          "name": "stdout",
          "output_type": "stream",
          "text": [
            "WARNING 07-20 16:59:10 scheduler.py:698] Input prompt (12663 tokens) is too long and exceeds limit of 8192\n"
          ]
        },
        {
          "name": "stderr",
          "output_type": "stream",
          "text": [
            "Processed prompts:  27%|██▋       | 534/2000 [01:24<06:01,  4.05it/s, est. speed input: 5067.51 toks/s, output: 893.01 toks/s]"
          ]
        },
        {
          "name": "stdout",
          "output_type": "stream",
          "text": [
            "WARNING 07-20 16:59:26 scheduler.py:698] Input prompt (14576 tokens) is too long and exceeds limit of 8192\n"
          ]
        },
        {
          "name": "stderr",
          "output_type": "stream",
          "text": [
            "Processed prompts:  37%|███▋      | 734/2000 [01:53<02:46,  7.58it/s, est. speed input: 5399.62 toks/s, output: 918.90 toks/s]"
          ]
        },
        {
          "name": "stdout",
          "output_type": "stream",
          "text": [
            "WARNING 07-20 16:59:55 scheduler.py:698] Input prompt (9453 tokens) is too long and exceeds limit of 8192\n"
          ]
        },
        {
          "name": "stderr",
          "output_type": "stream",
          "text": [
            "Processed prompts:  37%|███▋      | 746/2000 [01:55<03:27,  6.04it/s, est. speed input: 5525.30 toks/s, output: 922.43 toks/s]"
          ]
        },
        {
          "name": "stdout",
          "output_type": "stream",
          "text": [
            "WARNING 07-20 16:59:57 scheduler.py:698] Input prompt (16059 tokens) is too long and exceeds limit of 8192\n"
          ]
        },
        {
          "name": "stderr",
          "output_type": "stream",
          "text": [
            "Processed prompts:  46%|████▌     | 918/2000 [02:17<02:07,  8.49it/s, est. speed input: 5564.81 toks/s, output: 947.18 toks/s]"
          ]
        },
        {
          "name": "stdout",
          "output_type": "stream",
          "text": [
            "WARNING 07-20 17:00:18 scheduler.py:698] Input prompt (8321 tokens) is too long and exceeds limit of 8192\n"
          ]
        },
        {
          "name": "stderr",
          "output_type": "stream",
          "text": [
            "Processed prompts:  49%|████▉     | 989/2000 [02:27<02:28,  6.81it/s, est. speed input: 5635.29 toks/s, output: 951.62 toks/s]"
          ]
        },
        {
          "name": "stdout",
          "output_type": "stream",
          "text": [
            "WARNING 07-20 17:00:29 scheduler.py:698] Input prompt (10606 tokens) is too long and exceeds limit of 8192\n"
          ]
        },
        {
          "name": "stderr",
          "output_type": "stream",
          "text": [
            "Processed prompts:  61%|██████    | 1223/2000 [02:57<01:59,  6.50it/s, est. speed input: 5639.86 toks/s, output: 986.32 toks/s]"
          ]
        },
        {
          "name": "stdout",
          "output_type": "stream",
          "text": [
            "WARNING 07-20 17:00:58 scheduler.py:698] Input prompt (10590 tokens) is too long and exceeds limit of 8192\n"
          ]
        },
        {
          "name": "stderr",
          "output_type": "stream",
          "text": [
            "Processed prompts:  70%|███████   | 1410/2000 [03:27<01:25,  6.86it/s, est. speed input: 5701.43 toks/s, output: 986.57 toks/s]"
          ]
        },
        {
          "name": "stdout",
          "output_type": "stream",
          "text": [
            "WARNING 07-20 17:01:28 scheduler.py:698] Input prompt (9981 tokens) is too long and exceeds limit of 8192\n"
          ]
        },
        {
          "name": "stderr",
          "output_type": "stream",
          "text": [
            "Processed prompts:  75%|███████▌  | 1506/2000 [03:42<01:25,  5.75it/s, est. speed input: 5771.20 toks/s, output: 983.37 toks/s]"
          ]
        },
        {
          "name": "stdout",
          "output_type": "stream",
          "text": [
            "WARNING 07-20 17:01:43 scheduler.py:698] Input prompt (22957 tokens) is too long and exceeds limit of 8192\n"
          ]
        },
        {
          "name": "stderr",
          "output_type": "stream",
          "text": [
            "Processed prompts:  77%|███████▋  | 1549/2000 [03:47<00:58,  7.71it/s, est. speed input: 5884.48 toks/s, output: 984.31 toks/s]"
          ]
        },
        {
          "name": "stdout",
          "output_type": "stream",
          "text": [
            "WARNING 07-20 17:01:49 scheduler.py:698] Input prompt (9173 tokens) is too long and exceeds limit of 8192\n"
          ]
        },
        {
          "name": "stderr",
          "output_type": "stream",
          "text": [
            "Processed prompts:  84%|████████▍ | 1688/2000 [04:05<00:37,  8.43it/s, est. speed input: 5893.05 toks/s, output: 998.17 toks/s]"
          ]
        },
        {
          "name": "stdout",
          "output_type": "stream",
          "text": [
            "WARNING 07-20 17:02:06 scheduler.py:698] Input prompt (11989 tokens) is too long and exceeds limit of 8192\n"
          ]
        },
        {
          "name": "stderr",
          "output_type": "stream",
          "text": [
            "Processed prompts:  89%|████████▉ | 1775/2000 [04:17<00:26,  8.48it/s, est. speed input: 5965.84 toks/s, output: 1002.93 toks/s]"
          ]
        },
        {
          "name": "stdout",
          "output_type": "stream",
          "text": [
            "WARNING 07-20 17:02:19 scheduler.py:698] Input prompt (10855 tokens) is too long and exceeds limit of 8192\n"
          ]
        },
        {
          "name": "stderr",
          "output_type": "stream",
          "text": [
            "Processed prompts: 100%|██████████| 2000/2000 [04:45<00:00,  7.01it/s, est. speed input: 6180.70 toks/s, output: 1028.65 toks/s]\n"
          ]
        },
        {
          "name": "stdout",
          "output_type": "stream",
          "text": [
            "- Saving texts...\n",
            "- Saved 2000 texts\n",
            "- Processing chunk subset 60000, chunk 2000 to 4000...\n",
            "- Generating summaries...\n"
          ]
        },
        {
          "name": "stderr",
          "output_type": "stream",
          "text": [
            "\rProcessed prompts:   0%|          | 0/2000 [00:00<?, ?it/s, est. speed input: 0.00 toks/s, output: 0.00 toks/s]"
          ]
        },
        {
          "name": "stdout",
          "output_type": "stream",
          "text": [
            "WARNING 07-20 17:02:54 scheduler.py:698] Input prompt (13189 tokens) is too long and exceeds limit of 8192\n"
          ]
        },
        {
          "name": "stderr",
          "output_type": "stream",
          "text": [
            "\rProcessed prompts:   0%|          | 1/2000 [00:00<15:36,  2.14it/s, est. speed input: 28162.25 toks/s, output: 0.00 toks/s]"
          ]
        },
        {
          "name": "stdout",
          "output_type": "stream",
          "text": [
            "WARNING 07-20 17:03:03 scheduler.py:1124] Sequence group 62151 is preempted by PreemptionMode.RECOMPUTE mode because there is not enough KV cache space. This can affect the end-to-end performance. Increase gpu_memory_utilization or tensor_parallel_size to provide more KV cache memory. total_num_cumulative_preemption=251\n"
          ]
        },
        {
          "name": "stderr",
          "output_type": "stream",
          "text": [
            "Processed prompts:  23%|██▎       | 452/2000 [01:10<04:32,  5.68it/s, est. speed input: 4847.85 toks/s, output: 910.47 toks/s]"
          ]
        },
        {
          "name": "stdout",
          "output_type": "stream",
          "text": [
            "WARNING 07-20 17:04:04 scheduler.py:698] Input prompt (9832 tokens) is too long and exceeds limit of 8192\n"
          ]
        },
        {
          "name": "stderr",
          "output_type": "stream",
          "text": [
            "Processed prompts:  31%|███       | 614/2000 [01:36<04:16,  5.41it/s, est. speed input: 5094.30 toks/s, output: 902.90 toks/s]"
          ]
        },
        {
          "name": "stdout",
          "output_type": "stream",
          "text": [
            "WARNING 07-20 17:04:31 scheduler.py:698] Input prompt (25164 tokens) is too long and exceeds limit of 8192\n"
          ]
        },
        {
          "name": "stderr",
          "output_type": "stream",
          "text": [
            "Processed prompts:  34%|███▎      | 672/2000 [01:45<02:20,  9.42it/s, est. speed input: 5345.99 toks/s, output: 917.60 toks/s]"
          ]
        },
        {
          "name": "stdout",
          "output_type": "stream",
          "text": [
            "WARNING 07-20 17:04:39 scheduler.py:698] Input prompt (14885 tokens) is too long and exceeds limit of 8192\n"
          ]
        },
        {
          "name": "stderr",
          "output_type": "stream",
          "text": [
            "Processed prompts:  41%|████      | 817/2000 [02:01<02:16,  8.68it/s, est. speed input: 5503.17 toks/s, output: 946.45 toks/s]"
          ]
        },
        {
          "name": "stdout",
          "output_type": "stream",
          "text": [
            "WARNING 07-20 17:04:56 scheduler.py:698] Input prompt (16710 tokens) is too long and exceeds limit of 8192\n"
          ]
        },
        {
          "name": "stderr",
          "output_type": "stream",
          "text": [
            "Processed prompts:  50%|█████     | 1010/2000 [02:26<01:38, 10.05it/s, est. speed input: 5661.10 toks/s, output: 969.75 toks/s]"
          ]
        },
        {
          "name": "stdout",
          "output_type": "stream",
          "text": [
            "WARNING 07-20 17:05:21 scheduler.py:698] Input prompt (50729 tokens) is too long and exceeds limit of 8192\n"
          ]
        },
        {
          "name": "stderr",
          "output_type": "stream",
          "text": [
            "Processed prompts:  54%|█████▎    | 1071/2000 [02:35<01:52,  8.27it/s, est. speed input: 5960.13 toks/s, output: 976.98 toks/s]"
          ]
        },
        {
          "name": "stdout",
          "output_type": "stream",
          "text": [
            "WARNING 07-20 17:05:29 scheduler.py:698] Input prompt (14043 tokens) is too long and exceeds limit of 8192\n"
          ]
        },
        {
          "name": "stderr",
          "output_type": "stream",
          "text": [
            "Processed prompts:  56%|█████▌    | 1120/2000 [02:41<02:42,  5.42it/s, est. speed input: 6068.28 toks/s, output: 979.70 toks/s]"
          ]
        },
        {
          "name": "stdout",
          "output_type": "stream",
          "text": [
            "WARNING 07-20 17:05:36 scheduler.py:698] Input prompt (14816 tokens) is too long and exceeds limit of 8192\n"
          ]
        },
        {
          "name": "stderr",
          "output_type": "stream",
          "text": [
            "Processed prompts:  67%|██████▋   | 1332/2000 [03:11<01:49,  6.12it/s, est. speed input: 6063.08 toks/s, output: 994.14 toks/s]"
          ]
        },
        {
          "name": "stdout",
          "output_type": "stream",
          "text": [
            "WARNING 07-20 17:06:05 scheduler.py:698] Input prompt (9778 tokens) is too long and exceeds limit of 8192\n"
          ]
        },
        {
          "name": "stderr",
          "output_type": "stream",
          "text": [
            "Processed prompts:  70%|███████   | 1405/2000 [03:20<01:25,  6.95it/s, est. speed input: 6115.09 toks/s, output: 1002.87 toks/s]"
          ]
        },
        {
          "name": "stdout",
          "output_type": "stream",
          "text": [
            "WARNING 07-20 17:06:14 scheduler.py:698] Input prompt (14417 tokens) is too long and exceeds limit of 8192\n"
          ]
        },
        {
          "name": "stderr",
          "output_type": "stream",
          "text": [
            "Processed prompts:  74%|███████▍  | 1485/2000 [03:31<00:46, 10.96it/s, est. speed input: 6165.14 toks/s, output: 1003.24 toks/s]"
          ]
        },
        {
          "name": "stdout",
          "output_type": "stream",
          "text": [
            "WARNING 07-20 17:06:25 scheduler.py:698] Input prompt (22854 tokens) is too long and exceeds limit of 8192\n"
          ]
        },
        {
          "name": "stderr",
          "output_type": "stream",
          "text": [
            "Processed prompts:  78%|███████▊  | 1555/2000 [03:40<00:46,  9.56it/s, est. speed input: 6239.95 toks/s, output: 1006.76 toks/s]"
          ]
        },
        {
          "name": "stdout",
          "output_type": "stream",
          "text": [
            "WARNING 07-20 17:06:35 scheduler.py:698] Input prompt (10996 tokens) is too long and exceeds limit of 8192\n"
          ]
        },
        {
          "name": "stderr",
          "output_type": "stream",
          "text": [
            "Processed prompts:  78%|███████▊  | 1566/2000 [03:42<00:45,  9.52it/s, est. speed input: 6311.65 toks/s, output: 1007.76 toks/s]"
          ]
        },
        {
          "name": "stdout",
          "output_type": "stream",
          "text": [
            "WARNING 07-20 17:06:36 scheduler.py:698] Input prompt (25240 tokens) is too long and exceeds limit of 8192\n"
          ]
        },
        {
          "name": "stderr",
          "output_type": "stream",
          "text": [
            "Processed prompts:  79%|███████▉  | 1584/2000 [03:44<01:10,  5.94it/s, est. speed input: 6407.74 toks/s, output: 1006.64 toks/s]"
          ]
        },
        {
          "name": "stdout",
          "output_type": "stream",
          "text": [
            "WARNING 07-20 17:06:39 scheduler.py:698] Input prompt (8648 tokens) is too long and exceeds limit of 8192\n"
          ]
        },
        {
          "name": "stderr",
          "output_type": "stream",
          "text": [
            "Processed prompts:  85%|████████▌ | 1703/2000 [03:59<00:39,  7.46it/s, est. speed input: 6409.19 toks/s, output: 1017.51 toks/s]"
          ]
        },
        {
          "name": "stdout",
          "output_type": "stream",
          "text": [
            "WARNING 07-20 17:06:54 scheduler.py:698] Input prompt (8502 tokens) is too long and exceeds limit of 8192\n"
          ]
        },
        {
          "name": "stderr",
          "output_type": "stream",
          "text": [
            "Processed prompts:  86%|████████▌ | 1724/2000 [04:03<01:00,  4.55it/s, est. speed input: 6400.77 toks/s, output: 1013.93 toks/s]"
          ]
        },
        {
          "name": "stdout",
          "output_type": "stream",
          "text": [
            "WARNING 07-20 17:06:58 scheduler.py:698] Input prompt (10670 tokens) is too long and exceeds limit of 8192\n"
          ]
        },
        {
          "name": "stderr",
          "output_type": "stream",
          "text": [
            "Processed prompts:  90%|█████████ | 1808/2000 [04:12<00:30,  6.40it/s, est. speed input: 6396.20 toks/s, output: 1022.31 toks/s]"
          ]
        },
        {
          "name": "stdout",
          "output_type": "stream",
          "text": [
            "WARNING 07-20 17:07:07 scheduler.py:698] Input prompt (9185 tokens) is too long and exceeds limit of 8192\n"
          ]
        },
        {
          "name": "stderr",
          "output_type": "stream",
          "text": [
            "Processed prompts: 100%|██████████| 2000/2000 [05:26<00:00,  6.12it/s, est. speed input: 5440.00 toks/s, output: 897.75 toks/s]\n"
          ]
        },
        {
          "name": "stdout",
          "output_type": "stream",
          "text": [
            "- Saving texts...\n",
            "- Saved 2000 texts\n",
            "- Processing chunk subset 60000, chunk 4000 to 6000...\n",
            "- Generating summaries...\n"
          ]
        },
        {
          "name": "stderr",
          "output_type": "stream",
          "text": [
            "\rProcessed prompts:   0%|          | 0/2000 [00:00<?, ?it/s, est. speed input: 0.00 toks/s, output: 0.00 toks/s]"
          ]
        },
        {
          "name": "stdout",
          "output_type": "stream",
          "text": [
            "WARNING 07-20 17:08:31 scheduler.py:698] Input prompt (31235 tokens) is too long and exceeds limit of 8192\n"
          ]
        },
        {
          "name": "stderr",
          "output_type": "stream",
          "text": [
            "\rProcessed prompts:   0%|          | 1/2000 [00:03<1:54:06,  3.42s/it, est. speed input: 9120.07 toks/s, output: 0.00 toks/s]"
          ]
        },
        {
          "name": "stdout",
          "output_type": "stream",
          "text": [
            "WARNING 07-20 17:08:32 scheduler.py:698] Input prompt (12410 tokens) is too long and exceeds limit of 8192\n"
          ]
        },
        {
          "name": "stderr",
          "output_type": "stream",
          "text": [
            "Processed prompts:   7%|▋         | 147/2000 [00:27<02:58, 10.40it/s, est. speed input: 4823.05 toks/s, output: 639.74 toks/s]"
          ]
        },
        {
          "name": "stdout",
          "output_type": "stream",
          "text": [
            "WARNING 07-20 17:08:56 scheduler.py:698] Input prompt (11615 tokens) is too long and exceeds limit of 8192\n"
          ]
        },
        {
          "name": "stderr",
          "output_type": "stream",
          "text": [
            "Processed prompts:  15%|█▌        | 308/2000 [00:49<06:23,  4.41it/s, est. speed input: 5241.42 toks/s, output: 841.18 toks/s]"
          ]
        },
        {
          "name": "stdout",
          "output_type": "stream",
          "text": [
            "WARNING 07-20 17:09:18 scheduler.py:698] Input prompt (10559 tokens) is too long and exceeds limit of 8192\n"
          ]
        },
        {
          "name": "stderr",
          "output_type": "stream",
          "text": [
            "Processed prompts:  22%|██▏       | 431/2000 [01:06<03:13,  8.13it/s, est. speed input: 5450.95 toks/s, output: 889.71 toks/s]"
          ]
        },
        {
          "name": "stdout",
          "output_type": "stream",
          "text": [
            "WARNING 07-20 17:09:35 scheduler.py:698] Input prompt (10364 tokens) is too long and exceeds limit of 8192\n"
          ]
        },
        {
          "name": "stderr",
          "output_type": "stream",
          "text": [
            "Processed prompts:  25%|██▌       | 502/2000 [01:16<03:27,  7.23it/s, est. speed input: 5723.59 toks/s, output: 915.28 toks/s]"
          ]
        },
        {
          "name": "stdout",
          "output_type": "stream",
          "text": [
            "WARNING 07-20 17:09:45 scheduler.py:698] Input prompt (9823 tokens) is too long and exceeds limit of 8192\n"
          ]
        },
        {
          "name": "stderr",
          "output_type": "stream",
          "text": [
            "Processed prompts:  26%|██▌       | 521/2000 [01:18<01:57, 12.58it/s, est. speed input: 5808.09 toks/s, output: 923.32 toks/s]"
          ]
        },
        {
          "name": "stdout",
          "output_type": "stream",
          "text": [
            "WARNING 07-20 17:09:47 scheduler.py:698] Input prompt (11109 tokens) is too long and exceeds limit of 8192\n"
          ]
        },
        {
          "name": "stderr",
          "output_type": "stream",
          "text": [
            "Processed prompts:  37%|███▋      | 741/2000 [01:47<02:49,  7.43it/s, est. speed input: 5805.01 toks/s, output: 973.88 toks/s]"
          ]
        },
        {
          "name": "stdout",
          "output_type": "stream",
          "text": [
            "WARNING 07-20 17:10:16 scheduler.py:698] Input prompt (16335 tokens) is too long and exceeds limit of 8192\n"
          ]
        },
        {
          "name": "stderr",
          "output_type": "stream",
          "text": [
            "Processed prompts:  38%|███▊      | 770/2000 [01:52<03:53,  5.26it/s, est. speed input: 5994.98 toks/s, output: 970.65 toks/s]"
          ]
        },
        {
          "name": "stdout",
          "output_type": "stream",
          "text": [
            "WARNING 07-20 17:10:21 scheduler.py:698] Input prompt (11113 tokens) is too long and exceeds limit of 8192\n"
          ]
        },
        {
          "name": "stderr",
          "output_type": "stream",
          "text": [
            "Processed prompts:  46%|████▋     | 927/2000 [02:13<02:29,  7.18it/s, est. speed input: 6035.74 toks/s, output: 974.43 toks/s]"
          ]
        },
        {
          "name": "stdout",
          "output_type": "stream",
          "text": [
            "WARNING 07-20 17:10:42 scheduler.py:698] Input prompt (9838 tokens) is too long and exceeds limit of 8192\n"
          ]
        },
        {
          "name": "stderr",
          "output_type": "stream",
          "text": [
            "Processed prompts:  61%|██████    | 1223/2000 [02:50<01:40,  7.74it/s, est. speed input: 6002.24 toks/s, output: 1002.96 toks/s]"
          ]
        },
        {
          "name": "stdout",
          "output_type": "stream",
          "text": [
            "WARNING 07-20 17:11:19 scheduler.py:698] Input prompt (14132 tokens) is too long and exceeds limit of 8192\n"
          ]
        },
        {
          "name": "stderr",
          "output_type": "stream",
          "text": [
            "Processed prompts:  68%|██████▊   | 1351/2000 [03:08<01:08,  9.41it/s, est. speed input: 5992.59 toks/s, output: 1009.34 toks/s]"
          ]
        },
        {
          "name": "stdout",
          "output_type": "stream",
          "text": [
            "WARNING 07-20 17:11:37 scheduler.py:698] Input prompt (16936 tokens) is too long and exceeds limit of 8192\n"
          ]
        },
        {
          "name": "stderr",
          "output_type": "stream",
          "text": [
            "Processed prompts:  68%|██████▊   | 1369/2000 [03:11<02:13,  4.73it/s, est. speed input: 6057.15 toks/s, output: 1007.42 toks/s]"
          ]
        },
        {
          "name": "stdout",
          "output_type": "stream",
          "text": [
            "WARNING 07-20 17:11:40 scheduler.py:698] Input prompt (16643 tokens) is too long and exceeds limit of 8192\n"
          ]
        },
        {
          "name": "stderr",
          "output_type": "stream",
          "text": [
            "Processed prompts:  70%|███████   | 1402/2000 [03:14<00:52, 11.48it/s, est. speed input: 6126.62 toks/s, output: 1016.84 toks/s]"
          ]
        },
        {
          "name": "stdout",
          "output_type": "stream",
          "text": [
            "WARNING 07-20 17:11:43 scheduler.py:698] Input prompt (9748 tokens) is too long and exceeds limit of 8192\n"
          ]
        },
        {
          "name": "stderr",
          "output_type": "stream",
          "text": [
            "Processed prompts:  71%|███████   | 1415/2000 [03:15<00:55, 10.57it/s, est. speed input: 6198.41 toks/s, output: 1019.52 toks/s]"
          ]
        },
        {
          "name": "stdout",
          "output_type": "stream",
          "text": [
            "WARNING 07-20 17:11:44 scheduler.py:698] Input prompt (10942 tokens) is too long and exceeds limit of 8192\n"
          ]
        },
        {
          "name": "stderr",
          "output_type": "stream",
          "text": [
            "Processed prompts:  80%|███████▉  | 1595/2000 [03:38<00:56,  7.11it/s, est. speed input: 6198.74 toks/s, output: 1027.51 toks/s]"
          ]
        },
        {
          "name": "stdout",
          "output_type": "stream",
          "text": [
            "WARNING 07-20 17:12:07 scheduler.py:698] Input prompt (11150 tokens) is too long and exceeds limit of 8192\n"
          ]
        },
        {
          "name": "stderr",
          "output_type": "stream",
          "text": [
            "Processed prompts:  90%|████████▉ | 1798/2000 [04:05<00:47,  4.23it/s, est. speed input: 6190.16 toks/s, output: 1038.72 toks/s]"
          ]
        },
        {
          "name": "stdout",
          "output_type": "stream",
          "text": [
            "WARNING 07-20 17:12:34 scheduler.py:698] Input prompt (16523 tokens) is too long and exceeds limit of 8192\n"
          ]
        },
        {
          "name": "stderr",
          "output_type": "stream",
          "text": [
            "Processed prompts: 100%|██████████| 2000/2000 [04:56<00:00,  6.75it/s, est. speed input: 5819.98 toks/s, output: 972.82 toks/s]\n"
          ]
        },
        {
          "name": "stdout",
          "output_type": "stream",
          "text": [
            "- Saving texts...\n",
            "- Saved 2000 texts\n",
            "- Processing chunk subset 60000, chunk 6000 to 8000...\n",
            "- Generating summaries...\n"
          ]
        },
        {
          "name": "stderr",
          "output_type": "stream",
          "text": [
            "\rProcessed prompts:   0%|          | 0/2000 [00:00<?, ?it/s, est. speed input: 0.00 toks/s, output: 0.00 toks/s]"
          ]
        },
        {
          "name": "stdout",
          "output_type": "stream",
          "text": [
            "WARNING 07-20 17:13:33 scheduler.py:698] Input prompt (14235 tokens) is too long and exceeds limit of 8192\n"
          ]
        },
        {
          "name": "stderr",
          "output_type": "stream",
          "text": [
            "Processed prompts:  16%|█▌        | 323/2000 [00:49<03:35,  7.78it/s, est. speed input: 4407.81 toks/s, output: 879.04 toks/s]"
          ]
        },
        {
          "name": "stdout",
          "output_type": "stream",
          "text": [
            "WARNING 07-20 17:14:22 scheduler.py:698] Input prompt (12492 tokens) is too long and exceeds limit of 8192\n"
          ]
        },
        {
          "name": "stderr",
          "output_type": "stream",
          "text": [
            "Processed prompts:  25%|██▍       | 496/2000 [01:12<02:41,  9.32it/s, est. speed input: 5013.29 toks/s, output: 938.32 toks/s]"
          ]
        },
        {
          "name": "stdout",
          "output_type": "stream",
          "text": [
            "WARNING 07-20 17:14:45 scheduler.py:698] Input prompt (8481 tokens) is too long and exceeds limit of 8192\n"
          ]
        },
        {
          "name": "stderr",
          "output_type": "stream",
          "text": [
            "Processed prompts:  51%|█████     | 1024/2000 [02:23<01:46,  9.12it/s, est. speed input: 5244.80 toks/s, output: 1001.08 toks/s]"
          ]
        },
        {
          "name": "stdout",
          "output_type": "stream",
          "text": [
            "WARNING 07-20 17:15:56 scheduler.py:698] Input prompt (11020 tokens) is too long and exceeds limit of 8192\n"
          ]
        },
        {
          "name": "stderr",
          "output_type": "stream",
          "text": [
            "Processed prompts:  69%|██████▊   | 1373/2000 [03:10<01:52,  5.57it/s, est. speed input: 5411.00 toks/s, output: 1024.40 toks/s]"
          ]
        },
        {
          "name": "stdout",
          "output_type": "stream",
          "text": [
            "WARNING 07-20 17:16:42 scheduler.py:698] Input prompt (15830 tokens) is too long and exceeds limit of 8192\n"
          ]
        },
        {
          "name": "stderr",
          "output_type": "stream",
          "text": [
            "Processed prompts:  72%|███████▏  | 1443/2000 [03:21<01:28,  6.28it/s, est. speed input: 5509.42 toks/s, output: 1022.89 toks/s]"
          ]
        },
        {
          "name": "stdout",
          "output_type": "stream",
          "text": [
            "WARNING 07-20 17:16:53 scheduler.py:698] Input prompt (18500 tokens) is too long and exceeds limit of 8192\n"
          ]
        },
        {
          "name": "stderr",
          "output_type": "stream",
          "text": [
            "Processed prompts:  79%|███████▊  | 1573/2000 [03:36<00:47,  9.04it/s, est. speed input: 5580.57 toks/s, output: 1031.39 toks/s]"
          ]
        },
        {
          "name": "stdout",
          "output_type": "stream",
          "text": [
            "WARNING 07-20 17:17:09 scheduler.py:698] Input prompt (8570 tokens) is too long and exceeds limit of 8192\n"
          ]
        },
        {
          "name": "stderr",
          "output_type": "stream",
          "text": [
            "Processed prompts:  79%|███████▉  | 1586/2000 [03:38<00:33, 12.37it/s, est. speed input: 5606.01 toks/s, output: 1029.42 toks/s]"
          ]
        },
        {
          "name": "stdout",
          "output_type": "stream",
          "text": [
            "WARNING 07-20 17:17:11 scheduler.py:698] Input prompt (31582 tokens) is too long and exceeds limit of 8192\n"
          ]
        },
        {
          "name": "stderr",
          "output_type": "stream",
          "text": [
            "Processed prompts:  88%|████████▊ | 1751/2000 [03:58<00:23, 10.42it/s, est. speed input: 5739.81 toks/s, output: 1042.94 toks/s]"
          ]
        },
        {
          "name": "stdout",
          "output_type": "stream",
          "text": [
            "WARNING 07-20 17:17:31 scheduler.py:698] Input prompt (9121 tokens) is too long and exceeds limit of 8192\n"
          ]
        },
        {
          "name": "stderr",
          "output_type": "stream",
          "text": [
            "Processed prompts:  88%|████████▊ | 1758/2000 [03:59<00:36,  6.57it/s, est. speed input: 5786.37 toks/s, output: 1041.89 toks/s]"
          ]
        },
        {
          "name": "stdout",
          "output_type": "stream",
          "text": [
            "WARNING 07-20 17:17:32 scheduler.py:698] Input prompt (9213 tokens) is too long and exceeds limit of 8192\n"
          ]
        },
        {
          "name": "stderr",
          "output_type": "stream",
          "text": [
            "Processed prompts: 100%|██████████| 2000/2000 [04:25<00:00,  7.54it/s, est. speed input: 6015.14 toks/s, output: 1081.78 toks/s]\n"
          ]
        },
        {
          "name": "stdout",
          "output_type": "stream",
          "text": [
            "- Saving texts...\n",
            "- Saved 2000 texts\n",
            "- Processing chunk subset 60000, chunk 8000 to 10000...\n",
            "- Generating summaries...\n"
          ]
        },
        {
          "name": "stderr",
          "output_type": "stream",
          "text": [
            "Processed prompts:   6%|▌         | 122/2000 [00:25<06:30,  4.81it/s, est. speed input: 3163.20 toks/s, output: 597.17 toks/s]"
          ]
        },
        {
          "name": "stdout",
          "output_type": "stream",
          "text": [
            "WARNING 07-20 17:18:30 scheduler.py:698] Input prompt (10412 tokens) is too long and exceeds limit of 8192\n"
          ]
        },
        {
          "name": "stderr",
          "output_type": "stream",
          "text": [
            "Processed prompts:  19%|█▉        | 379/2000 [00:59<04:23,  6.15it/s, est. speed input: 4480.22 toks/s, output: 884.36 toks/s]"
          ]
        },
        {
          "name": "stdout",
          "output_type": "stream",
          "text": [
            "WARNING 07-20 17:19:04 scheduler.py:698] Input prompt (8372 tokens) is too long and exceeds limit of 8192\n"
          ]
        },
        {
          "name": "stderr",
          "output_type": "stream",
          "text": [
            "Processed prompts:  54%|█████▍    | 1087/2000 [02:39<02:49,  5.40it/s, est. speed input: 5094.98 toks/s, output: 986.81 toks/s]"
          ]
        },
        {
          "name": "stdout",
          "output_type": "stream",
          "text": [
            "WARNING 07-20 17:20:44 scheduler.py:698] Input prompt (11868 tokens) is too long and exceeds limit of 8192\n"
          ]
        },
        {
          "name": "stderr",
          "output_type": "stream",
          "text": [
            "Processed prompts:  56%|█████▌    | 1118/2000 [02:42<01:59,  7.38it/s, est. speed input: 5173.29 toks/s, output: 991.85 toks/s]"
          ]
        },
        {
          "name": "stdout",
          "output_type": "stream",
          "text": [
            "WARNING 07-20 17:20:47 scheduler.py:698] Input prompt (11404 tokens) is too long and exceeds limit of 8192\n"
          ]
        },
        {
          "name": "stderr",
          "output_type": "stream",
          "text": [
            "Processed prompts:  67%|██████▋   | 1333/2000 [03:09<01:11,  9.38it/s, est. speed input: 5268.28 toks/s, output: 1018.83 toks/s]"
          ]
        },
        {
          "name": "stdout",
          "output_type": "stream",
          "text": [
            "WARNING 07-20 17:21:14 scheduler.py:698] Input prompt (23859 tokens) is too long and exceeds limit of 8192\n"
          ]
        },
        {
          "name": "stderr",
          "output_type": "stream",
          "text": [
            "Processed prompts:  68%|██████▊   | 1369/2000 [03:15<01:34,  6.70it/s, est. speed input: 5399.52 toks/s, output: 1012.54 toks/s]"
          ]
        },
        {
          "name": "stdout",
          "output_type": "stream",
          "text": [
            "WARNING 07-20 17:21:20 scheduler.py:698] Input prompt (8216 tokens) is too long and exceeds limit of 8192\n"
          ]
        },
        {
          "name": "stderr",
          "output_type": "stream",
          "text": [
            "Processed prompts:  70%|███████   | 1409/2000 [03:20<01:28,  6.65it/s, est. speed input: 5420.16 toks/s, output: 1012.41 toks/s]"
          ]
        },
        {
          "name": "stdout",
          "output_type": "stream",
          "text": [
            "WARNING 07-20 17:21:24 scheduler.py:698] Input prompt (16434 tokens) is too long and exceeds limit of 8192\n"
          ]
        },
        {
          "name": "stderr",
          "output_type": "stream",
          "text": [
            "Processed prompts:  74%|███████▍  | 1487/2000 [03:30<01:27,  5.89it/s, est. speed input: 5485.90 toks/s, output: 1015.27 toks/s]"
          ]
        },
        {
          "name": "stdout",
          "output_type": "stream",
          "text": [
            "WARNING 07-20 17:21:35 scheduler.py:698] Input prompt (12144 tokens) is too long and exceeds limit of 8192\n"
          ]
        },
        {
          "name": "stderr",
          "output_type": "stream",
          "text": [
            "Processed prompts:  78%|███████▊  | 1551/2000 [03:39<00:44, 10.01it/s, est. speed input: 5537.09 toks/s, output: 1017.35 toks/s]"
          ]
        },
        {
          "name": "stdout",
          "output_type": "stream",
          "text": [
            "WARNING 07-20 17:21:44 scheduler.py:698] Input prompt (9195 tokens) is too long and exceeds limit of 8192\n"
          ]
        },
        {
          "name": "stderr",
          "output_type": "stream",
          "text": [
            "Processed prompts:  80%|████████  | 1605/2000 [03:46<01:06,  5.93it/s, est. speed input: 5559.09 toks/s, output: 1019.28 toks/s]"
          ]
        },
        {
          "name": "stdout",
          "output_type": "stream",
          "text": [
            "WARNING 07-20 17:21:51 scheduler.py:698] Input prompt (9233 tokens) is too long and exceeds limit of 8192\n"
          ]
        },
        {
          "name": "stderr",
          "output_type": "stream",
          "text": [
            "Processed prompts: 100%|██████████| 2000/2000 [04:31<00:00,  7.36it/s, est. speed input: 5846.68 toks/s, output: 1073.17 toks/s]\n"
          ]
        },
        {
          "name": "stdout",
          "output_type": "stream",
          "text": [
            "- Saving texts...\n",
            "- Saved 2000 texts\n",
            "- Processing chunk 70000 to 80000...\n",
            "- Processing chunk subset 70000, chunk 0 to 2000...\n",
            "- Generating summaries...\n"
          ]
        },
        {
          "name": "stderr",
          "output_type": "stream",
          "text": [
            "\rProcessed prompts:   0%|          | 0/2000 [00:00<?, ?it/s, est. speed input: 0.00 toks/s, output: 0.00 toks/s]"
          ]
        },
        {
          "name": "stdout",
          "output_type": "stream",
          "text": [
            "WARNING 07-20 17:22:49 scheduler.py:698] Input prompt (18166 tokens) is too long and exceeds limit of 8192\n"
          ]
        },
        {
          "name": "stderr",
          "output_type": "stream",
          "text": [
            "Processed prompts:   6%|▌         | 124/2000 [00:27<05:01,  6.23it/s, est. speed input: 4024.80 toks/s, output: 583.84 toks/s]"
          ]
        },
        {
          "name": "stdout",
          "output_type": "stream",
          "text": [
            "WARNING 07-20 17:23:11 scheduler.py:698] Input prompt (11974 tokens) is too long and exceeds limit of 8192\n"
          ]
        },
        {
          "name": "stderr",
          "output_type": "stream",
          "text": [
            "Processed prompts:   8%|▊         | 161/2000 [00:32<03:18,  9.28it/s, est. speed input: 4550.05 toks/s, output: 642.63 toks/s]"
          ]
        },
        {
          "name": "stdout",
          "output_type": "stream",
          "text": [
            "WARNING 07-20 17:23:16 scheduler.py:698] Input prompt (16590 tokens) is too long and exceeds limit of 8192\n"
          ]
        },
        {
          "name": "stderr",
          "output_type": "stream",
          "text": [
            "Processed prompts:  10%|▉         | 198/2000 [00:36<03:02,  9.88it/s, est. speed input: 5010.79 toks/s, output: 696.02 toks/s]"
          ]
        },
        {
          "name": "stdout",
          "output_type": "stream",
          "text": [
            "WARNING 07-20 17:23:20 scheduler.py:698] Input prompt (16869 tokens) is too long and exceeds limit of 8192\n"
          ]
        },
        {
          "name": "stderr",
          "output_type": "stream",
          "text": [
            "Processed prompts:  20%|██        | 400/2000 [01:00<05:02,  5.29it/s, est. speed input: 5450.74 toks/s, output: 894.58 toks/s]"
          ]
        },
        {
          "name": "stdout",
          "output_type": "stream",
          "text": [
            "WARNING 07-20 17:23:44 scheduler.py:698] Input prompt (16096 tokens) is too long and exceeds limit of 8192\n"
          ]
        },
        {
          "name": "stderr",
          "output_type": "stream",
          "text": [
            "Processed prompts:  25%|██▍       | 499/2000 [01:14<02:20, 10.72it/s, est. speed input: 5733.53 toks/s, output: 911.70 toks/s]"
          ]
        },
        {
          "name": "stdout",
          "output_type": "stream",
          "text": [
            "WARNING 07-20 17:23:58 scheduler.py:698] Input prompt (15393 tokens) is too long and exceeds limit of 8192\n"
          ]
        },
        {
          "name": "stderr",
          "output_type": "stream",
          "text": [
            "Processed prompts:  26%|██▌       | 513/2000 [01:16<02:38,  9.38it/s, est. speed input: 5971.84 toks/s, output: 919.25 toks/s]"
          ]
        },
        {
          "name": "stdout",
          "output_type": "stream",
          "text": [
            "WARNING 07-20 17:24:00 scheduler.py:698] Input prompt (8454 tokens) is too long and exceeds limit of 8192\n"
          ]
        },
        {
          "name": "stderr",
          "output_type": "stream",
          "text": [
            "Processed prompts:  30%|███       | 604/2000 [01:29<02:56,  7.89it/s, est. speed input: 6007.98 toks/s, output: 935.72 toks/s]"
          ]
        },
        {
          "name": "stdout",
          "output_type": "stream",
          "text": [
            "WARNING 07-20 17:24:13 scheduler.py:698] Input prompt (9127 tokens) is too long and exceeds limit of 8192\n"
          ]
        },
        {
          "name": "stderr",
          "output_type": "stream",
          "text": [
            "Processed prompts:  34%|███▎      | 670/2000 [01:38<04:16,  5.18it/s, est. speed input: 6082.13 toks/s, output: 951.00 toks/s]"
          ]
        },
        {
          "name": "stdout",
          "output_type": "stream",
          "text": [
            "WARNING 07-20 17:24:22 scheduler.py:698] Input prompt (13231 tokens) is too long and exceeds limit of 8192\n"
          ]
        },
        {
          "name": "stderr",
          "output_type": "stream",
          "text": [
            "Processed prompts:  35%|███▌      | 709/2000 [01:43<02:48,  7.64it/s, est. speed input: 6089.49 toks/s, output: 953.75 toks/s]"
          ]
        },
        {
          "name": "stdout",
          "output_type": "stream",
          "text": [
            "WARNING 07-20 17:24:27 scheduler.py:698] Input prompt (11274 tokens) is too long and exceeds limit of 8192\n"
          ]
        },
        {
          "name": "stderr",
          "output_type": "stream",
          "text": [
            "Processed prompts:  36%|███▌      | 721/2000 [01:45<02:34,  8.27it/s, est. speed input: 6175.01 toks/s, output: 955.49 toks/s]"
          ]
        },
        {
          "name": "stdout",
          "output_type": "stream",
          "text": [
            "WARNING 07-20 17:24:28 scheduler.py:698] Input prompt (11424 tokens) is too long and exceeds limit of 8192\n"
          ]
        },
        {
          "name": "stderr",
          "output_type": "stream",
          "text": [
            "Processed prompts:  48%|████▊     | 956/2000 [02:17<01:54,  9.10it/s, est. speed input: 6115.35 toks/s, output: 981.50 toks/s]"
          ]
        },
        {
          "name": "stdout",
          "output_type": "stream",
          "text": [
            "WARNING 07-20 17:25:00 scheduler.py:698] Input prompt (11837 tokens) is too long and exceeds limit of 8192\n"
          ]
        },
        {
          "name": "stderr",
          "output_type": "stream",
          "text": [
            "Processed prompts:  52%|█████▏    | 1036/2000 [02:26<01:56,  8.25it/s, est. speed input: 6170.62 toks/s, output: 996.28 toks/s]"
          ]
        },
        {
          "name": "stdout",
          "output_type": "stream",
          "text": [
            "WARNING 07-20 17:25:10 scheduler.py:698] Input prompt (37871 tokens) is too long and exceeds limit of 8192\n"
          ]
        },
        {
          "name": "stderr",
          "output_type": "stream",
          "text": [
            "Processed prompts:  69%|██████▉   | 1378/2000 [03:13<01:35,  6.53it/s, est. speed input: 6215.56 toks/s, output: 1009.74 toks/s]"
          ]
        },
        {
          "name": "stdout",
          "output_type": "stream",
          "text": [
            "WARNING 07-20 17:25:57 scheduler.py:698] Input prompt (12550 tokens) is too long and exceeds limit of 8192\n"
          ]
        },
        {
          "name": "stderr",
          "output_type": "stream",
          "text": [
            "Processed prompts:  82%|████████▏ | 1643/2000 [03:50<01:04,  5.51it/s, est. speed input: 6148.91 toks/s, output: 1020.19 toks/s]"
          ]
        },
        {
          "name": "stdout",
          "output_type": "stream",
          "text": [
            "WARNING 07-20 17:26:34 scheduler.py:698] Input prompt (11198 tokens) is too long and exceeds limit of 8192\n"
          ]
        },
        {
          "name": "stderr",
          "output_type": "stream",
          "text": [
            "Processed prompts: 100%|██████████| 2000/2000 [04:51<00:00,  6.87it/s, est. speed input: 5987.60 toks/s, output: 1010.52 toks/s]\n"
          ]
        },
        {
          "name": "stdout",
          "output_type": "stream",
          "text": [
            "- Saving texts...\n",
            "- Saved 2000 texts\n",
            "- Processing chunk subset 70000, chunk 2000 to 4000...\n",
            "- Generating summaries...\n"
          ]
        },
        {
          "name": "stderr",
          "output_type": "stream",
          "text": [
            "\rProcessed prompts:   0%|          | 0/2000 [00:00<?, ?it/s, est. speed input: 0.00 toks/s, output: 0.00 toks/s]"
          ]
        },
        {
          "name": "stdout",
          "output_type": "stream",
          "text": [
            "WARNING 07-20 17:27:43 scheduler.py:698] Input prompt (9139 tokens) is too long and exceeds limit of 8192\n"
          ]
        },
        {
          "name": "stderr",
          "output_type": "stream",
          "text": [
            "\rProcessed prompts:   0%|          | 1/2000 [00:01<44:27,  1.33s/it, est. speed input: 6850.08 toks/s, output: 0.00 toks/s]"
          ]
        },
        {
          "name": "stdout",
          "output_type": "stream",
          "text": [
            "WARNING 07-20 17:27:46 scheduler.py:698] Input prompt (8298 tokens) is too long and exceeds limit of 8192\n"
          ]
        },
        {
          "name": "stderr",
          "output_type": "stream",
          "text": [
            "Processed prompts:   0%|          | 5/2000 [00:10<57:53,  1.74s/it, est. speed input: 1811.77 toks/s, output: 11.87 toks/s] "
          ]
        },
        {
          "name": "stdout",
          "output_type": "stream",
          "text": [
            "WARNING 07-20 17:27:53 scheduler.py:1124] Sequence group 72146 is preempted by PreemptionMode.RECOMPUTE mode because there is not enough KV cache space. This can affect the end-to-end performance. Increase gpu_memory_utilization or tensor_parallel_size to provide more KV cache memory. total_num_cumulative_preemption=301\n"
          ]
        },
        {
          "name": "stderr",
          "output_type": "stream",
          "text": [
            "Processed prompts:   2%|▏         | 31/2000 [00:14<07:04,  4.64it/s, est. speed input: 2064.16 toks/s, output: 141.71 toks/s]"
          ]
        },
        {
          "name": "stdout",
          "output_type": "stream",
          "text": [
            "WARNING 07-20 17:27:57 scheduler.py:698] Input prompt (9054 tokens) is too long and exceeds limit of 8192\n"
          ]
        },
        {
          "name": "stderr",
          "output_type": "stream",
          "text": [
            "Processed prompts:  31%|███       | 617/2000 [01:34<03:23,  6.78it/s, est. speed input: 5156.68 toks/s, output: 919.52 toks/s]"
          ]
        },
        {
          "name": "stdout",
          "output_type": "stream",
          "text": [
            "WARNING 07-20 17:29:16 scheduler.py:698] Input prompt (9154 tokens) is too long and exceeds limit of 8192\n"
          ]
        },
        {
          "name": "stderr",
          "output_type": "stream",
          "text": [
            "Processed prompts:  37%|███▋      | 739/2000 [01:49<01:44, 12.03it/s, est. speed input: 5384.97 toks/s, output: 943.43 toks/s]"
          ]
        },
        {
          "name": "stdout",
          "output_type": "stream",
          "text": [
            "WARNING 07-20 17:29:32 scheduler.py:698] Input prompt (17809 tokens) is too long and exceeds limit of 8192\n"
          ]
        },
        {
          "name": "stderr",
          "output_type": "stream",
          "text": [
            "Processed prompts:  38%|███▊      | 761/2000 [01:52<02:46,  7.45it/s, est. speed input: 5547.61 toks/s, output: 947.31 toks/s]"
          ]
        },
        {
          "name": "stdout",
          "output_type": "stream",
          "text": [
            "WARNING 07-20 17:29:34 scheduler.py:698] Input prompt (13791 tokens) is too long and exceeds limit of 8192\n"
          ]
        },
        {
          "name": "stderr",
          "output_type": "stream",
          "text": [
            "Processed prompts:  45%|████▍     | 895/2000 [02:12<03:20,  5.51it/s, est. speed input: 5679.04 toks/s, output: 951.88 toks/s]"
          ]
        },
        {
          "name": "stdout",
          "output_type": "stream",
          "text": [
            "WARNING 07-20 17:29:55 scheduler.py:698] Input prompt (22126 tokens) is too long and exceeds limit of 8192\n"
          ]
        },
        {
          "name": "stderr",
          "output_type": "stream",
          "text": [
            "Processed prompts:  47%|████▋     | 948/2000 [02:20<02:37,  6.66it/s, est. speed input: 5811.20 toks/s, output: 957.02 toks/s]"
          ]
        },
        {
          "name": "stdout",
          "output_type": "stream",
          "text": [
            "WARNING 07-20 17:30:02 scheduler.py:698] Input prompt (10194 tokens) is too long and exceeds limit of 8192\n"
          ]
        },
        {
          "name": "stderr",
          "output_type": "stream",
          "text": [
            "Processed prompts:  50%|█████     | 1003/2000 [02:27<02:13,  7.50it/s, est. speed input: 5874.45 toks/s, output: 964.18 toks/s]"
          ]
        },
        {
          "name": "stdout",
          "output_type": "stream",
          "text": [
            "WARNING 07-20 17:30:09 scheduler.py:698] Input prompt (11330 tokens) is too long and exceeds limit of 8192\n"
          ]
        },
        {
          "name": "stderr",
          "output_type": "stream",
          "text": [
            "Processed prompts:  52%|█████▏    | 1034/2000 [02:30<01:39,  9.71it/s, est. speed input: 5948.52 toks/s, output: 972.29 toks/s]"
          ]
        },
        {
          "name": "stdout",
          "output_type": "stream",
          "text": [
            "WARNING 07-20 17:30:12 scheduler.py:698] Input prompt (9126 tokens) is too long and exceeds limit of 8192\n"
          ]
        },
        {
          "name": "stderr",
          "output_type": "stream",
          "text": [
            "Processed prompts:  53%|█████▎    | 1068/2000 [02:34<02:26,  6.37it/s, est. speed input: 5966.62 toks/s, output: 976.85 toks/s]"
          ]
        },
        {
          "name": "stdout",
          "output_type": "stream",
          "text": [
            "WARNING 07-20 17:30:17 scheduler.py:698] Input prompt (13173 tokens) is too long and exceeds limit of 8192\n"
          ]
        },
        {
          "name": "stderr",
          "output_type": "stream",
          "text": [
            "Processed prompts:  60%|██████    | 1208/2000 [02:56<02:05,  6.31it/s, est. speed input: 6095.49 toks/s, output: 970.90 toks/s]"
          ]
        },
        {
          "name": "stdout",
          "output_type": "stream",
          "text": [
            "WARNING 07-20 17:30:39 scheduler.py:698] Input prompt (9655 tokens) is too long and exceeds limit of 8192\n"
          ]
        },
        {
          "name": "stderr",
          "output_type": "stream",
          "text": [
            "Processed prompts:  73%|███████▎  | 1455/2000 [03:26<01:40,  5.40it/s, est. speed input: 6035.42 toks/s, output: 1003.96 toks/s]"
          ]
        },
        {
          "name": "stdout",
          "output_type": "stream",
          "text": [
            "WARNING 07-20 17:31:08 scheduler.py:698] Input prompt (10089 tokens) is too long and exceeds limit of 8192\n"
          ]
        },
        {
          "name": "stderr",
          "output_type": "stream",
          "text": [
            "Processed prompts:  81%|████████  | 1616/2000 [03:47<00:43,  8.87it/s, est. speed input: 6121.16 toks/s, output: 1008.78 toks/s]"
          ]
        },
        {
          "name": "stdout",
          "output_type": "stream",
          "text": [
            "WARNING 07-20 17:31:30 scheduler.py:698] Input prompt (9193 tokens) is too long and exceeds limit of 8192\n"
          ]
        },
        {
          "name": "stderr",
          "output_type": "stream",
          "text": [
            "Processed prompts: 100%|██████████| 2000/2000 [04:28<00:00,  7.45it/s, est. speed input: 6304.71 toks/s, output: 1063.17 toks/s]\n"
          ]
        },
        {
          "name": "stdout",
          "output_type": "stream",
          "text": [
            "- Saving texts...\n",
            "- Saved 2000 texts\n",
            "- Processing chunk subset 70000, chunk 4000 to 6000...\n",
            "- Generating summaries...\n"
          ]
        },
        {
          "name": "stderr",
          "output_type": "stream",
          "text": [
            "\rProcessed prompts:   0%|          | 0/2000 [00:00<?, ?it/s, est. speed input: 0.00 toks/s, output: 0.00 toks/s]"
          ]
        },
        {
          "name": "stdout",
          "output_type": "stream",
          "text": [
            "WARNING 07-20 17:32:25 scheduler.py:698] Input prompt (8661 tokens) is too long and exceeds limit of 8192\n"
          ]
        },
        {
          "name": "stderr",
          "output_type": "stream",
          "text": [
            "Processed prompts:  10%|▉         | 195/2000 [00:36<03:18,  9.11it/s, est. speed input: 3982.57 toks/s, output: 719.76 toks/s]"
          ]
        },
        {
          "name": "stdout",
          "output_type": "stream",
          "text": [
            "WARNING 07-20 17:32:54 scheduler.py:698] Input prompt (18598 tokens) is too long and exceeds limit of 8192\n"
          ]
        },
        {
          "name": "stderr",
          "output_type": "stream",
          "text": [
            "Processed prompts:  15%|█▌        | 309/2000 [00:49<03:22,  8.34it/s, est. speed input: 4594.19 toks/s, output: 862.29 toks/s]"
          ]
        },
        {
          "name": "stdout",
          "output_type": "stream",
          "text": [
            "WARNING 07-20 17:33:07 scheduler.py:698] Input prompt (9526 tokens) is too long and exceeds limit of 8192\n"
          ]
        },
        {
          "name": "stderr",
          "output_type": "stream",
          "text": [
            "Processed prompts:  27%|██▋       | 539/2000 [01:20<03:13,  7.55it/s, est. speed input: 5059.72 toks/s, output: 941.23 toks/s]"
          ]
        },
        {
          "name": "stdout",
          "output_type": "stream",
          "text": [
            "WARNING 07-20 17:33:38 scheduler.py:698] Input prompt (8950 tokens) is too long and exceeds limit of 8192\n"
          ]
        },
        {
          "name": "stderr",
          "output_type": "stream",
          "text": [
            "Processed prompts:  29%|██▉       | 586/2000 [01:25<02:22,  9.95it/s, est. speed input: 5265.57 toks/s, output: 960.75 toks/s]"
          ]
        },
        {
          "name": "stdout",
          "output_type": "stream",
          "text": [
            "WARNING 07-20 17:33:44 scheduler.py:698] Input prompt (14910 tokens) is too long and exceeds limit of 8192\n"
          ]
        },
        {
          "name": "stderr",
          "output_type": "stream",
          "text": [
            "Processed prompts:  33%|███▎      | 669/2000 [01:37<03:05,  7.19it/s, est. speed input: 5419.56 toks/s, output: 972.02 toks/s]"
          ]
        },
        {
          "name": "stdout",
          "output_type": "stream",
          "text": [
            "WARNING 07-20 17:33:55 scheduler.py:698] Input prompt (13341 tokens) is too long and exceeds limit of 8192\n"
          ]
        },
        {
          "name": "stderr",
          "output_type": "stream",
          "text": [
            "Processed prompts:  52%|█████▏    | 1046/2000 [02:29<02:33,  6.24it/s, est. speed input: 5517.37 toks/s, output: 1013.22 toks/s]"
          ]
        },
        {
          "name": "stdout",
          "output_type": "stream",
          "text": [
            "WARNING 07-20 17:34:46 scheduler.py:698] Input prompt (16813 tokens) is too long and exceeds limit of 8192\n"
          ]
        },
        {
          "name": "stderr",
          "output_type": "stream",
          "text": [
            "Processed prompts:  63%|██████▎   | 1261/2000 [02:59<01:25,  8.62it/s, est. speed input: 5635.74 toks/s, output: 1018.60 toks/s]"
          ]
        },
        {
          "name": "stdout",
          "output_type": "stream",
          "text": [
            "WARNING 07-20 17:35:17 scheduler.py:698] Input prompt (25628 tokens) is too long and exceeds limit of 8192\n"
          ]
        },
        {
          "name": "stderr",
          "output_type": "stream",
          "text": [
            "Processed prompts:  71%|███████   | 1413/2000 [03:21<01:54,  5.11it/s, est. speed input: 5724.65 toks/s, output: 1020.36 toks/s]"
          ]
        },
        {
          "name": "stdout",
          "output_type": "stream",
          "text": [
            "WARNING 07-20 17:35:39 scheduler.py:698] Input prompt (18407 tokens) is too long and exceeds limit of 8192\n"
          ]
        },
        {
          "name": "stderr",
          "output_type": "stream",
          "text": [
            "Processed prompts:  77%|███████▋  | 1548/2000 [03:41<01:13,  6.17it/s, est. speed input: 5787.74 toks/s, output: 1023.78 toks/s]"
          ]
        },
        {
          "name": "stdout",
          "output_type": "stream",
          "text": [
            "WARNING 07-20 17:35:59 scheduler.py:698] Input prompt (14140 tokens) is too long and exceeds limit of 8192\n"
          ]
        },
        {
          "name": "stderr",
          "output_type": "stream",
          "text": [
            "Processed prompts:  92%|█████████▏| 1834/2000 [04:24<00:20,  8.02it/s, est. speed input: 5786.42 toks/s, output: 1021.32 toks/s]"
          ]
        },
        {
          "name": "stdout",
          "output_type": "stream",
          "text": [
            "WARNING 07-20 17:36:42 scheduler.py:698] Input prompt (13207 tokens) is too long and exceeds limit of 8192\n"
          ]
        },
        {
          "name": "stderr",
          "output_type": "stream",
          "text": [
            "Processed prompts: 100%|██████████| 2000/2000 [04:45<00:00,  7.01it/s, est. speed input: 5869.60 toks/s, output: 1039.00 toks/s]\n"
          ]
        },
        {
          "name": "stdout",
          "output_type": "stream",
          "text": [
            "- Saving texts...\n",
            "- Saved 2000 texts\n",
            "- Processing chunk subset 70000, chunk 6000 to 8000...\n",
            "- Generating summaries...\n"
          ]
        },
        {
          "name": "stderr",
          "output_type": "stream",
          "text": [
            "Processed prompts:   2%|▏         | 38/2000 [00:14<02:43, 12.00it/s, est. speed input: 602.35 toks/s, output: 201.88 toks/s]"
          ]
        },
        {
          "name": "stdout",
          "output_type": "stream",
          "text": [
            "WARNING 07-20 17:37:24 scheduler.py:698] Input prompt (8201 tokens) is too long and exceeds limit of 8192\n"
          ]
        },
        {
          "name": "stderr",
          "output_type": "stream",
          "text": [
            "Processed prompts:  22%|██▏       | 437/2000 [01:07<03:50,  6.77it/s, est. speed input: 4600.18 toks/s, output: 909.63 toks/s]"
          ]
        },
        {
          "name": "stdout",
          "output_type": "stream",
          "text": [
            "WARNING 07-20 17:38:18 scheduler.py:698] Input prompt (13083 tokens) is too long and exceeds limit of 8192\n"
          ]
        },
        {
          "name": "stderr",
          "output_type": "stream",
          "text": [
            "Processed prompts:  25%|██▍       | 498/2000 [01:16<04:21,  5.75it/s, est. speed input: 4908.89 toks/s, output: 926.28 toks/s]"
          ]
        },
        {
          "name": "stdout",
          "output_type": "stream",
          "text": [
            "WARNING 07-20 17:38:26 scheduler.py:698] Input prompt (13180 tokens) is too long and exceeds limit of 8192\n"
          ]
        },
        {
          "name": "stderr",
          "output_type": "stream",
          "text": [
            "Processed prompts:  26%|██▋       | 525/2000 [01:19<02:24, 10.18it/s, est. speed input: 5103.29 toks/s, output: 935.76 toks/s]"
          ]
        },
        {
          "name": "stdout",
          "output_type": "stream",
          "text": [
            "WARNING 07-20 17:38:29 scheduler.py:698] Input prompt (10813 tokens) is too long and exceeds limit of 8192\n"
          ]
        },
        {
          "name": "stderr",
          "output_type": "stream",
          "text": [
            "Processed prompts:  44%|████▍     | 876/2000 [02:06<02:18,  8.13it/s, est. speed input: 5392.64 toks/s, output: 992.53 toks/s]"
          ]
        },
        {
          "name": "stdout",
          "output_type": "stream",
          "text": [
            "WARNING 07-20 17:39:16 scheduler.py:698] Input prompt (13886 tokens) is too long and exceeds limit of 8192\n"
          ]
        },
        {
          "name": "stderr",
          "output_type": "stream",
          "text": [
            "Processed prompts:  54%|█████▍    | 1083/2000 [02:35<02:05,  7.28it/s, est. speed input: 5598.42 toks/s, output: 989.98 toks/s]"
          ]
        },
        {
          "name": "stdout",
          "output_type": "stream",
          "text": [
            "WARNING 07-20 17:39:45 scheduler.py:698] Input prompt (11479 tokens) is too long and exceeds limit of 8192\n"
          ]
        },
        {
          "name": "stderr",
          "output_type": "stream",
          "text": [
            "Processed prompts:  57%|█████▋    | 1141/2000 [02:43<01:56,  7.37it/s, est. speed input: 5603.74 toks/s, output: 989.69 toks/s]"
          ]
        },
        {
          "name": "stdout",
          "output_type": "stream",
          "text": [
            "WARNING 07-20 17:39:53 scheduler.py:698] Input prompt (20052 tokens) is too long and exceeds limit of 8192\n"
          ]
        },
        {
          "name": "stderr",
          "output_type": "stream",
          "text": [
            "Processed prompts:  66%|██████▌   | 1324/2000 [03:05<02:13,  5.07it/s, est. speed input: 5675.47 toks/s, output: 1008.05 toks/s]"
          ]
        },
        {
          "name": "stdout",
          "output_type": "stream",
          "text": [
            "WARNING 07-20 17:40:15 scheduler.py:698] Input prompt (20398 tokens) is too long and exceeds limit of 8192\n"
          ]
        },
        {
          "name": "stderr",
          "output_type": "stream",
          "text": [
            "Processed prompts:  75%|███████▌  | 1506/2000 [03:29<01:47,  4.59it/s, est. speed input: 5755.80 toks/s, output: 1019.71 toks/s]"
          ]
        },
        {
          "name": "stdout",
          "output_type": "stream",
          "text": [
            "WARNING 07-20 17:40:40 scheduler.py:698] Input prompt (14458 tokens) is too long and exceeds limit of 8192\n"
          ]
        },
        {
          "name": "stderr",
          "output_type": "stream",
          "text": [
            "Processed prompts:  77%|███████▋  | 1534/2000 [03:34<01:18,  5.92it/s, est. speed input: 5816.07 toks/s, output: 1017.94 toks/s]"
          ]
        },
        {
          "name": "stdout",
          "output_type": "stream",
          "text": [
            "WARNING 07-20 17:40:44 scheduler.py:698] Input prompt (16596 tokens) is too long and exceeds limit of 8192\n"
          ]
        },
        {
          "name": "stderr",
          "output_type": "stream",
          "text": [
            "Processed prompts:  95%|█████████▍| 1893/2000 [04:22<00:14,  7.58it/s, est. speed input: 5855.99 toks/s, output: 1037.77 toks/s]"
          ]
        },
        {
          "name": "stdout",
          "output_type": "stream",
          "text": [
            "WARNING 07-20 17:41:32 scheduler.py:698] Input prompt (10280 tokens) is too long and exceeds limit of 8192\n"
          ]
        },
        {
          "name": "stderr",
          "output_type": "stream",
          "text": [
            "Processed prompts: 100%|██████████| 2000/2000 [05:21<00:00,  6.22it/s, est. speed input: 5121.56 toks/s, output: 915.19 toks/s]\n"
          ]
        },
        {
          "name": "stdout",
          "output_type": "stream",
          "text": [
            "- Saving texts...\n",
            "- Saved 2000 texts\n",
            "- Processing chunk subset 70000, chunk 8000 to 10000...\n",
            "- Generating summaries...\n"
          ]
        },
        {
          "name": "stderr",
          "output_type": "stream",
          "text": [
            "\rProcessed prompts:   0%|          | 0/2000 [00:00<?, ?it/s, est. speed input: 0.00 toks/s, output: 0.00 toks/s]"
          ]
        },
        {
          "name": "stdout",
          "output_type": "stream",
          "text": [
            "WARNING 07-20 17:42:39 scheduler.py:698] Input prompt (9803 tokens) is too long and exceeds limit of 8192\n",
            "WARNING 07-20 17:42:39 scheduler.py:698] Input prompt (14221 tokens) is too long and exceeds limit of 8192\n"
          ]
        },
        {
          "name": "stderr",
          "output_type": "stream",
          "text": [
            "\rProcessed prompts:   0%|          | 1/2000 [00:01<43:31,  1.31s/it, est. speed input: 7503.52 toks/s, output: 0.00 toks/s]"
          ]
        },
        {
          "name": "stdout",
          "output_type": "stream",
          "text": [
            "WARNING 07-20 17:42:46 scheduler.py:698] Input prompt (14628 tokens) is too long and exceeds limit of 8192\n"
          ]
        },
        {
          "name": "stderr",
          "output_type": "stream",
          "text": [
            "Processed prompts:  16%|█▌        | 322/2000 [00:50<03:37,  7.71it/s, est. speed input: 4927.41 toks/s, output: 849.41 toks/s]"
          ]
        },
        {
          "name": "stdout",
          "output_type": "stream",
          "text": [
            "WARNING 07-20 17:43:29 scheduler.py:698] Input prompt (8232 tokens) is too long and exceeds limit of 8192\n"
          ]
        },
        {
          "name": "stderr",
          "output_type": "stream",
          "text": [
            "Processed prompts:  21%|██▏       | 425/2000 [01:05<03:57,  6.62it/s, est. speed input: 5327.36 toks/s, output: 907.94 toks/s]"
          ]
        },
        {
          "name": "stdout",
          "output_type": "stream",
          "text": [
            "WARNING 07-20 17:43:44 scheduler.py:698] Input prompt (72385 tokens) is too long and exceeds limit of 8192\n"
          ]
        },
        {
          "name": "stderr",
          "output_type": "stream",
          "text": [
            "Processed prompts:  21%|██▏       | 428/2000 [01:05<03:34,  7.34it/s, est. speed input: 6434.26 toks/s, output: 906.42 toks/s]"
          ]
        },
        {
          "name": "stdout",
          "output_type": "stream",
          "text": [
            "WARNING 07-20 17:43:44 scheduler.py:698] Input prompt (10712 tokens) is too long and exceeds limit of 8192\n"
          ]
        },
        {
          "name": "stderr",
          "output_type": "stream",
          "text": [
            "Processed prompts:  31%|███▏      | 626/2000 [01:29<03:35,  6.36it/s, est. speed input: 6241.92 toks/s, output: 966.18 toks/s]"
          ]
        },
        {
          "name": "stdout",
          "output_type": "stream",
          "text": [
            "WARNING 07-20 17:44:08 scheduler.py:698] Input prompt (10021 tokens) is too long and exceeds limit of 8192\n"
          ]
        },
        {
          "name": "stderr",
          "output_type": "stream",
          "text": [
            "Processed prompts:  38%|███▊      | 761/2000 [01:48<02:55,  7.06it/s, est. speed input: 6235.97 toks/s, output: 986.11 toks/s]"
          ]
        },
        {
          "name": "stdout",
          "output_type": "stream",
          "text": [
            "WARNING 07-20 17:44:27 scheduler.py:698] Input prompt (10907 tokens) is too long and exceeds limit of 8192\n"
          ]
        },
        {
          "name": "stderr",
          "output_type": "stream",
          "text": [
            "Processed prompts:  44%|████▍     | 885/2000 [02:04<02:39,  6.98it/s, est. speed input: 6220.60 toks/s, output: 1002.45 toks/s]"
          ]
        },
        {
          "name": "stdout",
          "output_type": "stream",
          "text": [
            "WARNING 07-20 17:44:43 scheduler.py:698] Input prompt (11646 tokens) is too long and exceeds limit of 8192\n"
          ]
        },
        {
          "name": "stderr",
          "output_type": "stream",
          "text": [
            "Processed prompts:  58%|█████▊    | 1163/2000 [02:42<02:03,  6.80it/s, est. speed input: 6166.88 toks/s, output: 1009.47 toks/s]"
          ]
        },
        {
          "name": "stdout",
          "output_type": "stream",
          "text": [
            "WARNING 07-20 17:45:21 scheduler.py:698] Input prompt (9883 tokens) is too long and exceeds limit of 8192\n"
          ]
        },
        {
          "name": "stderr",
          "output_type": "stream",
          "text": [
            "Processed prompts:  60%|█████▉    | 1198/2000 [02:46<02:01,  6.63it/s, est. speed input: 6187.01 toks/s, output: 1012.43 toks/s]"
          ]
        },
        {
          "name": "stdout",
          "output_type": "stream",
          "text": [
            "WARNING 07-20 17:45:25 scheduler.py:698] Input prompt (10277 tokens) is too long and exceeds limit of 8192\n"
          ]
        },
        {
          "name": "stderr",
          "output_type": "stream",
          "text": [
            "Processed prompts:  61%|██████    | 1214/2000 [02:48<01:29,  8.83it/s, est. speed input: 6262.78 toks/s, output: 1016.25 toks/s]"
          ]
        },
        {
          "name": "stdout",
          "output_type": "stream",
          "text": [
            "WARNING 07-20 17:45:27 scheduler.py:698] Input prompt (25143 tokens) is too long and exceeds limit of 8192\n"
          ]
        },
        {
          "name": "stderr",
          "output_type": "stream",
          "text": [
            "Processed prompts:  63%|██████▎   | 1260/2000 [02:52<01:21,  9.07it/s, est. speed input: 6366.83 toks/s, output: 1022.50 toks/s]"
          ]
        },
        {
          "name": "stdout",
          "output_type": "stream",
          "text": [
            "WARNING 07-20 17:45:31 scheduler.py:698] Input prompt (11863 tokens) is too long and exceeds limit of 8192\n"
          ]
        },
        {
          "name": "stderr",
          "output_type": "stream",
          "text": [
            "Processed prompts:  66%|██████▌   | 1321/2000 [03:00<01:49,  6.21it/s, est. speed input: 6423.22 toks/s, output: 1033.07 toks/s]"
          ]
        },
        {
          "name": "stdout",
          "output_type": "stream",
          "text": [
            "WARNING 07-20 17:45:39 scheduler.py:698] Input prompt (11653 tokens) is too long and exceeds limit of 8192\n"
          ]
        },
        {
          "name": "stderr",
          "output_type": "stream",
          "text": [
            "Processed prompts:  91%|█████████ | 1818/2000 [04:04<00:32,  5.65it/s, est. speed input: 6272.39 toks/s, output: 1055.87 toks/s]"
          ]
        },
        {
          "name": "stdout",
          "output_type": "stream",
          "text": [
            "WARNING 07-20 17:46:43 scheduler.py:698] Input prompt (9698 tokens) is too long and exceeds limit of 8192\n"
          ]
        },
        {
          "name": "stderr",
          "output_type": "stream",
          "text": [
            "Processed prompts: 100%|██████████| 2000/2000 [04:21<00:00,  7.64it/s, est. speed input: 6435.29 toks/s, output: 1097.99 toks/s]\n"
          ]
        },
        {
          "name": "stdout",
          "output_type": "stream",
          "text": [
            "- Saving texts...\n",
            "- Saved 2000 texts\n",
            "- Processing chunk 80000 to 90000...\n",
            "- Processing chunk subset 80000, chunk 0 to 2000...\n",
            "- Generating summaries...\n"
          ]
        },
        {
          "name": "stderr",
          "output_type": "stream",
          "text": [
            "\rProcessed prompts:   0%|          | 0/2000 [00:00<?, ?it/s, est. speed input: 0.00 toks/s, output: 0.00 toks/s]"
          ]
        },
        {
          "name": "stdout",
          "output_type": "stream",
          "text": [
            "WARNING 07-20 17:47:14 scheduler.py:698] Input prompt (10553 tokens) is too long and exceeds limit of 8192\n"
          ]
        },
        {
          "name": "stderr",
          "output_type": "stream",
          "text": [
            "Processed prompts:   6%|▌         | 114/2000 [00:22<03:14,  9.70it/s, est. speed input: 2911.12 toks/s, output: 557.26 toks/s]"
          ]
        },
        {
          "name": "stdout",
          "output_type": "stream",
          "text": [
            "WARNING 07-20 17:47:30 scheduler.py:698] Input prompt (11970 tokens) is too long and exceeds limit of 8192\n"
          ]
        },
        {
          "name": "stderr",
          "output_type": "stream",
          "text": [
            "Processed prompts:   7%|▋         | 131/2000 [00:24<03:26,  9.06it/s, est. speed input: 3659.54 toks/s, output: 633.96 toks/s]"
          ]
        },
        {
          "name": "stdout",
          "output_type": "stream",
          "text": [
            "WARNING 07-20 17:47:32 scheduler.py:698] Input prompt (9292 tokens) is too long and exceeds limit of 8192\n"
          ]
        },
        {
          "name": "stderr",
          "output_type": "stream",
          "text": [
            "Processed prompts:  15%|█▍        | 297/2000 [00:47<02:37, 10.83it/s, est. speed input: 5020.80 toks/s, output: 820.88 toks/s]"
          ]
        },
        {
          "name": "stdout",
          "output_type": "stream",
          "text": [
            "WARNING 07-20 17:47:55 scheduler.py:698] Input prompt (9624 tokens) is too long and exceeds limit of 8192\n"
          ]
        },
        {
          "name": "stderr",
          "output_type": "stream",
          "text": [
            "Processed prompts:  19%|█▉        | 385/2000 [00:59<03:16,  8.22it/s, est. speed input: 5239.94 toks/s, output: 875.72 toks/s]"
          ]
        },
        {
          "name": "stdout",
          "output_type": "stream",
          "text": [
            "WARNING 07-20 17:48:06 scheduler.py:698] Input prompt (8225 tokens) is too long and exceeds limit of 8192\n"
          ]
        },
        {
          "name": "stderr",
          "output_type": "stream",
          "text": [
            "Processed prompts:  32%|███▏      | 648/2000 [01:34<03:24,  6.61it/s, est. speed input: 5515.67 toks/s, output: 944.60 toks/s]"
          ]
        },
        {
          "name": "stdout",
          "output_type": "stream",
          "text": [
            "WARNING 07-20 17:48:42 scheduler.py:698] Input prompt (9266 tokens) is too long and exceeds limit of 8192\n"
          ]
        },
        {
          "name": "stderr",
          "output_type": "stream",
          "text": [
            "Processed prompts:  39%|███▉      | 781/2000 [01:51<01:25, 14.24it/s, est. speed input: 5637.77 toks/s, output: 973.06 toks/s]"
          ]
        },
        {
          "name": "stdout",
          "output_type": "stream",
          "text": [
            "WARNING 07-20 17:48:58 scheduler.py:698] Input prompt (10907 tokens) is too long and exceeds limit of 8192\n"
          ]
        },
        {
          "name": "stderr",
          "output_type": "stream",
          "text": [
            "Processed prompts:  52%|█████▏    | 1032/2000 [02:26<01:45,  9.14it/s, est. speed input: 5648.40 toks/s, output: 987.70 toks/s]"
          ]
        },
        {
          "name": "stdout",
          "output_type": "stream",
          "text": [
            "WARNING 07-20 17:49:34 scheduler.py:698] Input prompt (10515 tokens) is too long and exceeds limit of 8192\n"
          ]
        },
        {
          "name": "stderr",
          "output_type": "stream",
          "text": [
            "Processed prompts:  58%|█████▊    | 1151/2000 [02:44<01:47,  7.89it/s, est. speed input: 5693.99 toks/s, output: 988.66 toks/s]"
          ]
        },
        {
          "name": "stdout",
          "output_type": "stream",
          "text": [
            "WARNING 07-20 17:49:51 scheduler.py:698] Input prompt (18663 tokens) is too long and exceeds limit of 8192\n"
          ]
        },
        {
          "name": "stderr",
          "output_type": "stream",
          "text": [
            "Processed prompts:  58%|█████▊    | 1154/2000 [02:44<01:44,  8.13it/s, est. speed input: 5810.52 toks/s, output: 988.65 toks/s]"
          ]
        },
        {
          "name": "stdout",
          "output_type": "stream",
          "text": [
            "WARNING 07-20 17:49:52 scheduler.py:698] Input prompt (14496 tokens) is too long and exceeds limit of 8192\n"
          ]
        },
        {
          "name": "stderr",
          "output_type": "stream",
          "text": [
            "Processed prompts:  86%|████████▋ | 1726/2000 [03:58<00:35,  7.69it/s, est. speed input: 5778.30 toks/s, output: 1027.46 toks/s]"
          ]
        },
        {
          "name": "stdout",
          "output_type": "stream",
          "text": [
            "WARNING 07-20 17:51:05 scheduler.py:698] Input prompt (12882 tokens) is too long and exceeds limit of 8192\n"
          ]
        },
        {
          "name": "stderr",
          "output_type": "stream",
          "text": [
            "Processed prompts: 100%|██████████| 2000/2000 [05:09<00:00,  6.46it/s, est. speed input: 5166.09 toks/s, output: 942.74 toks/s]\n"
          ]
        },
        {
          "name": "stdout",
          "output_type": "stream",
          "text": [
            "- Saving texts...\n",
            "- Saved 2000 texts\n",
            "- Processing chunk subset 80000, chunk 2000 to 4000...\n",
            "- Generating summaries...\n"
          ]
        },
        {
          "name": "stderr",
          "output_type": "stream",
          "text": [
            "\rProcessed prompts:   0%|          | 0/2000 [00:00<?, ?it/s, est. speed input: 0.00 toks/s, output: 0.00 toks/s]"
          ]
        },
        {
          "name": "stdout",
          "output_type": "stream",
          "text": [
            "WARNING 07-20 17:52:27 scheduler.py:698] Input prompt (10680 tokens) is too long and exceeds limit of 8192\n"
          ]
        },
        {
          "name": "stderr",
          "output_type": "stream",
          "text": [
            "Processed prompts:  11%|█         | 219/2000 [00:41<03:00,  9.87it/s, est. speed input: 4280.17 toks/s, output: 721.45 toks/s]"
          ]
        },
        {
          "name": "stdout",
          "output_type": "stream",
          "text": [
            "WARNING 07-20 17:53:05 scheduler.py:698] Input prompt (13906 tokens) is too long and exceeds limit of 8192\n"
          ]
        },
        {
          "name": "stderr",
          "output_type": "stream",
          "text": [
            "Processed prompts:  23%|██▎       | 466/2000 [01:16<04:13,  6.05it/s, est. speed input: 5009.62 toks/s, output: 842.75 toks/s]"
          ]
        },
        {
          "name": "stdout",
          "output_type": "stream",
          "text": [
            "WARNING 07-20 17:53:40 scheduler.py:698] Input prompt (9252 tokens) is too long and exceeds limit of 8192\n"
          ]
        },
        {
          "name": "stderr",
          "output_type": "stream",
          "text": [
            "Processed prompts:  29%|██▉       | 581/2000 [01:30<02:48,  8.44it/s, est. speed input: 5191.01 toks/s, output: 892.77 toks/s]"
          ]
        },
        {
          "name": "stdout",
          "output_type": "stream",
          "text": [
            "WARNING 07-20 17:53:54 scheduler.py:698] Input prompt (10341 tokens) is too long and exceeds limit of 8192\n"
          ]
        },
        {
          "name": "stderr",
          "output_type": "stream",
          "text": [
            "Processed prompts:  46%|████▌     | 918/2000 [02:13<02:22,  7.58it/s, est. speed input: 5466.94 toks/s, output: 961.77 toks/s]"
          ]
        },
        {
          "name": "stdout",
          "output_type": "stream",
          "text": [
            "WARNING 07-20 17:54:37 scheduler.py:698] Input prompt (12832 tokens) is too long and exceeds limit of 8192\n"
          ]
        },
        {
          "name": "stderr",
          "output_type": "stream",
          "text": [
            "Processed prompts:  54%|█████▍    | 1089/2000 [02:35<02:41,  5.65it/s, est. speed input: 5517.47 toks/s, output: 991.53 toks/s]"
          ]
        },
        {
          "name": "stdout",
          "output_type": "stream",
          "text": [
            "WARNING 07-20 17:54:58 scheduler.py:698] Input prompt (9277 tokens) is too long and exceeds limit of 8192\n"
          ]
        },
        {
          "name": "stderr",
          "output_type": "stream",
          "text": [
            "Processed prompts:  55%|█████▌    | 1108/2000 [02:37<01:56,  7.65it/s, est. speed input: 5581.54 toks/s, output: 994.07 toks/s]"
          ]
        },
        {
          "name": "stdout",
          "output_type": "stream",
          "text": [
            "WARNING 07-20 17:55:01 scheduler.py:698] Input prompt (24342 tokens) is too long and exceeds limit of 8192\n"
          ]
        },
        {
          "name": "stderr",
          "output_type": "stream",
          "text": [
            "Processed prompts:  70%|███████   | 1407/2000 [03:18<01:15,  7.81it/s, est. speed input: 5673.40 toks/s, output: 1009.37 toks/s]"
          ]
        },
        {
          "name": "stdout",
          "output_type": "stream",
          "text": [
            "WARNING 07-20 17:55:42 scheduler.py:698] Input prompt (24482 tokens) is too long and exceeds limit of 8192\n"
          ]
        },
        {
          "name": "stderr",
          "output_type": "stream",
          "text": [
            "Processed prompts:  79%|███████▉  | 1577/2000 [03:39<00:45,  9.26it/s, est. speed input: 5729.55 toks/s, output: 1026.79 toks/s]"
          ]
        },
        {
          "name": "stdout",
          "output_type": "stream",
          "text": [
            "WARNING 07-20 17:56:03 scheduler.py:698] Input prompt (12011 tokens) is too long and exceeds limit of 8192\n"
          ]
        },
        {
          "name": "stderr",
          "output_type": "stream",
          "text": [
            "Processed prompts:  80%|████████  | 1600/2000 [03:42<00:41,  9.65it/s, est. speed input: 5757.06 toks/s, output: 1027.46 toks/s]"
          ]
        },
        {
          "name": "stdout",
          "output_type": "stream",
          "text": [
            "WARNING 07-20 17:56:06 scheduler.py:698] Input prompt (10372 tokens) is too long and exceeds limit of 8192\n"
          ]
        },
        {
          "name": "stderr",
          "output_type": "stream",
          "text": [
            "Processed prompts: 100%|██████████| 2000/2000 [04:43<00:00,  7.06it/s, est. speed input: 5723.68 toks/s, output: 1035.81 toks/s]\n"
          ]
        },
        {
          "name": "stdout",
          "output_type": "stream",
          "text": [
            "- Saving texts...\n",
            "- Saved 2000 texts\n",
            "- Processing chunk subset 80000, chunk 4000 to 6000...\n",
            "- Generating summaries...\n"
          ]
        },
        {
          "name": "stderr",
          "output_type": "stream",
          "text": [
            "\rProcessed prompts:   0%|          | 0/2000 [00:00<?, ?it/s, est. speed input: 0.00 toks/s, output: 0.00 toks/s]"
          ]
        },
        {
          "name": "stdout",
          "output_type": "stream",
          "text": [
            "WARNING 07-20 17:57:17 scheduler.py:698] Input prompt (13047 tokens) is too long and exceeds limit of 8192\n"
          ]
        },
        {
          "name": "stderr",
          "output_type": "stream",
          "text": [
            "\rProcessed prompts:   0%|          | 1/2000 [00:03<1:52:47,  3.39s/it, est. speed input: 3853.87 toks/s, output: 0.00 toks/s]"
          ]
        },
        {
          "name": "stdout",
          "output_type": "stream",
          "text": [
            "WARNING 07-20 17:57:20 scheduler.py:698] Input prompt (21519 tokens) is too long and exceeds limit of 8192\n"
          ]
        },
        {
          "name": "stderr",
          "output_type": "stream",
          "text": [
            "Processed prompts:   1%|          | 11/2000 [00:11<15:19,  2.16it/s, est. speed input: 3114.20 toks/s, output: 35.05 toks/s]"
          ]
        },
        {
          "name": "stdout",
          "output_type": "stream",
          "text": [
            "WARNING 07-20 17:57:26 scheduler.py:1124] Sequence group 84133 is preempted by PreemptionMode.RECOMPUTE mode because there is not enough KV cache space. This can affect the end-to-end performance. Increase gpu_memory_utilization or tensor_parallel_size to provide more KV cache memory. total_num_cumulative_preemption=351\n"
          ]
        },
        {
          "name": "stderr",
          "output_type": "stream",
          "text": [
            "Processed prompts:  16%|█▌        | 323/2000 [00:51<02:32, 10.96it/s, est. speed input: 4774.07 toks/s, output: 826.14 toks/s]"
          ]
        },
        {
          "name": "stdout",
          "output_type": "stream",
          "text": [
            "WARNING 07-20 17:58:06 scheduler.py:698] Input prompt (8454 tokens) is too long and exceeds limit of 8192\n"
          ]
        },
        {
          "name": "stderr",
          "output_type": "stream",
          "text": [
            "Processed prompts:  56%|█████▌    | 1112/2000 [02:45<02:27,  6.02it/s, est. speed input: 5151.11 toks/s, output: 960.71 toks/s]"
          ]
        },
        {
          "name": "stdout",
          "output_type": "stream",
          "text": [
            "WARNING 07-20 17:59:59 scheduler.py:698] Input prompt (11412 tokens) is too long and exceeds limit of 8192\n"
          ]
        },
        {
          "name": "stderr",
          "output_type": "stream",
          "text": [
            "Processed prompts:  56%|█████▌    | 1117/2000 [02:45<01:54,  7.73it/s, est. speed input: 5225.00 toks/s, output: 961.50 toks/s]"
          ]
        },
        {
          "name": "stdout",
          "output_type": "stream",
          "text": [
            "WARNING 07-20 18:00:00 scheduler.py:698] Input prompt (22974 tokens) is too long and exceeds limit of 8192\n"
          ]
        },
        {
          "name": "stderr",
          "output_type": "stream",
          "text": [
            "Processed prompts:  68%|██████▊   | 1369/2000 [03:25<02:07,  4.94it/s, est. speed input: 5265.92 toks/s, output: 956.74 toks/s]"
          ]
        },
        {
          "name": "stdout",
          "output_type": "stream",
          "text": [
            "WARNING 07-20 18:00:39 scheduler.py:698] Input prompt (8601 tokens) is too long and exceeds limit of 8192\n"
          ]
        },
        {
          "name": "stderr",
          "output_type": "stream",
          "text": [
            "Processed prompts:  69%|██████▉   | 1381/2000 [03:28<04:02,  2.56it/s, est. speed input: 5347.48 toks/s, output: 951.52 toks/s]"
          ]
        },
        {
          "name": "stdout",
          "output_type": "stream",
          "text": [
            "WARNING 07-20 18:00:42 scheduler.py:698] Input prompt (8465 tokens) is too long and exceeds limit of 8192\n"
          ]
        },
        {
          "name": "stderr",
          "output_type": "stream",
          "text": [
            "Processed prompts:  80%|███████▉  | 1592/2000 [03:59<00:57,  7.09it/s, est. speed input: 5352.09 toks/s, output: 972.34 toks/s]"
          ]
        },
        {
          "name": "stdout",
          "output_type": "stream",
          "text": [
            "WARNING 07-20 18:01:13 scheduler.py:698] Input prompt (18912 tokens) is too long and exceeds limit of 8192\n"
          ]
        },
        {
          "name": "stderr",
          "output_type": "stream",
          "text": [
            "Processed prompts:  88%|████████▊ | 1762/2000 [04:22<00:33,  7.16it/s, est. speed input: 5421.79 toks/s, output: 978.84 toks/s]"
          ]
        },
        {
          "name": "stdout",
          "output_type": "stream",
          "text": [
            "WARNING 07-20 18:01:36 scheduler.py:698] Input prompt (8348 tokens) is too long and exceeds limit of 8192\n"
          ]
        },
        {
          "name": "stderr",
          "output_type": "stream",
          "text": [
            "Processed prompts: 100%|██████████| 2000/2000 [05:24<00:00,  6.16it/s, est. speed input: 5021.79 toks/s, output: 928.71 toks/s]\n"
          ]
        },
        {
          "name": "stdout",
          "output_type": "stream",
          "text": [
            "- Saving texts...\n",
            "- Saved 2000 texts\n",
            "- Processing chunk subset 80000, chunk 6000 to 8000...\n",
            "- Generating summaries...\n"
          ]
        },
        {
          "name": "stderr",
          "output_type": "stream",
          "text": [
            "\rProcessed prompts:   0%|          | 0/2000 [00:00<?, ?it/s, est. speed input: 0.00 toks/s, output: 0.00 toks/s]"
          ]
        },
        {
          "name": "stdout",
          "output_type": "stream",
          "text": [
            "WARNING 07-20 18:02:51 scheduler.py:698] Input prompt (14555 tokens) is too long and exceeds limit of 8192\n"
          ]
        },
        {
          "name": "stderr",
          "output_type": "stream",
          "text": [
            "Processed prompts:  14%|█▍        | 285/2000 [00:46<03:41,  7.74it/s, est. speed input: 4195.27 toks/s, output: 835.37 toks/s]"
          ]
        },
        {
          "name": "stdout",
          "output_type": "stream",
          "text": [
            "WARNING 07-20 18:03:31 scheduler.py:698] Input prompt (9566 tokens) is too long and exceeds limit of 8192\n"
          ]
        },
        {
          "name": "stderr",
          "output_type": "stream",
          "text": [
            "Processed prompts:  27%|██▋       | 541/2000 [01:26<03:48,  6.40it/s, est. speed input: 4788.21 toks/s, output: 890.11 toks/s]"
          ]
        },
        {
          "name": "stdout",
          "output_type": "stream",
          "text": [
            "WARNING 07-20 18:04:12 scheduler.py:698] Input prompt (9035 tokens) is too long and exceeds limit of 8192\n"
          ]
        },
        {
          "name": "stderr",
          "output_type": "stream",
          "text": [
            "Processed prompts:  30%|██▉       | 594/2000 [01:34<02:57,  7.94it/s, est. speed input: 4889.60 toks/s, output: 905.04 toks/s]"
          ]
        },
        {
          "name": "stdout",
          "output_type": "stream",
          "text": [
            "WARNING 07-20 18:04:20 scheduler.py:698] Input prompt (8537 tokens) is too long and exceeds limit of 8192\n"
          ]
        },
        {
          "name": "stderr",
          "output_type": "stream",
          "text": [
            "Processed prompts:  31%|███▏      | 627/2000 [01:39<03:14,  7.07it/s, est. speed input: 5044.28 toks/s, output: 908.01 toks/s]"
          ]
        },
        {
          "name": "stdout",
          "output_type": "stream",
          "text": [
            "WARNING 07-20 18:04:25 scheduler.py:698] Input prompt (9225 tokens) is too long and exceeds limit of 8192\n"
          ]
        },
        {
          "name": "stderr",
          "output_type": "stream",
          "text": [
            "Processed prompts:  44%|████▍     | 886/2000 [02:15<02:37,  7.09it/s, est. speed input: 5183.89 toks/s, output: 950.32 toks/s]"
          ]
        },
        {
          "name": "stdout",
          "output_type": "stream",
          "text": [
            "WARNING 07-20 18:05:01 scheduler.py:698] Input prompt (8565 tokens) is too long and exceeds limit of 8192\n"
          ]
        },
        {
          "name": "stderr",
          "output_type": "stream",
          "text": [
            "Processed prompts:  45%|████▍     | 899/2000 [02:16<01:49, 10.06it/s, est. speed input: 5281.54 toks/s, output: 954.93 toks/s]"
          ]
        },
        {
          "name": "stdout",
          "output_type": "stream",
          "text": [
            "WARNING 07-20 18:05:02 scheduler.py:698] Input prompt (8556 tokens) is too long and exceeds limit of 8192\n"
          ]
        },
        {
          "name": "stderr",
          "output_type": "stream",
          "text": [
            "Processed prompts:  52%|█████▏    | 1036/2000 [02:37<02:03,  7.83it/s, est. speed input: 5288.48 toks/s, output: 956.01 toks/s]"
          ]
        },
        {
          "name": "stdout",
          "output_type": "stream",
          "text": [
            "WARNING 07-20 18:05:23 scheduler.py:698] Input prompt (8389 tokens) is too long and exceeds limit of 8192\n"
          ]
        },
        {
          "name": "stderr",
          "output_type": "stream",
          "text": [
            "Processed prompts:  57%|█████▋    | 1141/2000 [02:53<01:51,  7.68it/s, est. speed input: 5299.03 toks/s, output: 959.84 toks/s]"
          ]
        },
        {
          "name": "stdout",
          "output_type": "stream",
          "text": [
            "WARNING 07-20 18:05:39 scheduler.py:698] Input prompt (8291 tokens) is too long and exceeds limit of 8192\n"
          ]
        },
        {
          "name": "stderr",
          "output_type": "stream",
          "text": [
            "Processed prompts:  63%|██████▎   | 1266/2000 [03:10<01:11, 10.27it/s, est. speed input: 5346.80 toks/s, output: 972.67 toks/s]"
          ]
        },
        {
          "name": "stdout",
          "output_type": "stream",
          "text": [
            "WARNING 07-20 18:05:56 scheduler.py:698] Input prompt (13171 tokens) is too long and exceeds limit of 8192\n"
          ]
        },
        {
          "name": "stderr",
          "output_type": "stream",
          "text": [
            "Processed prompts:  77%|███████▋  | 1534/2000 [03:48<00:52,  8.94it/s, est. speed input: 5491.75 toks/s, output: 986.14 toks/s]"
          ]
        },
        {
          "name": "stdout",
          "output_type": "stream",
          "text": [
            "WARNING 07-20 18:06:34 scheduler.py:698] Input prompt (8694 tokens) is too long and exceeds limit of 8192\n"
          ]
        },
        {
          "name": "stderr",
          "output_type": "stream",
          "text": [
            "Processed prompts:  83%|████████▎ | 1663/2000 [04:04<00:36,  9.29it/s, est. speed input: 5547.67 toks/s, output: 995.00 toks/s]"
          ]
        },
        {
          "name": "stdout",
          "output_type": "stream",
          "text": [
            "WARNING 07-20 18:06:50 scheduler.py:698] Input prompt (8809 tokens) is too long and exceeds limit of 8192\n"
          ]
        },
        {
          "name": "stderr",
          "output_type": "stream",
          "text": [
            "Processed prompts:  93%|█████████▎| 1855/2000 [04:27<00:15,  9.37it/s, est. speed input: 5581.67 toks/s, output: 1006.75 toks/s]"
          ]
        },
        {
          "name": "stdout",
          "output_type": "stream",
          "text": [
            "WARNING 07-20 18:07:13 scheduler.py:698] Input prompt (13707 tokens) is too long and exceeds limit of 8192\n"
          ]
        },
        {
          "name": "stderr",
          "output_type": "stream",
          "text": [
            "Processed prompts: 100%|██████████| 2000/2000 [04:39<00:00,  7.16it/s, est. speed input: 5773.19 toks/s, output: 1047.79 toks/s]\n"
          ]
        },
        {
          "name": "stdout",
          "output_type": "stream",
          "text": [
            "- Saving texts...\n",
            "- Saved 2000 texts\n",
            "- Processing chunk subset 80000, chunk 8000 to 10000...\n",
            "- Generating summaries...\n"
          ]
        },
        {
          "name": "stderr",
          "output_type": "stream",
          "text": [
            "\rProcessed prompts:   0%|          | 0/2000 [00:00<?, ?it/s, est. speed input: 0.00 toks/s, output: 0.00 toks/s]"
          ]
        },
        {
          "name": "stdout",
          "output_type": "stream",
          "text": [
            "WARNING 07-20 18:07:36 scheduler.py:698] Input prompt (8373 tokens) is too long and exceeds limit of 8192\n"
          ]
        },
        {
          "name": "stderr",
          "output_type": "stream",
          "text": [
            "\rProcessed prompts:   0%|          | 1/2000 [00:04<2:27:44,  4.43s/it, est. speed input: 1888.29 toks/s, output: 0.00 toks/s]"
          ]
        },
        {
          "name": "stdout",
          "output_type": "stream",
          "text": [
            "WARNING 07-20 18:07:39 scheduler.py:698] Input prompt (23342 tokens) is too long and exceeds limit of 8192\n"
          ]
        },
        {
          "name": "stderr",
          "output_type": "stream",
          "text": [
            "Processed prompts:  10%|█         | 208/2000 [00:37<02:55, 10.19it/s, est. speed input: 4566.07 toks/s, output: 732.81 toks/s]"
          ]
        },
        {
          "name": "stdout",
          "output_type": "stream",
          "text": [
            "WARNING 07-20 18:08:10 scheduler.py:698] Input prompt (10967 tokens) is too long and exceeds limit of 8192\n"
          ]
        },
        {
          "name": "stderr",
          "output_type": "stream",
          "text": [
            "Processed prompts:  13%|█▎        | 251/2000 [00:43<04:57,  5.88it/s, est. speed input: 5005.27 toks/s, output: 762.76 toks/s]"
          ]
        },
        {
          "name": "stdout",
          "output_type": "stream",
          "text": [
            "WARNING 07-20 18:08:16 scheduler.py:698] Input prompt (41265 tokens) is too long and exceeds limit of 8192\n"
          ]
        },
        {
          "name": "stderr",
          "output_type": "stream",
          "text": [
            "Processed prompts:  22%|██▏       | 444/2000 [01:07<01:41, 15.36it/s, est. speed input: 5669.26 toks/s, output: 907.72 toks/s]"
          ]
        },
        {
          "name": "stdout",
          "output_type": "stream",
          "text": [
            "WARNING 07-20 18:08:39 scheduler.py:698] Input prompt (8979 tokens) is too long and exceeds limit of 8192\n"
          ]
        },
        {
          "name": "stderr",
          "output_type": "stream",
          "text": [
            "Processed prompts:  59%|█████▉    | 1186/2000 [02:44<01:20, 10.17it/s, est. speed input: 5650.61 toks/s, output: 1017.38 toks/s]"
          ]
        },
        {
          "name": "stdout",
          "output_type": "stream",
          "text": [
            "WARNING 07-20 18:10:17 scheduler.py:698] Input prompt (10023 tokens) is too long and exceeds limit of 8192\n"
          ]
        },
        {
          "name": "stderr",
          "output_type": "stream",
          "text": [
            "Processed prompts:  61%|██████    | 1211/2000 [02:49<02:09,  6.09it/s, est. speed input: 5717.75 toks/s, output: 1014.22 toks/s]"
          ]
        },
        {
          "name": "stdout",
          "output_type": "stream",
          "text": [
            "WARNING 07-20 18:10:21 scheduler.py:698] Input prompt (8847 tokens) is too long and exceeds limit of 8192\n"
          ]
        },
        {
          "name": "stderr",
          "output_type": "stream",
          "text": [
            "Processed prompts:  62%|██████▏   | 1231/2000 [02:51<01:45,  7.29it/s, est. speed input: 5747.32 toks/s, output: 1013.41 toks/s]"
          ]
        },
        {
          "name": "stdout",
          "output_type": "stream",
          "text": [
            "WARNING 07-20 18:10:24 scheduler.py:698] Input prompt (12335 tokens) is too long and exceeds limit of 8192\n"
          ]
        },
        {
          "name": "stderr",
          "output_type": "stream",
          "text": [
            "Processed prompts:  70%|██████▉   | 1391/2000 [03:13<01:38,  6.17it/s, est. speed input: 5832.01 toks/s, output: 1020.82 toks/s]"
          ]
        },
        {
          "name": "stdout",
          "output_type": "stream",
          "text": [
            "WARNING 07-20 18:10:45 scheduler.py:698] Input prompt (9059 tokens) is too long and exceeds limit of 8192\n"
          ]
        },
        {
          "name": "stderr",
          "output_type": "stream",
          "text": [
            "Processed prompts:  74%|███████▍  | 1476/2000 [03:23<01:00,  8.67it/s, est. speed input: 5860.69 toks/s, output: 1028.27 toks/s]"
          ]
        },
        {
          "name": "stdout",
          "output_type": "stream",
          "text": [
            "WARNING 07-20 18:10:55 scheduler.py:698] Input prompt (9069 tokens) is too long and exceeds limit of 8192\n"
          ]
        },
        {
          "name": "stderr",
          "output_type": "stream",
          "text": [
            "Processed prompts:  76%|███████▋  | 1525/2000 [03:29<01:11,  6.60it/s, est. speed input: 5923.87 toks/s, output: 1032.87 toks/s]"
          ]
        },
        {
          "name": "stdout",
          "output_type": "stream",
          "text": [
            "WARNING 07-20 18:11:02 scheduler.py:698] Input prompt (20628 tokens) is too long and exceeds limit of 8192\n"
          ]
        },
        {
          "name": "stderr",
          "output_type": "stream",
          "text": [
            "Processed prompts:  81%|████████  | 1613/2000 [03:42<00:45,  8.43it/s, est. speed input: 5989.45 toks/s, output: 1035.93 toks/s]"
          ]
        },
        {
          "name": "stdout",
          "output_type": "stream",
          "text": [
            "WARNING 07-20 18:11:14 scheduler.py:698] Input prompt (8522 tokens) is too long and exceeds limit of 8192\n"
          ]
        },
        {
          "name": "stderr",
          "output_type": "stream",
          "text": [
            "Processed prompts:  84%|████████▍ | 1684/2000 [03:52<01:11,  4.40it/s, est. speed input: 5994.14 toks/s, output: 1036.05 toks/s]"
          ]
        },
        {
          "name": "stdout",
          "output_type": "stream",
          "text": [
            "WARNING 07-20 18:11:25 scheduler.py:698] Input prompt (9493 tokens) is too long and exceeds limit of 8192\n"
          ]
        },
        {
          "name": "stderr",
          "output_type": "stream",
          "text": [
            "Processed prompts:  86%|████████▌ | 1718/2000 [03:56<00:42,  6.59it/s, est. speed input: 6039.25 toks/s, output: 1037.76 toks/s]"
          ]
        },
        {
          "name": "stdout",
          "output_type": "stream",
          "text": [
            "WARNING 07-20 18:11:29 scheduler.py:698] Input prompt (13101 tokens) is too long and exceeds limit of 8192\n"
          ]
        },
        {
          "name": "stderr",
          "output_type": "stream",
          "text": [
            "Processed prompts: 100%|██████████| 2000/2000 [04:27<00:00,  7.49it/s, est. speed input: 6256.87 toks/s, output: 1080.77 toks/s]\n"
          ]
        },
        {
          "name": "stdout",
          "output_type": "stream",
          "text": [
            "- Saving texts...\n",
            "- Saved 2000 texts\n",
            "- Processing chunk 90000 to 100000...\n",
            "- Processing chunk subset 90000, chunk 0 to 2000...\n",
            "- Generating summaries...\n"
          ]
        },
        {
          "name": "stderr",
          "output_type": "stream",
          "text": [
            "\rProcessed prompts:   0%|          | 0/2000 [00:00<?, ?it/s, est. speed input: 0.00 toks/s, output: 0.00 toks/s]"
          ]
        },
        {
          "name": "stdout",
          "output_type": "stream",
          "text": [
            "WARNING 07-20 18:12:11 scheduler.py:698] Input prompt (9658 tokens) is too long and exceeds limit of 8192\n"
          ]
        },
        {
          "name": "stderr",
          "output_type": "stream",
          "text": [
            "Processed prompts:   5%|▌         | 106/2000 [00:21<04:10,  7.56it/s, est. speed input: 2765.78 toks/s, output: 538.29 toks/s]"
          ]
        },
        {
          "name": "stdout",
          "output_type": "stream",
          "text": [
            "WARNING 07-20 18:12:27 scheduler.py:698] Input prompt (8285 tokens) is too long and exceeds limit of 8192\n"
          ]
        },
        {
          "name": "stderr",
          "output_type": "stream",
          "text": [
            "Processed prompts:  13%|█▎        | 264/2000 [00:43<03:57,  7.32it/s, est. speed input: 4326.66 toks/s, output: 829.37 toks/s]"
          ]
        },
        {
          "name": "stdout",
          "output_type": "stream",
          "text": [
            "WARNING 07-20 18:12:50 scheduler.py:698] Input prompt (17176 tokens) is too long and exceeds limit of 8192\n"
          ]
        },
        {
          "name": "stderr",
          "output_type": "stream",
          "text": [
            "Processed prompts:  16%|█▌        | 322/2000 [00:52<03:34,  7.83it/s, est. speed input: 4868.57 toks/s, output: 849.06 toks/s]"
          ]
        },
        {
          "name": "stdout",
          "output_type": "stream",
          "text": [
            "WARNING 07-20 18:12:58 scheduler.py:698] Input prompt (9852 tokens) is too long and exceeds limit of 8192\n"
          ]
        },
        {
          "name": "stderr",
          "output_type": "stream",
          "text": [
            "Processed prompts:  30%|██▉       | 599/2000 [01:30<02:03, 11.38it/s, est. speed input: 5111.39 toks/s, output: 935.38 toks/s]"
          ]
        },
        {
          "name": "stdout",
          "output_type": "stream",
          "text": [
            "WARNING 07-20 18:13:37 scheduler.py:698] Input prompt (11249 tokens) is too long and exceeds limit of 8192\n"
          ]
        },
        {
          "name": "stderr",
          "output_type": "stream",
          "text": [
            "Processed prompts:  39%|███▉      | 780/2000 [01:57<04:23,  4.63it/s, est. speed input: 5182.22 toks/s, output: 948.45 toks/s]"
          ]
        },
        {
          "name": "stdout",
          "output_type": "stream",
          "text": [
            "WARNING 07-20 18:14:04 scheduler.py:698] Input prompt (8670 tokens) is too long and exceeds limit of 8192\n"
          ]
        },
        {
          "name": "stderr",
          "output_type": "stream",
          "text": [
            "Processed prompts:  46%|████▌     | 913/2000 [02:14<02:35,  7.01it/s, est. speed input: 5359.34 toks/s, output: 965.59 toks/s]"
          ]
        },
        {
          "name": "stdout",
          "output_type": "stream",
          "text": [
            "WARNING 07-20 18:14:21 scheduler.py:698] Input prompt (9489 tokens) is too long and exceeds limit of 8192\n"
          ]
        },
        {
          "name": "stderr",
          "output_type": "stream",
          "text": [
            "Processed prompts:  50%|████▉     | 996/2000 [02:26<02:13,  7.53it/s, est. speed input: 5388.37 toks/s, output: 962.85 toks/s]"
          ]
        },
        {
          "name": "stdout",
          "output_type": "stream",
          "text": [
            "WARNING 07-20 18:14:33 scheduler.py:698] Input prompt (13790 tokens) is too long and exceeds limit of 8192\n"
          ]
        },
        {
          "name": "stderr",
          "output_type": "stream",
          "text": [
            "Processed prompts:  54%|█████▎    | 1074/2000 [02:39<02:55,  5.28it/s, est. speed input: 5484.30 toks/s, output: 952.61 toks/s]"
          ]
        },
        {
          "name": "stdout",
          "output_type": "stream",
          "text": [
            "WARNING 07-20 18:14:46 scheduler.py:698] Input prompt (9234 tokens) is too long and exceeds limit of 8192\n"
          ]
        },
        {
          "name": "stderr",
          "output_type": "stream",
          "text": [
            "Processed prompts:  67%|██████▋   | 1346/2000 [03:19<01:13,  8.88it/s, est. speed input: 5547.98 toks/s, output: 973.00 toks/s]"
          ]
        },
        {
          "name": "stdout",
          "output_type": "stream",
          "text": [
            "WARNING 07-20 18:15:26 scheduler.py:698] Input prompt (19521 tokens) is too long and exceeds limit of 8192\n"
          ]
        },
        {
          "name": "stderr",
          "output_type": "stream",
          "text": [
            "Processed prompts:  69%|██████▊   | 1373/2000 [03:22<01:18,  8.02it/s, est. speed input: 5645.66 toks/s, output: 972.29 toks/s]"
          ]
        },
        {
          "name": "stdout",
          "output_type": "stream",
          "text": [
            "WARNING 07-20 18:15:29 scheduler.py:698] Input prompt (13471 tokens) is too long and exceeds limit of 8192\n"
          ]
        },
        {
          "name": "stderr",
          "output_type": "stream",
          "text": [
            "Processed prompts:  71%|███████   | 1418/2000 [03:29<01:01,  9.54it/s, est. speed input: 5720.62 toks/s, output: 975.22 toks/s]"
          ]
        },
        {
          "name": "stdout",
          "output_type": "stream",
          "text": [
            "WARNING 07-20 18:15:36 scheduler.py:698] Input prompt (8367 tokens) is too long and exceeds limit of 8192\n"
          ]
        },
        {
          "name": "stderr",
          "output_type": "stream",
          "text": [
            "Processed prompts:  81%|████████▏ | 1629/2000 [03:58<01:27,  4.24it/s, est. speed input: 5729.90 toks/s, output: 983.80 toks/s]"
          ]
        },
        {
          "name": "stdout",
          "output_type": "stream",
          "text": [
            "WARNING 07-20 18:16:05 scheduler.py:698] Input prompt (11488 tokens) is too long and exceeds limit of 8192\n"
          ]
        },
        {
          "name": "stderr",
          "output_type": "stream",
          "text": [
            "Processed prompts: 100%|██████████| 2000/2000 [04:44<00:00,  7.04it/s, est. speed input: 5912.80 toks/s, output: 1028.49 toks/s]\n"
          ]
        },
        {
          "name": "stdout",
          "output_type": "stream",
          "text": [
            "- Saving texts...\n",
            "- Saved 2000 texts\n",
            "- Processing chunk subset 90000, chunk 2000 to 4000...\n",
            "- Generating summaries...\n"
          ]
        },
        {
          "name": "stderr",
          "output_type": "stream",
          "text": [
            "\rProcessed prompts:   0%|          | 0/2000 [00:00<?, ?it/s, est. speed input: 0.00 toks/s, output: 0.00 toks/s]"
          ]
        },
        {
          "name": "stdout",
          "output_type": "stream",
          "text": [
            "WARNING 07-20 18:17:00 scheduler.py:698] Input prompt (10163 tokens) is too long and exceeds limit of 8192\n"
          ]
        },
        {
          "name": "stderr",
          "output_type": "stream",
          "text": [
            "Processed prompts:   4%|▍         | 83/2000 [00:19<04:18,  7.43it/s, est. speed input: 2733.75 toks/s, output: 435.85 toks/s]"
          ]
        },
        {
          "name": "stdout",
          "output_type": "stream",
          "text": [
            "WARNING 07-20 18:17:17 scheduler.py:698] Input prompt (9222 tokens) is too long and exceeds limit of 8192\n"
          ]
        },
        {
          "name": "stderr",
          "output_type": "stream",
          "text": [
            "Processed prompts:   9%|▉         | 176/2000 [00:33<04:57,  6.13it/s, est. speed input: 4174.30 toks/s, output: 639.49 toks/s]"
          ]
        },
        {
          "name": "stdout",
          "output_type": "stream",
          "text": [
            "WARNING 07-20 18:17:31 scheduler.py:698] Input prompt (10020 tokens) is too long and exceeds limit of 8192\n"
          ]
        },
        {
          "name": "stderr",
          "output_type": "stream",
          "text": [
            "Processed prompts:  10%|▉         | 191/2000 [00:35<03:02,  9.89it/s, est. speed input: 4513.33 toks/s, output: 671.79 toks/s]"
          ]
        },
        {
          "name": "stdout",
          "output_type": "stream",
          "text": [
            "WARNING 07-20 18:17:33 scheduler.py:698] Input prompt (17677 tokens) is too long and exceeds limit of 8192\n"
          ]
        },
        {
          "name": "stderr",
          "output_type": "stream",
          "text": [
            "Processed prompts:  10%|█         | 203/2000 [00:36<03:34,  8.39it/s, est. speed input: 5040.57 toks/s, output: 688.48 toks/s]"
          ]
        },
        {
          "name": "stdout",
          "output_type": "stream",
          "text": [
            "WARNING 07-20 18:17:34 scheduler.py:698] Input prompt (16488 tokens) is too long and exceeds limit of 8192\n"
          ]
        },
        {
          "name": "stderr",
          "output_type": "stream",
          "text": [
            "Processed prompts:  25%|██▌       | 502/2000 [01:16<03:28,  7.20it/s, est. speed input: 5383.35 toks/s, output: 912.66 toks/s]"
          ]
        },
        {
          "name": "stdout",
          "output_type": "stream",
          "text": [
            "WARNING 07-20 18:18:14 scheduler.py:698] Input prompt (16013 tokens) is too long and exceeds limit of 8192\n"
          ]
        },
        {
          "name": "stderr",
          "output_type": "stream",
          "text": [
            "Processed prompts:  30%|██▉       | 590/2000 [01:27<02:08, 10.93it/s, est. speed input: 5505.89 toks/s, output: 935.35 toks/s]"
          ]
        },
        {
          "name": "stdout",
          "output_type": "stream",
          "text": [
            "WARNING 07-20 18:18:25 scheduler.py:698] Input prompt (21356 tokens) is too long and exceeds limit of 8192\n"
          ]
        },
        {
          "name": "stderr",
          "output_type": "stream",
          "text": [
            "Processed prompts:  30%|███       | 606/2000 [01:28<02:15, 10.29it/s, est. speed input: 5759.50 toks/s, output: 941.81 toks/s]"
          ]
        },
        {
          "name": "stdout",
          "output_type": "stream",
          "text": [
            "WARNING 07-20 18:18:26 scheduler.py:698] Input prompt (14990 tokens) is too long and exceeds limit of 8192\n"
          ]
        },
        {
          "name": "stderr",
          "output_type": "stream",
          "text": [
            "Processed prompts:  35%|███▌      | 703/2000 [01:39<02:52,  7.53it/s, est. speed input: 5841.89 toks/s, output: 969.68 toks/s]"
          ]
        },
        {
          "name": "stdout",
          "output_type": "stream",
          "text": [
            "WARNING 07-20 18:18:37 scheduler.py:698] Input prompt (9498 tokens) is too long and exceeds limit of 8192\n"
          ]
        },
        {
          "name": "stderr",
          "output_type": "stream",
          "text": [
            "Processed prompts:  38%|███▊      | 765/2000 [01:45<02:39,  7.75it/s, est. speed input: 5887.23 toks/s, output: 986.07 toks/s]"
          ]
        },
        {
          "name": "stdout",
          "output_type": "stream",
          "text": [
            "WARNING 07-20 18:18:43 scheduler.py:698] Input prompt (14962 tokens) is too long and exceeds limit of 8192\n"
          ]
        },
        {
          "name": "stderr",
          "output_type": "stream",
          "text": [
            "Processed prompts:  39%|███▉      | 777/2000 [01:47<02:20,  8.72it/s, est. speed input: 6002.99 toks/s, output: 987.98 toks/s]"
          ]
        },
        {
          "name": "stdout",
          "output_type": "stream",
          "text": [
            "WARNING 07-20 18:18:45 scheduler.py:698] Input prompt (17896 tokens) is too long and exceeds limit of 8192\n"
          ]
        },
        {
          "name": "stderr",
          "output_type": "stream",
          "text": [
            "Processed prompts:  65%|██████▌   | 1301/2000 [02:55<01:16,  9.11it/s, est. speed input: 5893.35 toks/s, output: 1037.40 toks/s]"
          ]
        },
        {
          "name": "stdout",
          "output_type": "stream",
          "text": [
            "WARNING 07-20 18:19:54 scheduler.py:698] Input prompt (11992 tokens) is too long and exceeds limit of 8192\n"
          ]
        },
        {
          "name": "stderr",
          "output_type": "stream",
          "text": [
            "Processed prompts:  69%|██████▉   | 1386/2000 [03:09<01:07,  9.14it/s, est. speed input: 5922.85 toks/s, output: 1029.45 toks/s]"
          ]
        },
        {
          "name": "stdout",
          "output_type": "stream",
          "text": [
            "WARNING 07-20 18:20:07 scheduler.py:698] Input prompt (12912 tokens) is too long and exceeds limit of 8192\n"
          ]
        },
        {
          "name": "stderr",
          "output_type": "stream",
          "text": [
            "Processed prompts:  70%|██████▉   | 1397/2000 [03:10<01:13,  8.18it/s, est. speed input: 5999.60 toks/s, output: 1029.91 toks/s]"
          ]
        },
        {
          "name": "stdout",
          "output_type": "stream",
          "text": [
            "WARNING 07-20 18:20:09 scheduler.py:698] Input prompt (12683 tokens) is too long and exceeds limit of 8192\n"
          ]
        },
        {
          "name": "stderr",
          "output_type": "stream",
          "text": [
            "Processed prompts:  80%|███████▉  | 1591/2000 [03:35<00:37, 10.92it/s, est. speed input: 5956.08 toks/s, output: 1039.03 toks/s]"
          ]
        },
        {
          "name": "stdout",
          "output_type": "stream",
          "text": [
            "WARNING 07-20 18:20:33 scheduler.py:698] Input prompt (16286 tokens) is too long and exceeds limit of 8192\n"
          ]
        },
        {
          "name": "stderr",
          "output_type": "stream",
          "text": [
            "Processed prompts:  81%|████████  | 1622/2000 [03:39<00:43,  8.65it/s, est. speed input: 6005.73 toks/s, output: 1041.70 toks/s]"
          ]
        },
        {
          "name": "stdout",
          "output_type": "stream",
          "text": [
            "WARNING 07-20 18:20:37 scheduler.py:698] Input prompt (8398 tokens) is too long and exceeds limit of 8192\n"
          ]
        },
        {
          "name": "stderr",
          "output_type": "stream",
          "text": [
            "Processed prompts: 100%|██████████| 2000/2000 [04:47<00:00,  6.96it/s, est. speed input: 5597.73 toks/s, output: 1027.97 toks/s]\n"
          ]
        },
        {
          "name": "stdout",
          "output_type": "stream",
          "text": [
            "- Saving texts...\n",
            "- Saved 2000 texts\n",
            "- Processing chunk subset 90000, chunk 4000 to 6000...\n",
            "- Generating summaries...\n"
          ]
        },
        {
          "name": "stderr",
          "output_type": "stream",
          "text": [
            "\rProcessed prompts:   0%|          | 0/2000 [00:00<?, ?it/s, est. speed input: 0.00 toks/s, output: 0.00 toks/s]"
          ]
        },
        {
          "name": "stdout",
          "output_type": "stream",
          "text": [
            "WARNING 07-20 18:21:56 scheduler.py:698] Input prompt (8599 tokens) is too long and exceeds limit of 8192\n"
          ]
        },
        {
          "name": "stderr",
          "output_type": "stream",
          "text": [
            "Processed prompts:   4%|▍         | 86/2000 [00:19<03:42,  8.61it/s, est. speed input: 2556.47 toks/s, output: 475.22 toks/s]"
          ]
        },
        {
          "name": "stdout",
          "output_type": "stream",
          "text": [
            "WARNING 07-20 18:22:12 scheduler.py:698] Input prompt (9055 tokens) is too long and exceeds limit of 8192\n"
          ]
        },
        {
          "name": "stderr",
          "output_type": "stream",
          "text": [
            "Processed prompts:   8%|▊         | 155/2000 [00:30<04:49,  6.37it/s, est. speed input: 4057.01 toks/s, output: 682.44 toks/s]"
          ]
        },
        {
          "name": "stdout",
          "output_type": "stream",
          "text": [
            "WARNING 07-20 18:22:23 scheduler.py:698] Input prompt (8240 tokens) is too long and exceeds limit of 8192\n"
          ]
        },
        {
          "name": "stderr",
          "output_type": "stream",
          "text": [
            "Processed prompts:  28%|██▊       | 565/2000 [01:26<02:37,  9.12it/s, est. speed input: 5050.32 toks/s, output: 922.07 toks/s]"
          ]
        },
        {
          "name": "stdout",
          "output_type": "stream",
          "text": [
            "WARNING 07-20 18:23:19 scheduler.py:698] Input prompt (8265 tokens) is too long and exceeds limit of 8192\n"
          ]
        },
        {
          "name": "stderr",
          "output_type": "stream",
          "text": [
            "Processed prompts:  33%|███▎      | 668/2000 [01:40<02:47,  7.94it/s, est. speed input: 5235.44 toks/s, output: 941.82 toks/s]"
          ]
        },
        {
          "name": "stdout",
          "output_type": "stream",
          "text": [
            "WARNING 07-20 18:23:33 scheduler.py:698] Input prompt (14874 tokens) is too long and exceeds limit of 8192\n"
          ]
        },
        {
          "name": "stderr",
          "output_type": "stream",
          "text": [
            "Processed prompts:  37%|███▋      | 735/2000 [01:51<05:20,  3.94it/s, est. speed input: 5370.68 toks/s, output: 946.55 toks/s]"
          ]
        },
        {
          "name": "stdout",
          "output_type": "stream",
          "text": [
            "WARNING 07-20 18:23:43 scheduler.py:698] Input prompt (9524 tokens) is too long and exceeds limit of 8192\n"
          ]
        },
        {
          "name": "stderr",
          "output_type": "stream",
          "text": [
            "Processed prompts:  53%|█████▎    | 1062/2000 [02:35<01:40,  9.30it/s, est. speed input: 5460.79 toks/s, output: 977.63 toks/s]"
          ]
        },
        {
          "name": "stdout",
          "output_type": "stream",
          "text": [
            "WARNING 07-20 18:24:28 scheduler.py:698] Input prompt (9767 tokens) is too long and exceeds limit of 8192\n"
          ]
        },
        {
          "name": "stderr",
          "output_type": "stream",
          "text": [
            "Processed prompts:  59%|█████▉    | 1186/2000 [02:52<01:20, 10.11it/s, est. speed input: 5551.30 toks/s, output: 985.90 toks/s]"
          ]
        },
        {
          "name": "stdout",
          "output_type": "stream",
          "text": [
            "WARNING 07-20 18:24:45 scheduler.py:698] Input prompt (26410 tokens) is too long and exceeds limit of 8192\n"
          ]
        },
        {
          "name": "stderr",
          "output_type": "stream",
          "text": [
            "Processed prompts:  61%|██████    | 1212/2000 [02:55<02:21,  5.57it/s, est. speed input: 5682.23 toks/s, output: 986.14 toks/s]"
          ]
        },
        {
          "name": "stdout",
          "output_type": "stream",
          "text": [
            "WARNING 07-20 18:24:48 scheduler.py:698] Input prompt (61125 tokens) is too long and exceeds limit of 8192\n"
          ]
        },
        {
          "name": "stderr",
          "output_type": "stream",
          "text": [
            "Processed prompts:  63%|██████▎   | 1254/2000 [03:01<01:35,  7.79it/s, est. speed input: 6014.29 toks/s, output: 993.27 toks/s]"
          ]
        },
        {
          "name": "stdout",
          "output_type": "stream",
          "text": [
            "WARNING 07-20 18:24:53 scheduler.py:698] Input prompt (8320 tokens) is too long and exceeds limit of 8192\n"
          ]
        },
        {
          "name": "stderr",
          "output_type": "stream",
          "text": [
            "Processed prompts:  81%|████████  | 1620/2000 [03:48<00:45,  8.35it/s, est. speed input: 5975.73 toks/s, output: 1016.94 toks/s]"
          ]
        },
        {
          "name": "stdout",
          "output_type": "stream",
          "text": [
            "WARNING 07-20 18:25:40 scheduler.py:698] Input prompt (10541 tokens) is too long and exceeds limit of 8192\n"
          ]
        },
        {
          "name": "stderr",
          "output_type": "stream",
          "text": [
            "Processed prompts: 100%|██████████| 2000/2000 [04:37<00:00,  7.20it/s, est. speed input: 6003.64 toks/s, output: 1050.74 toks/s]\n"
          ]
        },
        {
          "name": "stdout",
          "output_type": "stream",
          "text": [
            "- Saving texts...\n",
            "- Saved 2000 texts\n",
            "- Processing chunk subset 90000, chunk 6000 to 8000...\n",
            "- Generating summaries...\n"
          ]
        },
        {
          "name": "stderr",
          "output_type": "stream",
          "text": [
            "Processed prompts:   3%|▎         | 62/2000 [00:17<03:40,  8.80it/s, est. speed input: 1685.19 toks/s, output: 325.52 toks/s]"
          ]
        },
        {
          "name": "stdout",
          "output_type": "stream",
          "text": [
            "WARNING 07-20 18:26:54 scheduler.py:698] Input prompt (11762 tokens) is too long and exceeds limit of 8192\n"
          ]
        },
        {
          "name": "stderr",
          "output_type": "stream",
          "text": [
            "Processed prompts:  18%|█▊        | 366/2000 [01:01<04:04,  6.70it/s, est. speed input: 4695.23 toks/s, output: 826.75 toks/s]"
          ]
        },
        {
          "name": "stdout",
          "output_type": "stream",
          "text": [
            "WARNING 07-20 18:27:38 scheduler.py:698] Input prompt (8484 tokens) is too long and exceeds limit of 8192\n"
          ]
        },
        {
          "name": "stderr",
          "output_type": "stream",
          "text": [
            "Processed prompts:  26%|██▋       | 526/2000 [01:23<02:58,  8.24it/s, est. speed input: 4922.67 toks/s, output: 909.96 toks/s]"
          ]
        },
        {
          "name": "stdout",
          "output_type": "stream",
          "text": [
            "WARNING 07-20 18:28:00 scheduler.py:698] Input prompt (10226 tokens) is too long and exceeds limit of 8192\n"
          ]
        },
        {
          "name": "stderr",
          "output_type": "stream",
          "text": [
            "Processed prompts:  30%|███       | 603/2000 [01:32<02:02, 11.38it/s, est. speed input: 5046.57 toks/s, output: 934.92 toks/s]"
          ]
        },
        {
          "name": "stdout",
          "output_type": "stream",
          "text": [
            "WARNING 07-20 18:28:09 scheduler.py:698] Input prompt (14520 tokens) is too long and exceeds limit of 8192\n"
          ]
        },
        {
          "name": "stderr",
          "output_type": "stream",
          "text": [
            "Processed prompts:  35%|███▍      | 696/2000 [01:45<03:06,  7.00it/s, est. speed input: 5166.71 toks/s, output: 948.52 toks/s]"
          ]
        },
        {
          "name": "stdout",
          "output_type": "stream",
          "text": [
            "WARNING 07-20 18:28:22 scheduler.py:698] Input prompt (9804 tokens) is too long and exceeds limit of 8192\n"
          ]
        },
        {
          "name": "stderr",
          "output_type": "stream",
          "text": [
            "Processed prompts:  41%|████      | 812/2000 [02:02<02:51,  6.95it/s, est. speed input: 5340.45 toks/s, output: 956.69 toks/s]"
          ]
        },
        {
          "name": "stdout",
          "output_type": "stream",
          "text": [
            "WARNING 07-20 18:28:39 scheduler.py:698] Input prompt (17572 tokens) is too long and exceeds limit of 8192\n"
          ]
        },
        {
          "name": "stderr",
          "output_type": "stream",
          "text": [
            "Processed prompts:  44%|████▍     | 882/2000 [02:12<02:30,  7.41it/s, est. speed input: 5446.66 toks/s, output: 970.03 toks/s]"
          ]
        },
        {
          "name": "stdout",
          "output_type": "stream",
          "text": [
            "WARNING 07-20 18:28:49 scheduler.py:698] Input prompt (11396 tokens) is too long and exceeds limit of 8192\n"
          ]
        },
        {
          "name": "stderr",
          "output_type": "stream",
          "text": [
            "Processed prompts:  80%|███████▉  | 1596/2000 [03:42<00:40,  9.94it/s, est. speed input: 5627.56 toks/s, output: 1024.20 toks/s]"
          ]
        },
        {
          "name": "stdout",
          "output_type": "stream",
          "text": [
            "WARNING 07-20 18:30:19 scheduler.py:698] Input prompt (11349 tokens) is too long and exceeds limit of 8192\n"
          ]
        },
        {
          "name": "stderr",
          "output_type": "stream",
          "text": [
            "Processed prompts:  80%|████████  | 1609/2000 [03:43<00:37, 10.34it/s, est. speed input: 5697.80 toks/s, output: 1027.83 toks/s]"
          ]
        },
        {
          "name": "stdout",
          "output_type": "stream",
          "text": [
            "WARNING 07-20 18:30:20 scheduler.py:698] Input prompt (11755 tokens) is too long and exceeds limit of 8192\n"
          ]
        },
        {
          "name": "stderr",
          "output_type": "stream",
          "text": [
            "Processed prompts:  90%|████████▉ | 1791/2000 [04:07<00:22,  9.21it/s, est. speed input: 5714.85 toks/s, output: 1031.33 toks/s]"
          ]
        },
        {
          "name": "stdout",
          "output_type": "stream",
          "text": [
            "WARNING 07-20 18:30:44 scheduler.py:698] Input prompt (8724 tokens) is too long and exceeds limit of 8192\n"
          ]
        },
        {
          "name": "stderr",
          "output_type": "stream",
          "text": [
            "Processed prompts:  90%|█████████ | 1805/2000 [04:09<00:35,  5.51it/s, est. speed input: 5771.98 toks/s, output: 1030.97 toks/s]"
          ]
        },
        {
          "name": "stdout",
          "output_type": "stream",
          "text": [
            "WARNING 07-20 18:30:46 scheduler.py:698] Input prompt (10309 tokens) is too long and exceeds limit of 8192\n"
          ]
        },
        {
          "name": "stderr",
          "output_type": "stream",
          "text": [
            "Processed prompts: 100%|██████████| 2000/2000 [04:29<00:00,  7.41it/s, est. speed input: 5932.22 toks/s, output: 1068.35 toks/s]\n"
          ]
        },
        {
          "name": "stdout",
          "output_type": "stream",
          "text": [
            "- Saving texts...\n",
            "- Saved 2000 texts\n",
            "- Processing chunk subset 90000, chunk 8000 to 10000...\n",
            "- Generating summaries...\n"
          ]
        },
        {
          "name": "stderr",
          "output_type": "stream",
          "text": [
            "Processed prompts:  14%|█▎        | 274/2000 [00:44<03:33,  8.09it/s, est. speed input: 4142.32 toks/s, output: 815.83 toks/s]"
          ]
        },
        {
          "name": "stdout",
          "output_type": "stream",
          "text": [
            "WARNING 07-20 18:31:58 scheduler.py:698] Input prompt (22637 tokens) is too long and exceeds limit of 8192\n"
          ]
        },
        {
          "name": "stderr",
          "output_type": "stream",
          "text": [
            "Processed prompts:  30%|███       | 609/2000 [01:29<02:47,  8.31it/s, est. speed input: 5159.07 toks/s, output: 932.78 toks/s]"
          ]
        },
        {
          "name": "stdout",
          "output_type": "stream",
          "text": [
            "WARNING 07-20 18:32:44 scheduler.py:698] Input prompt (12893 tokens) is too long and exceeds limit of 8192\n"
          ]
        },
        {
          "name": "stderr",
          "output_type": "stream",
          "text": [
            "Processed prompts:  33%|███▎      | 659/2000 [01:35<02:23,  9.33it/s, est. speed input: 5346.98 toks/s, output: 949.06 toks/s]"
          ]
        },
        {
          "name": "stdout",
          "output_type": "stream",
          "text": [
            "WARNING 07-20 18:32:49 scheduler.py:698] Input prompt (13235 tokens) is too long and exceeds limit of 8192\n"
          ]
        },
        {
          "name": "stderr",
          "output_type": "stream",
          "text": [
            "Processed prompts:  50%|█████     | 1004/2000 [02:18<02:51,  5.80it/s, est. speed input: 5496.42 toks/s, output: 1006.32 toks/s]"
          ]
        },
        {
          "name": "stdout",
          "output_type": "stream",
          "text": [
            "WARNING 07-20 18:33:32 scheduler.py:698] Input prompt (24088 tokens) is too long and exceeds limit of 8192\n"
          ]
        },
        {
          "name": "stderr",
          "output_type": "stream",
          "text": [
            "Processed prompts:  68%|██████▊   | 1351/2000 [03:03<01:46,  6.09it/s, est. speed input: 5635.89 toks/s, output: 1035.52 toks/s]"
          ]
        },
        {
          "name": "stdout",
          "output_type": "stream",
          "text": [
            "WARNING 07-20 18:34:17 scheduler.py:698] Input prompt (9292 tokens) is too long and exceeds limit of 8192\n"
          ]
        },
        {
          "name": "stderr",
          "output_type": "stream",
          "text": [
            "Processed prompts:  70%|██████▉   | 1399/2000 [03:11<01:08,  8.80it/s, est. speed input: 5763.59 toks/s, output: 1029.73 toks/s]"
          ]
        },
        {
          "name": "stdout",
          "output_type": "stream",
          "text": [
            "WARNING 07-20 18:34:25 scheduler.py:698] Input prompt (11676 tokens) is too long and exceeds limit of 8192\n"
          ]
        },
        {
          "name": "stderr",
          "output_type": "stream",
          "text": [
            "Processed prompts:  73%|███████▎  | 1468/2000 [03:20<01:02,  8.48it/s, est. speed input: 5821.10 toks/s, output: 1029.72 toks/s]"
          ]
        },
        {
          "name": "stdout",
          "output_type": "stream",
          "text": [
            "WARNING 07-20 18:34:34 scheduler.py:698] Input prompt (14896 tokens) is too long and exceeds limit of 8192\n"
          ]
        },
        {
          "name": "stderr",
          "output_type": "stream",
          "text": [
            "Processed prompts:  75%|███████▍  | 1495/2000 [03:24<01:14,  6.75it/s, est. speed input: 5881.35 toks/s, output: 1029.58 toks/s]"
          ]
        },
        {
          "name": "stdout",
          "output_type": "stream",
          "text": [
            "WARNING 07-20 18:34:38 scheduler.py:698] Input prompt (10719 tokens) is too long and exceeds limit of 8192\n"
          ]
        },
        {
          "name": "stderr",
          "output_type": "stream",
          "text": [
            "Processed prompts:  76%|███████▋  | 1526/2000 [03:28<00:50,  9.42it/s, est. speed input: 5914.76 toks/s, output: 1031.00 toks/s]"
          ]
        },
        {
          "name": "stdout",
          "output_type": "stream",
          "text": [
            "WARNING 07-20 18:34:42 scheduler.py:698] Input prompt (15747 tokens) is too long and exceeds limit of 8192\n"
          ]
        },
        {
          "name": "stderr",
          "output_type": "stream",
          "text": [
            "Processed prompts:  86%|████████▌ | 1717/2000 [03:52<00:31,  8.86it/s, est. speed input: 5972.80 toks/s, output: 1042.83 toks/s]"
          ]
        },
        {
          "name": "stdout",
          "output_type": "stream",
          "text": [
            "WARNING 07-20 18:35:06 scheduler.py:698] Input prompt (16633 tokens) is too long and exceeds limit of 8192\n"
          ]
        },
        {
          "name": "stderr",
          "output_type": "stream",
          "text": [
            "Processed prompts: 100%|██████████| 2000/2000 [04:28<00:00,  7.44it/s, est. speed input: 6077.18 toks/s, output: 1065.29 toks/s]"
          ]
        },
        {
          "name": "stdout",
          "output_type": "stream",
          "text": [
            "- Saving texts...\n",
            "- Saved 2000 texts\n"
          ]
        },
        {
          "name": "stderr",
          "output_type": "stream",
          "text": [
            "\n"
          ]
        }
      ],
      "source": [
        "if os.path.exists(file_path):\n",
        "    os.remove(file_path)\n",
        "    print(\"- Archivo eliminado exitosamente.\")\n",
        "\n",
        "chunk_subsample = 10000\n",
        "chunk_size = 2000\n",
        "\n",
        "for j in range(0, len(subsample_spanish_dataset), chunk_subsample):\n",
        "  chunk_dataset = subsample_spanish_dataset.select(range(j, min(j + chunk_subsample, len(subsample_spanish_dataset))))\n",
        "  print(f\"- Processing chunk {j} to {j + chunk_subsample}...\")\n",
        "\n",
        "  for i in range(0, len(chunk_dataset), chunk_size):\n",
        "    chunk = chunk_dataset.select(range(i, min(i + chunk_size, len(chunk_dataset))))\n",
        "    print(f\"- Processing chunk subset {j}, chunk {i} to {i + chunk_size}...\")\n",
        "\n",
        "    chunk_texts = []\n",
        "    prompts = []\n",
        "\n",
        "    # process chunk\n",
        "    for data in chunk:\n",
        "      prompts.append(generate_prompt(data['text']))\n",
        "\n",
        "    # Generate summaries\n",
        "    print(\"- Generating summaries...\")\n",
        "    summary_output = model.generate(prompts=prompts, sampling_params=sampling_params)\n",
        "\n",
        "    # Extract text\n",
        "    for item in summary_output:\n",
        "      text = item.outputs[0].text\n",
        "      chunk_texts.append(text)\n",
        "\n",
        "    print(\"- Saving texts...\")\n",
        "    save_text(chunk_texts)"
      ]
    }
  ],
  "metadata": {
    "accelerator": "GPU",
    "colab": {
      "gpuType": "A100",
      "machine_shape": "hm",
      "provenance": []
    },
    "kernelspec": {
      "display_name": "Python 3",
      "name": "python3"
    },
    "language_info": {
      "name": "python"
    }
  },
  "nbformat": 4,
  "nbformat_minor": 0
}
